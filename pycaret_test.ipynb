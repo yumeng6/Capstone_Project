{
 "cells": [
  {
   "cell_type": "markdown",
   "metadata": {
    "id": "ujeiPIoTAe5f"
   },
   "source": [
    "## Capstone Project"
   ]
  },
  {
   "cell_type": "code",
   "execution_count": 30,
   "metadata": {
    "colab": {
     "base_uri": "https://localhost:8080/"
    },
    "id": "PeB660mvezrD",
    "outputId": "21b43384-c65f-4ba5-a201-f7af52ed81c0"
   },
   "outputs": [
    {
     "name": "stdout",
     "output_type": "stream",
     "text": [
      "Collecting pycaret\n",
      "  Using cached pycaret-2.2.2-py3-none-any.whl (249 kB)\n",
      "Collecting pyLDAvis\n",
      "  Downloading pyLDAvis-2.1.2.tar.gz (1.6 MB)\n",
      "Collecting cufflinks>=0.17.0\n",
      "  Downloading cufflinks-0.17.3.tar.gz (81 kB)\n",
      "Collecting mlxtend\n",
      "  Downloading mlxtend-0.18.0-py2.py3-none-any.whl (1.3 MB)\n",
      "Requirement already satisfied: matplotlib in e:\\users\\prade\\anaconda3\\lib\\site-packages (from pycaret) (3.3.2)\n",
      "Collecting textblob\n",
      "  Downloading textblob-0.15.3-py2.py3-none-any.whl (636 kB)\n",
      "Requirement already satisfied: numpy>=1.17 in e:\\users\\prade\\anaconda3\\lib\\site-packages (from pycaret) (1.19.2)\n",
      "Collecting mlflow\n",
      "  Downloading mlflow-1.12.1-py3-none-any.whl (13.9 MB)\n",
      "Requirement already satisfied: pandas in e:\\users\\prade\\anaconda3\\lib\\site-packages (from pycaret) (1.1.3)\n",
      "Collecting lightgbm>=2.3.1\n",
      "  Using cached lightgbm-3.1.1-py2.py3-none-win_amd64.whl (754 kB)\n",
      "Requirement already satisfied: ipywidgets in e:\\users\\prade\\anaconda3\\lib\\site-packages (from pycaret) (7.5.1)\n",
      "Requirement already satisfied: joblib in e:\\users\\prade\\anaconda3\\lib\\site-packages (from pycaret) (0.17.0)\n",
      "Collecting umap-learn\n",
      "  Using cached umap-learn-0.4.6.tar.gz (69 kB)\n",
      "Collecting xgboost>=1.1.0\n",
      "  Using cached xgboost-1.3.0.post0-py3-none-win_amd64.whl (95.2 MB)\n",
      "Collecting pyod\n",
      "  Downloading pyod-0.8.4.tar.gz (98 kB)\n",
      "Collecting scikit-plot\n",
      "  Downloading scikit_plot-0.3.7-py3-none-any.whl (33 kB)\n",
      "Requirement already satisfied: nltk in e:\\users\\prade\\anaconda3\\lib\\site-packages (from pycaret) (3.5)\n",
      "Requirement already satisfied: scikit-learn>=0.23.2 in e:\\users\\prade\\anaconda3\\lib\\site-packages (from pycaret) (0.23.2)\n",
      "Requirement already satisfied: IPython in e:\\users\\prade\\anaconda3\\lib\\site-packages (from pycaret) (7.19.0)\n",
      "Collecting gensim\n",
      "  Downloading gensim-3.8.3-cp38-cp38-win_amd64.whl (24.2 MB)\n",
      "Requirement already satisfied: plotly>=4.4.1 in e:\\users\\prade\\anaconda3\\lib\\site-packages (from pycaret) (4.14.1)\n",
      "Collecting wordcloud\n",
      "  Downloading wordcloud-1.8.1-cp38-cp38-win_amd64.whl (155 kB)\n",
      "Collecting pandas-profiling>=2.8.0\n",
      "  Using cached pandas_profiling-2.9.0-py2.py3-none-any.whl (258 kB)\n",
      "Collecting kmodes>=0.10.1\n",
      "  Using cached kmodes-0.10.2-py2.py3-none-any.whl (18 kB)\n",
      "Collecting spacy\n",
      "  Using cached spacy-2.3.5-cp38-cp38-win_amd64.whl (9.7 MB)\n",
      "Collecting yellowbrick>=1.0.1\n",
      "  Downloading yellowbrick-1.2-py3-none-any.whl (269 kB)\n",
      "Collecting catboost>=0.23.2\n",
      "  Downloading catboost-0.24.3-cp38-none-win_amd64.whl (65.4 MB)\n",
      "Collecting imbalanced-learn>=0.7.0\n",
      "  Downloading imbalanced_learn-0.7.0-py3-none-any.whl (167 kB)\n",
      "Requirement already satisfied: seaborn in e:\\users\\prade\\anaconda3\\lib\\site-packages (from pycaret) (0.11.0)\n",
      "Requirement already satisfied: wheel>=0.23.0 in e:\\users\\prade\\anaconda3\\lib\\site-packages (from pyLDAvis->pycaret) (0.35.1)\n",
      "Requirement already satisfied: scipy>=0.18.0 in e:\\users\\prade\\anaconda3\\lib\\site-packages (from pyLDAvis->pycaret) (1.5.2)\n",
      "Requirement already satisfied: jinja2>=2.7.2 in e:\\users\\prade\\anaconda3\\lib\\site-packages (from pyLDAvis->pycaret) (2.11.2)\n",
      "Requirement already satisfied: numexpr in e:\\users\\prade\\anaconda3\\lib\\site-packages (from pyLDAvis->pycaret) (2.7.1)\n",
      "Requirement already satisfied: pytest in e:\\users\\prade\\anaconda3\\lib\\site-packages (from pyLDAvis->pycaret) (0.0.0)\n",
      "Requirement already satisfied: future in e:\\users\\prade\\anaconda3\\lib\\site-packages (from pyLDAvis->pycaret) (0.18.2)\n",
      "Collecting funcy\n",
      "  Downloading funcy-1.15-py2.py3-none-any.whl (32 kB)\n",
      "Requirement already satisfied: six>=1.9.0 in e:\\users\\prade\\anaconda3\\lib\\site-packages (from cufflinks>=0.17.0->pycaret) (1.15.0)\n",
      "Collecting colorlover>=0.2.1\n",
      "  Downloading colorlover-0.3.0-py3-none-any.whl (8.9 kB)\n",
      "Requirement already satisfied: setuptools>=34.4.1 in e:\\users\\prade\\anaconda3\\lib\\site-packages (from cufflinks>=0.17.0->pycaret) (50.3.1.post20201107)\n",
      "Requirement already satisfied: certifi>=2020.06.20 in e:\\users\\prade\\anaconda3\\lib\\site-packages (from matplotlib->pycaret) (2020.6.20)\n",
      "Requirement already satisfied: pillow>=6.2.0 in e:\\users\\prade\\anaconda3\\lib\\site-packages (from matplotlib->pycaret) (8.0.1)\n",
      "Requirement already satisfied: kiwisolver>=1.0.1 in e:\\users\\prade\\anaconda3\\lib\\site-packages (from matplotlib->pycaret) (1.3.0)\n",
      "Requirement already satisfied: cycler>=0.10 in e:\\users\\prade\\anaconda3\\lib\\site-packages (from matplotlib->pycaret) (0.10.0)\n",
      "Requirement already satisfied: pyparsing!=2.0.4,!=2.1.2,!=2.1.6,>=2.0.3 in e:\\users\\prade\\anaconda3\\lib\\site-packages (from matplotlib->pycaret) (2.4.7)\n",
      "Requirement already satisfied: python-dateutil>=2.1 in e:\\users\\prade\\anaconda3\\lib\\site-packages (from matplotlib->pycaret) (2.8.1)\n",
      "Requirement already satisfied: Flask in e:\\users\\prade\\anaconda3\\lib\\site-packages (from mlflow->pycaret) (1.1.2)\n",
      "Collecting querystring-parser\n",
      "  Downloading querystring_parser-1.2.4-py2.py3-none-any.whl (7.9 kB)\n",
      "Collecting waitress; platform_system == \"Windows\"\n",
      "  Downloading waitress-1.4.4-py2.py3-none-any.whl (58 kB)\n",
      "Requirement already satisfied: requests>=2.17.3 in e:\\users\\prade\\anaconda3\\lib\\site-packages (from mlflow->pycaret) (2.24.0)\n",
      "Collecting gitpython>=2.1.0\n",
      "  Downloading GitPython-3.1.11-py3-none-any.whl (159 kB)\n",
      "Collecting sqlparse>=0.3.1\n",
      "  Downloading sqlparse-0.4.1-py3-none-any.whl (42 kB)\n",
      "Requirement already satisfied: click>=7.0 in e:\\users\\prade\\anaconda3\\lib\\site-packages (from mlflow->pycaret) (7.1.2)\n",
      "Requirement already satisfied: entrypoints in e:\\users\\prade\\anaconda3\\lib\\site-packages (from mlflow->pycaret) (0.3)\n",
      "Collecting docker>=4.0.0\n",
      "  Downloading docker-4.4.0-py2.py3-none-any.whl (146 kB)\n",
      "Requirement already satisfied: cloudpickle in e:\\users\\prade\\anaconda3\\lib\\site-packages (from mlflow->pycaret) (1.6.0)\n",
      "Requirement already satisfied: sqlalchemy in e:\\users\\prade\\anaconda3\\lib\\site-packages (from mlflow->pycaret) (1.3.20)\n",
      "Collecting protobuf>=3.6.0\n",
      "  Downloading protobuf-3.14.0-py2.py3-none-any.whl (173 kB)\n",
      "Collecting azure-storage-blob\n",
      "  Downloading azure_storage_blob-12.6.0-py2.py3-none-any.whl (328 kB)\n",
      "Collecting prometheus-flask-exporter\n",
      "  Downloading prometheus_flask_exporter-0.18.1.tar.gz (21 kB)\n",
      "Collecting databricks-cli>=0.8.7\n",
      "  Downloading databricks-cli-0.14.1.tar.gz (54 kB)\n",
      "Collecting alembic<=1.4.1\n",
      "  Downloading alembic-1.4.1.tar.gz (1.1 MB)\n",
      "Requirement already satisfied: pyyaml in e:\\users\\prade\\anaconda3\\lib\\site-packages (from mlflow->pycaret) (5.3.1)\n",
      "Requirement already satisfied: pytz>=2017.2 in e:\\users\\prade\\anaconda3\\lib\\site-packages (from pandas->pycaret) (2020.1)\n",
      "Requirement already satisfied: ipykernel>=4.5.1 in e:\\users\\prade\\anaconda3\\lib\\site-packages (from ipywidgets->pycaret) (5.3.4)\n",
      "Requirement already satisfied: nbformat>=4.2.0 in e:\\users\\prade\\anaconda3\\lib\\site-packages (from ipywidgets->pycaret) (5.0.8)\n",
      "Requirement already satisfied: widgetsnbextension~=3.5.0 in e:\\users\\prade\\anaconda3\\lib\\site-packages (from ipywidgets->pycaret) (3.5.1)\n",
      "Requirement already satisfied: traitlets>=4.3.1 in e:\\users\\prade\\anaconda3\\lib\\site-packages (from ipywidgets->pycaret) (5.0.5)\n",
      "Requirement already satisfied: numba!=0.47,>=0.46 in e:\\users\\prade\\anaconda3\\lib\\site-packages (from umap-learn->pycaret) (0.51.2)\n",
      "Collecting combo\n",
      "  Downloading combo-0.1.1.tar.gz (37 kB)\n",
      "Requirement already satisfied: statsmodels in e:\\users\\prade\\anaconda3\\lib\\site-packages (from pyod->pycaret) (0.12.0)\n",
      "Collecting suod\n",
      "  Downloading suod-0.0.4.tar.gz (2.1 MB)\n",
      "Requirement already satisfied: tqdm in e:\\users\\prade\\anaconda3\\lib\\site-packages (from nltk->pycaret) (4.50.2)\n",
      "Requirement already satisfied: regex in e:\\users\\prade\\anaconda3\\lib\\site-packages (from nltk->pycaret) (2020.10.15)\n",
      "Requirement already satisfied: threadpoolctl>=2.0.0 in e:\\users\\prade\\anaconda3\\lib\\site-packages (from scikit-learn>=0.23.2->pycaret) (2.1.0)\n",
      "Requirement already satisfied: decorator in e:\\users\\prade\\anaconda3\\lib\\site-packages (from IPython->pycaret) (4.4.2)\n",
      "Requirement already satisfied: prompt-toolkit!=3.0.0,!=3.0.1,<3.1.0,>=2.0.0 in e:\\users\\prade\\anaconda3\\lib\\site-packages (from IPython->pycaret) (3.0.8)\n",
      "Requirement already satisfied: pygments in e:\\users\\prade\\anaconda3\\lib\\site-packages (from IPython->pycaret) (2.7.2)\n",
      "Requirement already satisfied: colorama; sys_platform == \"win32\" in e:\\users\\prade\\anaconda3\\lib\\site-packages (from IPython->pycaret) (0.4.4)\n",
      "Requirement already satisfied: pickleshare in e:\\users\\prade\\anaconda3\\lib\\site-packages (from IPython->pycaret) (0.7.5)\n",
      "Requirement already satisfied: backcall in e:\\users\\prade\\anaconda3\\lib\\site-packages (from IPython->pycaret) (0.2.0)\n",
      "Requirement already satisfied: jedi>=0.10 in e:\\users\\prade\\anaconda3\\lib\\site-packages (from IPython->pycaret) (0.17.1)\n",
      "Collecting smart-open>=1.8.1\n",
      "  Downloading smart_open-4.0.1.tar.gz (117 kB)\n",
      "Collecting Cython==0.29.14\n",
      "  Downloading Cython-0.29.14-cp38-cp38-win_amd64.whl (1.7 MB)\n",
      "Requirement already satisfied: retrying>=1.3.3 in e:\\users\\prade\\anaconda3\\lib\\site-packages (from plotly>=4.4.1->pycaret) (1.3.3)\n",
      "Requirement already satisfied: attrs>=19.3.0 in e:\\users\\prade\\anaconda3\\lib\\site-packages (from pandas-profiling>=2.8.0->pycaret) (20.3.0)\n",
      "Collecting htmlmin>=0.1.12\n",
      "  Downloading htmlmin-0.1.12.tar.gz (19 kB)\n",
      "Collecting visions[type_image_path]==0.5.0\n",
      "  Downloading visions-0.5.0-py3-none-any.whl (64 kB)\n",
      "Collecting missingno>=0.4.2\n",
      "  Downloading missingno-0.4.2-py3-none-any.whl (9.7 kB)\n",
      "Collecting confuse>=1.0.0\n",
      "  Downloading confuse-1.4.0-py2.py3-none-any.whl (21 kB)\n",
      "Collecting tangled-up-in-unicode>=0.0.6\n",
      "  Downloading tangled_up_in_unicode-0.0.6-py3-none-any.whl (3.1 MB)\n",
      "Collecting phik>=0.9.10\n",
      "  Downloading phik-0.10.0-py3-none-any.whl (599 kB)\n",
      "Collecting srsly<1.1.0,>=1.0.2\n",
      "  Downloading srsly-1.0.5-cp38-cp38-win_amd64.whl (178 kB)\n",
      "Collecting catalogue<1.1.0,>=0.0.7\n",
      "  Downloading catalogue-1.0.0-py2.py3-none-any.whl (7.7 kB)\n",
      "Collecting murmurhash<1.1.0,>=0.28.0\n",
      "  Downloading murmurhash-1.0.5-cp38-cp38-win_amd64.whl (21 kB)\n",
      "Collecting thinc<7.5.0,>=7.4.1\n",
      "  Downloading thinc-7.4.5-cp38-cp38-win_amd64.whl (910 kB)\n",
      "Collecting blis<0.8.0,>=0.4.0\n",
      "  Downloading blis-0.7.4-cp38-cp38-win_amd64.whl (6.5 MB)\n",
      "Collecting wasabi<1.1.0,>=0.4.0\n",
      "  Downloading wasabi-0.8.0-py3-none-any.whl (23 kB)\n",
      "Collecting cymem<2.1.0,>=2.0.2\n",
      "  Downloading cymem-2.0.5-cp38-cp38-win_amd64.whl (36 kB)\n",
      "Collecting preshed<3.1.0,>=3.0.2\n",
      "  Using cached preshed-3.0.5-cp38-cp38-win_amd64.whl (112 kB)\n",
      "Collecting plac<1.2.0,>=0.9.6\n",
      "  Using cached plac-1.1.3-py2.py3-none-any.whl (20 kB)\n",
      "Collecting graphviz\n",
      "  Downloading graphviz-0.15-py2.py3-none-any.whl (18 kB)\n",
      "Requirement already satisfied: MarkupSafe>=0.23 in e:\\users\\prade\\anaconda3\\lib\\site-packages (from jinja2>=2.7.2->pyLDAvis->pycaret) (1.1.1)\n",
      "Requirement already satisfied: iniconfig in e:\\users\\prade\\anaconda3\\lib\\site-packages (from pytest->pyLDAvis->pycaret) (1.1.1)\n",
      "Requirement already satisfied: packaging in e:\\users\\prade\\anaconda3\\lib\\site-packages (from pytest->pyLDAvis->pycaret) (20.4)\n",
      "Requirement already satisfied: pluggy<1.0,>=0.12 in e:\\users\\prade\\anaconda3\\lib\\site-packages (from pytest->pyLDAvis->pycaret) (0.13.1)\n",
      "Requirement already satisfied: py>=1.8.2 in e:\\users\\prade\\anaconda3\\lib\\site-packages (from pytest->pyLDAvis->pycaret) (1.9.0)\n",
      "Requirement already satisfied: toml in e:\\users\\prade\\anaconda3\\lib\\site-packages (from pytest->pyLDAvis->pycaret) (0.10.1)\n",
      "Requirement already satisfied: atomicwrites>=1.0 in e:\\users\\prade\\anaconda3\\lib\\site-packages (from pytest->pyLDAvis->pycaret) (1.4.0)\n",
      "Requirement already satisfied: itsdangerous>=0.24 in e:\\users\\prade\\anaconda3\\lib\\site-packages (from Flask->mlflow->pycaret) (1.1.0)\n",
      "Requirement already satisfied: Werkzeug>=0.15 in e:\\users\\prade\\anaconda3\\lib\\site-packages (from Flask->mlflow->pycaret) (1.0.1)\n",
      "Requirement already satisfied: chardet<4,>=3.0.2 in e:\\users\\prade\\anaconda3\\lib\\site-packages (from requests>=2.17.3->mlflow->pycaret) (3.0.4)\n",
      "Requirement already satisfied: idna<3,>=2.5 in e:\\users\\prade\\anaconda3\\lib\\site-packages (from requests>=2.17.3->mlflow->pycaret) (2.10)\n",
      "Requirement already satisfied: urllib3!=1.25.0,!=1.25.1,<1.26,>=1.21.1 in e:\\users\\prade\\anaconda3\\lib\\site-packages (from requests>=2.17.3->mlflow->pycaret) (1.25.11)\n",
      "Collecting gitdb<5,>=4.0.1\n",
      "  Downloading gitdb-4.0.5-py3-none-any.whl (63 kB)\n",
      "Requirement already satisfied: pywin32==227; sys_platform == \"win32\" in e:\\users\\prade\\anaconda3\\lib\\site-packages (from docker>=4.0.0->mlflow->pycaret) (227)\n",
      "Collecting websocket-client>=0.32.0\n",
      "  Downloading websocket_client-0.57.0-py2.py3-none-any.whl (200 kB)\n",
      "Collecting msrest>=0.6.10\n",
      "  Downloading msrest-0.6.19-py2.py3-none-any.whl (84 kB)\n",
      "Collecting azure-core<2.0.0,>=1.9.0\n",
      "  Downloading azure_core-1.9.0-py2.py3-none-any.whl (124 kB)\n",
      "Requirement already satisfied: cryptography>=2.1.4 in e:\\users\\prade\\anaconda3\\lib\\site-packages (from azure-storage-blob->mlflow->pycaret) (3.1.1)\n",
      "Requirement already satisfied: prometheus_client in e:\\users\\prade\\anaconda3\\lib\\site-packages (from prometheus-flask-exporter->mlflow->pycaret) (0.8.0)\n",
      "Collecting tabulate>=0.7.7\n",
      "  Downloading tabulate-0.8.7-py3-none-any.whl (24 kB)\n",
      "Collecting Mako\n",
      "  Downloading Mako-1.1.3-py2.py3-none-any.whl (75 kB)\n",
      "Collecting python-editor>=0.3\n",
      "  Downloading python_editor-1.0.4-py3-none-any.whl (4.9 kB)\n",
      "Requirement already satisfied: jupyter-client in e:\\users\\prade\\anaconda3\\lib\\site-packages (from ipykernel>=4.5.1->ipywidgets->pycaret) (6.1.7)\n",
      "Requirement already satisfied: tornado>=4.2 in e:\\users\\prade\\anaconda3\\lib\\site-packages (from ipykernel>=4.5.1->ipywidgets->pycaret) (6.0.4)\n",
      "Requirement already satisfied: jsonschema!=2.5.0,>=2.4 in e:\\users\\prade\\anaconda3\\lib\\site-packages (from nbformat>=4.2.0->ipywidgets->pycaret) (3.2.0)\n",
      "Requirement already satisfied: ipython-genutils in e:\\users\\prade\\anaconda3\\lib\\site-packages (from nbformat>=4.2.0->ipywidgets->pycaret) (0.2.0)\n",
      "Requirement already satisfied: jupyter-core in e:\\users\\prade\\anaconda3\\lib\\site-packages (from nbformat>=4.2.0->ipywidgets->pycaret) (4.6.3)\n",
      "Requirement already satisfied: notebook>=4.4.1 in e:\\users\\prade\\anaconda3\\lib\\site-packages (from widgetsnbextension~=3.5.0->ipywidgets->pycaret) (6.1.4)\n",
      "Requirement already satisfied: llvmlite<0.35,>=0.34.0.dev0 in e:\\users\\prade\\anaconda3\\lib\\site-packages (from numba!=0.47,>=0.46->umap-learn->pycaret) (0.34.0)\n",
      "Requirement already satisfied: patsy>=0.5 in e:\\users\\prade\\anaconda3\\lib\\site-packages (from statsmodels->pyod->pycaret) (0.5.1)\n",
      "Requirement already satisfied: wcwidth in e:\\users\\prade\\anaconda3\\lib\\site-packages (from prompt-toolkit!=3.0.0,!=3.0.1,<3.1.0,>=2.0.0->IPython->pycaret) (0.2.5)\n",
      "Requirement already satisfied: parso<0.8.0,>=0.7.0 in e:\\users\\prade\\anaconda3\\lib\\site-packages (from jedi>=0.10->IPython->pycaret) (0.7.0)\n",
      "Requirement already satisfied: networkx>=2.4 in e:\\users\\prade\\anaconda3\\lib\\site-packages (from visions[type_image_path]==0.5.0->pandas-profiling>=2.8.0->pycaret) (2.5)\n",
      "Collecting imagehash; extra == \"type_image_path\"\n",
      "  Downloading ImageHash-4.2.0-py2.py3-none-any.whl (295 kB)\n",
      "Collecting smmap<4,>=3.0.1\n",
      "  Downloading smmap-3.0.4-py2.py3-none-any.whl (25 kB)\n",
      "Collecting isodate>=0.6.0\n",
      "  Downloading isodate-0.6.0-py2.py3-none-any.whl (45 kB)\n",
      "Collecting requests-oauthlib>=0.5.0\n",
      "  Downloading requests_oauthlib-1.3.0-py2.py3-none-any.whl (23 kB)\n",
      "Requirement already satisfied: cffi!=1.11.3,>=1.8 in e:\\users\\prade\\anaconda3\\lib\\site-packages (from cryptography>=2.1.4->azure-storage-blob->mlflow->pycaret) (1.14.3)\n",
      "Requirement already satisfied: pyzmq>=13 in e:\\users\\prade\\anaconda3\\lib\\site-packages (from jupyter-client->ipykernel>=4.5.1->ipywidgets->pycaret) (19.0.2)\n",
      "Requirement already satisfied: pyrsistent>=0.14.0 in e:\\users\\prade\\anaconda3\\lib\\site-packages (from jsonschema!=2.5.0,>=2.4->nbformat>=4.2.0->ipywidgets->pycaret) (0.17.3)\n",
      "Requirement already satisfied: terminado>=0.8.3 in e:\\users\\prade\\anaconda3\\lib\\site-packages (from notebook>=4.4.1->widgetsnbextension~=3.5.0->ipywidgets->pycaret) (0.9.1)\n",
      "Requirement already satisfied: Send2Trash in e:\\users\\prade\\anaconda3\\lib\\site-packages (from notebook>=4.4.1->widgetsnbextension~=3.5.0->ipywidgets->pycaret) (1.5.0)\n",
      "Requirement already satisfied: nbconvert in e:\\users\\prade\\anaconda3\\lib\\site-packages (from notebook>=4.4.1->widgetsnbextension~=3.5.0->ipywidgets->pycaret) (6.0.7)\n",
      "Requirement already satisfied: argon2-cffi in e:\\users\\prade\\anaconda3\\lib\\site-packages (from notebook>=4.4.1->widgetsnbextension~=3.5.0->ipywidgets->pycaret) (20.1.0)\n",
      "Requirement already satisfied: PyWavelets in e:\\users\\prade\\anaconda3\\lib\\site-packages (from imagehash; extra == \"type_image_path\"->visions[type_image_path]==0.5.0->pandas-profiling>=2.8.0->pycaret) (1.1.1)\n",
      "Collecting oauthlib>=3.0.0\n",
      "  Downloading oauthlib-3.1.0-py2.py3-none-any.whl (147 kB)\n",
      "Requirement already satisfied: pycparser in e:\\users\\prade\\anaconda3\\lib\\site-packages (from cffi!=1.11.3,>=1.8->cryptography>=2.1.4->azure-storage-blob->mlflow->pycaret) (2.20)\n",
      "Requirement already satisfied: pywinpty>=0.5 in e:\\users\\prade\\anaconda3\\lib\\site-packages (from terminado>=0.8.3->notebook>=4.4.1->widgetsnbextension~=3.5.0->ipywidgets->pycaret) (0.5.7)\n",
      "Requirement already satisfied: defusedxml in e:\\users\\prade\\anaconda3\\lib\\site-packages (from nbconvert->notebook>=4.4.1->widgetsnbextension~=3.5.0->ipywidgets->pycaret) (0.6.0)\n",
      "Requirement already satisfied: pandocfilters>=1.4.1 in e:\\users\\prade\\anaconda3\\lib\\site-packages (from nbconvert->notebook>=4.4.1->widgetsnbextension~=3.5.0->ipywidgets->pycaret) (1.4.3)\n",
      "Requirement already satisfied: bleach in e:\\users\\prade\\anaconda3\\lib\\site-packages (from nbconvert->notebook>=4.4.1->widgetsnbextension~=3.5.0->ipywidgets->pycaret) (3.2.1)\n",
      "Requirement already satisfied: jupyterlab-pygments in e:\\users\\prade\\anaconda3\\lib\\site-packages (from nbconvert->notebook>=4.4.1->widgetsnbextension~=3.5.0->ipywidgets->pycaret) (0.1.2)\n",
      "Requirement already satisfied: testpath in e:\\users\\prade\\anaconda3\\lib\\site-packages (from nbconvert->notebook>=4.4.1->widgetsnbextension~=3.5.0->ipywidgets->pycaret) (0.4.4)\n",
      "Requirement already satisfied: mistune<2,>=0.8.1 in e:\\users\\prade\\anaconda3\\lib\\site-packages (from nbconvert->notebook>=4.4.1->widgetsnbextension~=3.5.0->ipywidgets->pycaret) (0.8.4)\n",
      "Requirement already satisfied: nbclient<0.6.0,>=0.5.0 in e:\\users\\prade\\anaconda3\\lib\\site-packages (from nbconvert->notebook>=4.4.1->widgetsnbextension~=3.5.0->ipywidgets->pycaret) (0.5.1)\n",
      "Requirement already satisfied: webencodings in e:\\users\\prade\\anaconda3\\lib\\site-packages (from bleach->nbconvert->notebook>=4.4.1->widgetsnbextension~=3.5.0->ipywidgets->pycaret) (0.5.1)\n",
      "Requirement already satisfied: async-generator in e:\\users\\prade\\anaconda3\\lib\\site-packages (from nbclient<0.6.0,>=0.5.0->nbconvert->notebook>=4.4.1->widgetsnbextension~=3.5.0->ipywidgets->pycaret) (1.10)\n",
      "Requirement already satisfied: nest-asyncio in e:\\users\\prade\\anaconda3\\lib\\site-packages (from nbclient<0.6.0,>=0.5.0->nbconvert->notebook>=4.4.1->widgetsnbextension~=3.5.0->ipywidgets->pycaret) (1.4.2)\n",
      "Building wheels for collected packages: pyLDAvis, cufflinks, umap-learn, pyod, prometheus-flask-exporter, databricks-cli, alembic, combo, suod, smart-open, htmlmin\n",
      "  Building wheel for pyLDAvis (setup.py): started\n",
      "  Building wheel for pyLDAvis (setup.py): finished with status 'done'\n",
      "  Created wheel for pyLDAvis: filename=pyLDAvis-2.1.2-py2.py3-none-any.whl size=97717 sha256=c868f1893a3e2f9dd33e13a8ba58d961a28ea3f8c430aec938f0f49e95f7df7e\n",
      "  Stored in directory: c:\\users\\prade\\appdata\\local\\pip\\cache\\wheels\\31\\8c\\a0\\24a443892f2134e691d59c8c6c35e19821e02f85e49871f8fd\n",
      "  Building wheel for cufflinks (setup.py): started\n",
      "  Building wheel for cufflinks (setup.py): finished with status 'done'\n",
      "  Created wheel for cufflinks: filename=cufflinks-0.17.3-py3-none-any.whl size=68727 sha256=a190b89e8f757ef15cd2c4fc57c95c63aa3bd877618d9db2ec0a70493dcc0d70\n",
      "  Stored in directory: c:\\users\\prade\\appdata\\local\\pip\\cache\\wheels\\6b\\76\\62\\6da97734911ffcbdd559fd1a3f28526321f0ae699182a23866\n",
      "  Building wheel for umap-learn (setup.py): started\n",
      "  Building wheel for umap-learn (setup.py): finished with status 'done'\n",
      "  Created wheel for umap-learn: filename=umap_learn-0.4.6-py3-none-any.whl size=67957 sha256=86ee736d21d193da674c201c634e548c9250a8414c0d8f4f48531764d21d358a\n",
      "  Stored in directory: c:\\users\\prade\\appdata\\local\\pip\\cache\\wheels\\9c\\18\\d0\\2bcf7df75d19c6ca6ff8097b12abd4c46879e9a8275e93e651\n",
      "  Building wheel for pyod (setup.py): started\n",
      "  Building wheel for pyod (setup.py): finished with status 'done'\n",
      "  Created wheel for pyod: filename=pyod-0.8.4-py3-none-any.whl size=112086 sha256=3431ef02b839f1ec5ef128a2d74ec9ef6e6eb4279cb24cf3845d7dda3d3b4724\n",
      "  Stored in directory: c:\\users\\prade\\appdata\\local\\pip\\cache\\wheels\\4d\\c9\\2a\\8c640af5672226224fc484203103e95aa7c319b55f3a1503da\n",
      "  Building wheel for prometheus-flask-exporter (setup.py): started\n",
      "  Building wheel for prometheus-flask-exporter (setup.py): finished with status 'done'\n",
      "  Created wheel for prometheus-flask-exporter: filename=prometheus_flask_exporter-0.18.1-py3-none-any.whl size=17162 sha256=1022f1e54feecc250b142b35f7d673be67b74c406577f96fb7ca88958d73ade0\n",
      "  Stored in directory: c:\\users\\prade\\appdata\\local\\pip\\cache\\wheels\\12\\1a\\8d\\0c016e06370d07f82def661b6cb7d91d4e6b4ff7f2982e9f2c\n",
      "  Building wheel for databricks-cli (setup.py): started\n",
      "  Building wheel for databricks-cli (setup.py): finished with status 'done'\n",
      "  Created wheel for databricks-cli: filename=databricks_cli-0.14.1-py3-none-any.whl size=100583 sha256=47a1def90fcc45363d0dc40a1510d2ce86853b867c9a9e3bbdb56b986cf1ecf3\n",
      "  Stored in directory: c:\\users\\prade\\appdata\\local\\pip\\cache\\wheels\\f8\\a7\\7c\\74d614edb0dea04c3bb450951ec35c8f62aa197302ad2c3baa\n",
      "  Building wheel for alembic (setup.py): started\n",
      "  Building wheel for alembic (setup.py): finished with status 'done'\n",
      "  Created wheel for alembic: filename=alembic-1.4.1-py2.py3-none-any.whl size=158162 sha256=bcb9aa144af3eeba92ca37a04bb0dca21bfd1adc0cfff616f933a23ada9dd5fc\n",
      "  Stored in directory: c:\\users\\prade\\appdata\\local\\pip\\cache\\wheels\\9d\\de\\6d\\ca8d461ec29e010b1267d7353d0b058819770f7680bb9360e4\n",
      "  Building wheel for combo (setup.py): started\n",
      "  Building wheel for combo (setup.py): finished with status 'done'\n",
      "  Created wheel for combo: filename=combo-0.1.1-py3-none-any.whl size=42118 sha256=620340ed0408c8e5cf80acf5fee9268a200749104614b92ecf6d6b6de5b4d8e0\n",
      "  Stored in directory: c:\\users\\prade\\appdata\\local\\pip\\cache\\wheels\\8e\\fb\\da\\bc0298ecebccef4f00ee490f70e08b3de23f45fec8173c129c\n"
     ]
    },
    {
     "name": "stderr",
     "output_type": "stream",
     "text": [
      "ERROR: Could not install packages due to an EnvironmentError: [WinError 32] The process cannot access the file because it is being used by another process: 'e:\\\\Users\\\\prade\\\\anaconda3\\\\Lib\\\\site-packages\\\\catboost\\\\_catboost.pyd'\n",
      "Consider using the `--user` option or check the permissions.\n",
      "\n"
     ]
    },
    {
     "name": "stdout",
     "output_type": "stream",
     "text": [
      "  Building wheel for suod (setup.py): started\n",
      "  Building wheel for suod (setup.py): finished with status 'done'\n",
      "  Created wheel for suod: filename=suod-0.0.4-py3-none-any.whl size=2167162 sha256=ae11feafe94c6085800de9f439fef5bee097885bce58c7b9cf34ba06c10af404\n",
      "  Stored in directory: c:\\users\\prade\\appdata\\local\\pip\\cache\\wheels\\ad\\1a\\f5\\973bd291c9772840f1ae9a1e40e4f2522b786db241ad570e91\n",
      "  Building wheel for smart-open (setup.py): started\n",
      "  Building wheel for smart-open (setup.py): finished with status 'done'\n",
      "  Created wheel for smart-open: filename=smart_open-4.0.1-py3-none-any.whl size=108251 sha256=0fcda1532d858d2d8d0b2f3bd65630de76f8d1b491359bf7a88e9c7a1a36437d\n",
      "  Stored in directory: c:\\users\\prade\\appdata\\local\\pip\\cache\\wheels\\8c\\f9\\f4\\4ddd9ddee3488f48be20e9bf3108961f03ae23da29b7ed26d1\n",
      "  Building wheel for htmlmin (setup.py): started\n",
      "  Building wheel for htmlmin (setup.py): finished with status 'done'\n",
      "  Created wheel for htmlmin: filename=htmlmin-0.1.12-py3-none-any.whl size=27091 sha256=64ab16213e7014561de3f65bbb3a37312faecb31f54a633a780ccc6589491a70\n",
      "  Stored in directory: c:\\users\\prade\\appdata\\local\\pip\\cache\\wheels\\23\\14\\6e\\4be5bfeeb027f4939a01764b48edd5996acf574b0913fe5243\n",
      "Successfully built pyLDAvis cufflinks umap-learn pyod prometheus-flask-exporter databricks-cli alembic combo suod smart-open htmlmin\n",
      "Installing collected packages: funcy, pyLDAvis, colorlover, cufflinks, mlxtend, textblob, querystring-parser, waitress, smmap, gitdb, gitpython, sqlparse, websocket-client, docker, protobuf, isodate, oauthlib, requests-oauthlib, msrest, azure-core, azure-storage-blob, prometheus-flask-exporter, tabulate, databricks-cli, Mako, python-editor, alembic, mlflow, lightgbm, umap-learn, xgboost, combo, suod, pyod, scikit-plot, smart-open, Cython, gensim, wordcloud, htmlmin, tangled-up-in-unicode, imagehash, visions, missingno, confuse, phik, pandas-profiling, kmodes, srsly, catalogue, murmurhash, wasabi, cymem, preshed, blis, plac, thinc, spacy, yellowbrick, graphviz, catboost, imbalanced-learn, pycaret\n",
      "  Attempting uninstall: Cython\n",
      "    Found existing installation: Cython 0.29.21\n",
      "    Uninstalling Cython-0.29.21:\n",
      "      Successfully uninstalled Cython-0.29.21\n",
      "Requirement already satisfied: unidecode in e:\\users\\prade\\anaconda3\\lib\\site-packages (1.1.1)\n"
     ]
    },
    {
     "name": "stderr",
     "output_type": "stream",
     "text": [
      "WARNING: Retrying (Retry(total=4, connect=None, read=None, redirect=None, status=None)) after connection broken by 'ProtocolError('Connection aborted.', ConnectionResetError(10054, 'An existing connection was forcibly closed by the remote host', None, 10054, None))': /simple/mlxtend/\n"
     ]
    },
    {
     "name": "stdout",
     "output_type": "stream",
     "text": [
      "Collecting pycaret\n",
      "  Downloading pycaret-2.2.2-py3-none-any.whl (249 kB)\n",
      "Requirement already satisfied: ipywidgets in e:\\users\\prade\\anaconda3\\lib\\site-packages (from pycaret) (7.5.1)\n",
      "Collecting lightgbm>=2.3.1\n",
      "  Downloading lightgbm-3.1.1-py2.py3-none-win_amd64.whl (754 kB)\n",
      "Collecting umap-learn\n",
      "  Downloading umap-learn-0.4.6.tar.gz (69 kB)\n",
      "Collecting xgboost>=1.1.0\n",
      "  Downloading xgboost-1.3.0.post0-py3-none-win_amd64.whl (95.2 MB)\n",
      "Collecting mlxtend\n",
      "  Downloading mlxtend-0.18.0-py2.py3-none-any.whl (1.3 MB)\n",
      "Collecting pyLDAvis\n",
      "  Using cached pyLDAvis-2.1.2.tar.gz (1.6 MB)\n",
      "Collecting mlflow\n",
      "  Downloading mlflow-1.12.1-py3-none-any.whl (13.9 MB)\n",
      "Requirement already satisfied: matplotlib in e:\\users\\prade\\anaconda3\\lib\\site-packages (from pycaret) (3.3.2)\n",
      "Requirement already satisfied: plotly>=4.4.1 in e:\\users\\prade\\anaconda3\\lib\\site-packages (from pycaret) (4.14.1)\n",
      "Collecting pandas-profiling>=2.8.0\n",
      "  Downloading pandas_profiling-2.9.0-py2.py3-none-any.whl (258 kB)\n",
      "Collecting kmodes>=0.10.1\n",
      "  Downloading kmodes-0.10.2-py2.py3-none-any.whl (18 kB)\n",
      "Requirement already satisfied: IPython in e:\\users\\prade\\anaconda3\\lib\\site-packages (from pycaret) (7.19.0)\n",
      "Collecting spacy\n",
      "  Downloading spacy-2.3.5-cp38-cp38-win_amd64.whl (9.7 MB)\n",
      "Requirement already satisfied: pandas in e:\\users\\prade\\anaconda3\\lib\\site-packages (from pycaret) (1.1.3)\n",
      "Requirement already satisfied: scikit-learn>=0.23.2 in e:\\users\\prade\\anaconda3\\lib\\site-packages (from pycaret) (0.23.2)\n",
      "Collecting scikit-plot\n",
      "  Using cached scikit_plot-0.3.7-py3-none-any.whl (33 kB)\n",
      "Collecting gensim\n",
      "  Downloading gensim-3.8.3-cp38-cp38-win_amd64.whl (24.2 MB)\n",
      "Requirement already satisfied: seaborn in e:\\users\\prade\\anaconda3\\lib\\site-packages (from pycaret) (0.11.0)\n",
      "Collecting cufflinks>=0.17.0\n",
      "  Using cached cufflinks-0.17.3.tar.gz (81 kB)\n",
      "Collecting catboost>=0.23.2\n",
      "  Downloading catboost-0.24.3-cp38-none-win_amd64.whl (65.4 MB)\n",
      "Requirement already satisfied: nltk in e:\\users\\prade\\anaconda3\\lib\\site-packages (from pycaret) (3.5)\n",
      "Requirement already satisfied: joblib in e:\\users\\prade\\anaconda3\\lib\\site-packages (from pycaret) (0.17.0)\n",
      "Collecting textblob\n",
      "  Using cached textblob-0.15.3-py2.py3-none-any.whl (636 kB)\n",
      "Collecting imbalanced-learn>=0.7.0\n",
      "  Using cached imbalanced_learn-0.7.0-py3-none-any.whl (167 kB)\n",
      "Requirement already satisfied: numpy>=1.17 in e:\\users\\prade\\anaconda3\\lib\\site-packages (from pycaret) (1.19.2)\n",
      "Collecting wordcloud\n",
      "  Using cached wordcloud-1.8.1-cp38-cp38-win_amd64.whl (155 kB)\n",
      "Collecting yellowbrick>=1.0.1\n",
      "  Using cached yellowbrick-1.2-py3-none-any.whl (269 kB)\n",
      "Collecting pyod\n",
      "  Using cached pyod-0.8.4.tar.gz (98 kB)\n",
      "Requirement already satisfied: widgetsnbextension~=3.5.0 in e:\\users\\prade\\anaconda3\\lib\\site-packages (from ipywidgets->pycaret) (3.5.1)\n",
      "Requirement already satisfied: nbformat>=4.2.0 in e:\\users\\prade\\anaconda3\\lib\\site-packages (from ipywidgets->pycaret) (5.0.8)\n",
      "Requirement already satisfied: traitlets>=4.3.1 in e:\\users\\prade\\anaconda3\\lib\\site-packages (from ipywidgets->pycaret) (5.0.5)\n",
      "Requirement already satisfied: ipykernel>=4.5.1 in e:\\users\\prade\\anaconda3\\lib\\site-packages (from ipywidgets->pycaret) (5.3.4)\n",
      "Requirement already satisfied: wheel in e:\\users\\prade\\anaconda3\\lib\\site-packages (from lightgbm>=2.3.1->pycaret) (0.35.1)\n",
      "Requirement already satisfied: scipy in e:\\users\\prade\\anaconda3\\lib\\site-packages (from lightgbm>=2.3.1->pycaret) (1.5.2)\n",
      "Requirement already satisfied: numba!=0.47,>=0.46 in e:\\users\\prade\\anaconda3\\lib\\site-packages (from umap-learn->pycaret) (0.51.2)\n",
      "Requirement already satisfied: setuptools in e:\\users\\prade\\anaconda3\\lib\\site-packages (from mlxtend->pycaret) (50.3.1.post20201107)\n",
      "Requirement already satisfied: jinja2>=2.7.2 in e:\\users\\prade\\anaconda3\\lib\\site-packages (from pyLDAvis->pycaret) (2.11.2)\n",
      "Requirement already satisfied: numexpr in e:\\users\\prade\\anaconda3\\lib\\site-packages (from pyLDAvis->pycaret) (2.7.1)\n",
      "Requirement already satisfied: pytest in e:\\users\\prade\\anaconda3\\lib\\site-packages (from pyLDAvis->pycaret) (0.0.0)\n",
      "Requirement already satisfied: future in e:\\users\\prade\\anaconda3\\lib\\site-packages (from pyLDAvis->pycaret) (0.18.2)\n",
      "Collecting funcy\n",
      "  Using cached funcy-1.15-py2.py3-none-any.whl (32 kB)\n",
      "Requirement already satisfied: sqlalchemy in e:\\users\\prade\\anaconda3\\lib\\site-packages (from mlflow->pycaret) (1.3.20)\n",
      "Requirement already satisfied: entrypoints in e:\\users\\prade\\anaconda3\\lib\\site-packages (from mlflow->pycaret) (0.3)\n",
      "Requirement already satisfied: requests>=2.17.3 in e:\\users\\prade\\anaconda3\\lib\\site-packages (from mlflow->pycaret) (2.24.0)\n",
      "Requirement already satisfied: click>=7.0 in e:\\users\\prade\\anaconda3\\lib\\site-packages (from mlflow->pycaret) (7.1.2)\n",
      "Collecting gitpython>=2.1.0\n",
      "  Using cached GitPython-3.1.11-py3-none-any.whl (159 kB)\n",
      "Requirement already satisfied: pyyaml in e:\\users\\prade\\anaconda3\\lib\\site-packages (from mlflow->pycaret) (5.3.1)\n",
      "Collecting prometheus-flask-exporter\n",
      "  Using cached prometheus_flask_exporter-0.18.1.tar.gz (21 kB)\n",
      "Requirement already satisfied: six>=1.10.0 in e:\\users\\prade\\anaconda3\\lib\\site-packages (from mlflow->pycaret) (1.15.0)\n",
      "Collecting protobuf>=3.6.0\n",
      "  Using cached protobuf-3.14.0-py2.py3-none-any.whl (173 kB)\n",
      "Collecting querystring-parser\n",
      "  Using cached querystring_parser-1.2.4-py2.py3-none-any.whl (7.9 kB)\n",
      "Collecting waitress; platform_system == \"Windows\"\n",
      "  Using cached waitress-1.4.4-py2.py3-none-any.whl (58 kB)\n",
      "Requirement already satisfied: python-dateutil in e:\\users\\prade\\anaconda3\\lib\\site-packages (from mlflow->pycaret) (2.8.1)\n",
      "Requirement already satisfied: cloudpickle in e:\\users\\prade\\anaconda3\\lib\\site-packages (from mlflow->pycaret) (1.6.0)\n",
      "Collecting azure-storage-blob\n",
      "  Using cached azure_storage_blob-12.6.0-py2.py3-none-any.whl (328 kB)\n",
      "Collecting sqlparse>=0.3.1\n",
      "  Using cached sqlparse-0.4.1-py3-none-any.whl (42 kB)\n",
      "Collecting databricks-cli>=0.8.7\n",
      "  Using cached databricks-cli-0.14.1.tar.gz (54 kB)\n",
      "Collecting docker>=4.0.0\n",
      "  Using cached docker-4.4.0-py2.py3-none-any.whl (146 kB)\n",
      "Collecting alembic<=1.4.1\n",
      "  Using cached alembic-1.4.1.tar.gz (1.1 MB)\n",
      "Requirement already satisfied: Flask in e:\\users\\prade\\anaconda3\\lib\\site-packages (from mlflow->pycaret) (1.1.2)\n",
      "Requirement already satisfied: certifi>=2020.06.20 in e:\\users\\prade\\anaconda3\\lib\\site-packages (from matplotlib->pycaret) (2020.6.20)\n",
      "Requirement already satisfied: cycler>=0.10 in e:\\users\\prade\\anaconda3\\lib\\site-packages (from matplotlib->pycaret) (0.10.0)\n",
      "Requirement already satisfied: pyparsing!=2.0.4,!=2.1.2,!=2.1.6,>=2.0.3 in e:\\users\\prade\\anaconda3\\lib\\site-packages (from matplotlib->pycaret) (2.4.7)\n",
      "Requirement already satisfied: kiwisolver>=1.0.1 in e:\\users\\prade\\anaconda3\\lib\\site-packages (from matplotlib->pycaret) (1.3.0)\n",
      "Requirement already satisfied: pillow>=6.2.0 in e:\\users\\prade\\anaconda3\\lib\\site-packages (from matplotlib->pycaret) (8.0.1)\n",
      "Requirement already satisfied: retrying>=1.3.3 in e:\\users\\prade\\anaconda3\\lib\\site-packages (from plotly>=4.4.1->pycaret) (1.3.3)\n",
      "Collecting tangled-up-in-unicode>=0.0.6\n",
      "  Downloading tangled_up_in_unicode-0.0.6-py3-none-any.whl (3.1 MB)\n",
      "Requirement already satisfied: attrs>=19.3.0 in e:\\users\\prade\\anaconda3\\lib\\site-packages (from pandas-profiling>=2.8.0->pycaret) (20.3.0)\n",
      "Collecting confuse>=1.0.0\n",
      "  Using cached confuse-1.4.0-py2.py3-none-any.whl (21 kB)\n",
      "Collecting htmlmin>=0.1.12\n",
      "  Using cached htmlmin-0.1.12.tar.gz (19 kB)\n",
      "Collecting missingno>=0.4.2\n",
      "  Using cached missingno-0.4.2-py3-none-any.whl (9.7 kB)\n",
      "Collecting phik>=0.9.10\n",
      "  Using cached phik-0.10.0-py3-none-any.whl (599 kB)\n",
      "Requirement already satisfied: tqdm>=4.43.0 in e:\\users\\prade\\anaconda3\\lib\\site-packages (from pandas-profiling>=2.8.0->pycaret) (4.50.2)\n",
      "Collecting visions[type_image_path]==0.5.0\n",
      "  Using cached visions-0.5.0-py3-none-any.whl (64 kB)\n",
      "Requirement already satisfied: decorator in e:\\users\\prade\\anaconda3\\lib\\site-packages (from IPython->pycaret) (4.4.2)\n",
      "Requirement already satisfied: prompt-toolkit!=3.0.0,!=3.0.1,<3.1.0,>=2.0.0 in e:\\users\\prade\\anaconda3\\lib\\site-packages (from IPython->pycaret) (3.0.8)\n",
      "Requirement already satisfied: jedi>=0.10 in e:\\users\\prade\\anaconda3\\lib\\site-packages (from IPython->pycaret) (0.17.1)\n",
      "Requirement already satisfied: pygments in e:\\users\\prade\\anaconda3\\lib\\site-packages (from IPython->pycaret) (2.7.2)\n",
      "Requirement already satisfied: pickleshare in e:\\users\\prade\\anaconda3\\lib\\site-packages (from IPython->pycaret) (0.7.5)\n",
      "Requirement already satisfied: colorama; sys_platform == \"win32\" in e:\\users\\prade\\anaconda3\\lib\\site-packages (from IPython->pycaret) (0.4.4)\n",
      "Requirement already satisfied: backcall in e:\\users\\prade\\anaconda3\\lib\\site-packages (from IPython->pycaret) (0.2.0)\n",
      "Collecting preshed<3.1.0,>=3.0.2\n",
      "  Downloading preshed-3.0.5-cp38-cp38-win_amd64.whl (112 kB)\n",
      "Collecting srsly<1.1.0,>=1.0.2\n",
      "  Using cached srsly-1.0.5-cp38-cp38-win_amd64.whl (178 kB)\n",
      "Collecting catalogue<1.1.0,>=0.0.7\n",
      "  Using cached catalogue-1.0.0-py2.py3-none-any.whl (7.7 kB)\n",
      "Collecting blis<0.8.0,>=0.4.0\n",
      "  Downloading blis-0.7.4-cp38-cp38-win_amd64.whl (6.5 MB)\n",
      "Collecting cymem<2.1.0,>=2.0.2\n",
      "  Using cached cymem-2.0.5-cp38-cp38-win_amd64.whl (36 kB)\n",
      "Collecting plac<1.2.0,>=0.9.6\n",
      "  Downloading plac-1.1.3-py2.py3-none-any.whl (20 kB)\n",
      "Collecting murmurhash<1.1.0,>=0.28.0\n",
      "  Using cached murmurhash-1.0.5-cp38-cp38-win_amd64.whl (21 kB)\n",
      "Collecting wasabi<1.1.0,>=0.4.0\n",
      "  Using cached wasabi-0.8.0-py3-none-any.whl (23 kB)\n",
      "Collecting thinc<7.5.0,>=7.4.1\n",
      "  Using cached thinc-7.4.5-cp38-cp38-win_amd64.whl (910 kB)\n",
      "Requirement already satisfied: pytz>=2017.2 in e:\\users\\prade\\anaconda3\\lib\\site-packages (from pandas->pycaret) (2020.1)\n",
      "Requirement already satisfied: threadpoolctl>=2.0.0 in e:\\users\\prade\\anaconda3\\lib\\site-packages (from scikit-learn>=0.23.2->pycaret) (2.1.0)\n",
      "Collecting smart-open>=1.8.1\n",
      "  Using cached smart_open-4.0.1.tar.gz (117 kB)\n",
      "Collecting Cython==0.29.14\n",
      "  Using cached Cython-0.29.14-cp38-cp38-win_amd64.whl (1.7 MB)\n",
      "Collecting colorlover>=0.2.1\n",
      "  Using cached colorlover-0.3.0-py3-none-any.whl (8.9 kB)\n",
      "Collecting graphviz\n",
      "  Using cached graphviz-0.15-py2.py3-none-any.whl (18 kB)\n",
      "Requirement already satisfied: regex in e:\\users\\prade\\anaconda3\\lib\\site-packages (from nltk->pycaret) (2020.10.15)\n",
      "Collecting combo\n",
      "  Using cached combo-0.1.1.tar.gz (37 kB)\n",
      "Requirement already satisfied: statsmodels in e:\\users\\prade\\anaconda3\\lib\\site-packages (from pyod->pycaret) (0.12.0)\n",
      "Collecting suod\n",
      "  Using cached suod-0.0.4.tar.gz (2.1 MB)\n",
      "Requirement already satisfied: notebook>=4.4.1 in e:\\users\\prade\\anaconda3\\lib\\site-packages (from widgetsnbextension~=3.5.0->ipywidgets->pycaret) (6.1.4)\n",
      "Requirement already satisfied: jupyter-core in e:\\users\\prade\\anaconda3\\lib\\site-packages (from nbformat>=4.2.0->ipywidgets->pycaret) (4.6.3)\n",
      "Requirement already satisfied: jsonschema!=2.5.0,>=2.4 in e:\\users\\prade\\anaconda3\\lib\\site-packages (from nbformat>=4.2.0->ipywidgets->pycaret) (3.2.0)\n",
      "Requirement already satisfied: ipython-genutils in e:\\users\\prade\\anaconda3\\lib\\site-packages (from nbformat>=4.2.0->ipywidgets->pycaret) (0.2.0)\n",
      "Requirement already satisfied: jupyter-client in e:\\users\\prade\\anaconda3\\lib\\site-packages (from ipykernel>=4.5.1->ipywidgets->pycaret) (6.1.7)\n",
      "Requirement already satisfied: tornado>=4.2 in e:\\users\\prade\\anaconda3\\lib\\site-packages (from ipykernel>=4.5.1->ipywidgets->pycaret) (6.0.4)\n",
      "Requirement already satisfied: llvmlite<0.35,>=0.34.0.dev0 in e:\\users\\prade\\anaconda3\\lib\\site-packages (from numba!=0.47,>=0.46->umap-learn->pycaret) (0.34.0)\n",
      "Requirement already satisfied: MarkupSafe>=0.23 in e:\\users\\prade\\anaconda3\\lib\\site-packages (from jinja2>=2.7.2->pyLDAvis->pycaret) (1.1.1)\n",
      "Requirement already satisfied: iniconfig in e:\\users\\prade\\anaconda3\\lib\\site-packages (from pytest->pyLDAvis->pycaret) (1.1.1)\n",
      "Requirement already satisfied: packaging in e:\\users\\prade\\anaconda3\\lib\\site-packages (from pytest->pyLDAvis->pycaret) (20.4)\n",
      "Requirement already satisfied: pluggy<1.0,>=0.12 in e:\\users\\prade\\anaconda3\\lib\\site-packages (from pytest->pyLDAvis->pycaret) (0.13.1)\n",
      "Requirement already satisfied: py>=1.8.2 in e:\\users\\prade\\anaconda3\\lib\\site-packages (from pytest->pyLDAvis->pycaret) (1.9.0)\n",
      "Requirement already satisfied: toml in e:\\users\\prade\\anaconda3\\lib\\site-packages (from pytest->pyLDAvis->pycaret) (0.10.1)\n",
      "Requirement already satisfied: atomicwrites>=1.0 in e:\\users\\prade\\anaconda3\\lib\\site-packages (from pytest->pyLDAvis->pycaret) (1.4.0)\n",
      "Requirement already satisfied: chardet<4,>=3.0.2 in e:\\users\\prade\\anaconda3\\lib\\site-packages (from requests>=2.17.3->mlflow->pycaret) (3.0.4)\n",
      "Requirement already satisfied: urllib3!=1.25.0,!=1.25.1,<1.26,>=1.21.1 in e:\\users\\prade\\anaconda3\\lib\\site-packages (from requests>=2.17.3->mlflow->pycaret) (1.25.11)\n",
      "Requirement already satisfied: idna<3,>=2.5 in e:\\users\\prade\\anaconda3\\lib\\site-packages (from requests>=2.17.3->mlflow->pycaret) (2.10)\n",
      "Collecting gitdb<5,>=4.0.1\n",
      "  Using cached gitdb-4.0.5-py3-none-any.whl (63 kB)\n",
      "Requirement already satisfied: prometheus_client in e:\\users\\prade\\anaconda3\\lib\\site-packages (from prometheus-flask-exporter->mlflow->pycaret) (0.8.0)\n",
      "Collecting azure-core<2.0.0,>=1.9.0\n",
      "  Using cached azure_core-1.9.0-py2.py3-none-any.whl (124 kB)\n",
      "Collecting msrest>=0.6.10\n",
      "  Using cached msrest-0.6.19-py2.py3-none-any.whl (84 kB)\n",
      "Requirement already satisfied: cryptography>=2.1.4 in e:\\users\\prade\\anaconda3\\lib\\site-packages (from azure-storage-blob->mlflow->pycaret) (3.1.1)\n",
      "Collecting tabulate>=0.7.7\n",
      "  Using cached tabulate-0.8.7-py3-none-any.whl (24 kB)\n",
      "Requirement already satisfied: pywin32==227; sys_platform == \"win32\" in e:\\users\\prade\\anaconda3\\lib\\site-packages (from docker>=4.0.0->mlflow->pycaret) (227)\n",
      "Collecting websocket-client>=0.32.0\n",
      "  Using cached websocket_client-0.57.0-py2.py3-none-any.whl (200 kB)\n",
      "Collecting Mako\n",
      "  Using cached Mako-1.1.3-py2.py3-none-any.whl (75 kB)\n",
      "Collecting python-editor>=0.3\n",
      "  Using cached python_editor-1.0.4-py3-none-any.whl (4.9 kB)\n",
      "Requirement already satisfied: Werkzeug>=0.15 in e:\\users\\prade\\anaconda3\\lib\\site-packages (from Flask->mlflow->pycaret) (1.0.1)\n",
      "Requirement already satisfied: itsdangerous>=0.24 in e:\\users\\prade\\anaconda3\\lib\\site-packages (from Flask->mlflow->pycaret) (1.1.0)\n",
      "Requirement already satisfied: networkx>=2.4 in e:\\users\\prade\\anaconda3\\lib\\site-packages (from visions[type_image_path]==0.5.0->pandas-profiling>=2.8.0->pycaret) (2.5)\n",
      "Collecting imagehash; extra == \"type_image_path\"\n",
      "  Using cached ImageHash-4.2.0-py2.py3-none-any.whl (295 kB)\n",
      "Requirement already satisfied: wcwidth in e:\\users\\prade\\anaconda3\\lib\\site-packages (from prompt-toolkit!=3.0.0,!=3.0.1,<3.1.0,>=2.0.0->IPython->pycaret) (0.2.5)\n",
      "Requirement already satisfied: parso<0.8.0,>=0.7.0 in e:\\users\\prade\\anaconda3\\lib\\site-packages (from jedi>=0.10->IPython->pycaret) (0.7.0)\n",
      "Requirement already satisfied: patsy>=0.5 in e:\\users\\prade\\anaconda3\\lib\\site-packages (from statsmodels->pyod->pycaret) (0.5.1)\n",
      "Requirement already satisfied: pyzmq>=17 in e:\\users\\prade\\anaconda3\\lib\\site-packages (from notebook>=4.4.1->widgetsnbextension~=3.5.0->ipywidgets->pycaret) (19.0.2)\n",
      "Requirement already satisfied: nbconvert in e:\\users\\prade\\anaconda3\\lib\\site-packages (from notebook>=4.4.1->widgetsnbextension~=3.5.0->ipywidgets->pycaret) (6.0.7)\n",
      "Requirement already satisfied: Send2Trash in e:\\users\\prade\\anaconda3\\lib\\site-packages (from notebook>=4.4.1->widgetsnbextension~=3.5.0->ipywidgets->pycaret) (1.5.0)\n",
      "Requirement already satisfied: terminado>=0.8.3 in e:\\users\\prade\\anaconda3\\lib\\site-packages (from notebook>=4.4.1->widgetsnbextension~=3.5.0->ipywidgets->pycaret) (0.9.1)\n",
      "Requirement already satisfied: argon2-cffi in e:\\users\\prade\\anaconda3\\lib\\site-packages (from notebook>=4.4.1->widgetsnbextension~=3.5.0->ipywidgets->pycaret) (20.1.0)\n",
      "Requirement already satisfied: pyrsistent>=0.14.0 in e:\\users\\prade\\anaconda3\\lib\\site-packages (from jsonschema!=2.5.0,>=2.4->nbformat>=4.2.0->ipywidgets->pycaret) (0.17.3)\n",
      "Collecting smmap<4,>=3.0.1\n",
      "  Using cached smmap-3.0.4-py2.py3-none-any.whl (25 kB)\n",
      "Collecting isodate>=0.6.0\n",
      "  Using cached isodate-0.6.0-py2.py3-none-any.whl (45 kB)\n",
      "Collecting requests-oauthlib>=0.5.0\n",
      "  Using cached requests_oauthlib-1.3.0-py2.py3-none-any.whl (23 kB)\n",
      "Requirement already satisfied: cffi!=1.11.3,>=1.8 in e:\\users\\prade\\anaconda3\\lib\\site-packages (from cryptography>=2.1.4->azure-storage-blob->mlflow->pycaret) (1.14.3)\n",
      "Requirement already satisfied: PyWavelets in e:\\users\\prade\\anaconda3\\lib\\site-packages (from imagehash; extra == \"type_image_path\"->visions[type_image_path]==0.5.0->pandas-profiling>=2.8.0->pycaret) (1.1.1)\n",
      "Requirement already satisfied: mistune<2,>=0.8.1 in e:\\users\\prade\\anaconda3\\lib\\site-packages (from nbconvert->notebook>=4.4.1->widgetsnbextension~=3.5.0->ipywidgets->pycaret) (0.8.4)\n",
      "Requirement already satisfied: defusedxml in e:\\users\\prade\\anaconda3\\lib\\site-packages (from nbconvert->notebook>=4.4.1->widgetsnbextension~=3.5.0->ipywidgets->pycaret) (0.6.0)\n",
      "Requirement already satisfied: testpath in e:\\users\\prade\\anaconda3\\lib\\site-packages (from nbconvert->notebook>=4.4.1->widgetsnbextension~=3.5.0->ipywidgets->pycaret) (0.4.4)\n",
      "Requirement already satisfied: jupyterlab-pygments in e:\\users\\prade\\anaconda3\\lib\\site-packages (from nbconvert->notebook>=4.4.1->widgetsnbextension~=3.5.0->ipywidgets->pycaret) (0.1.2)\n",
      "Requirement already satisfied: nbclient<0.6.0,>=0.5.0 in e:\\users\\prade\\anaconda3\\lib\\site-packages (from nbconvert->notebook>=4.4.1->widgetsnbextension~=3.5.0->ipywidgets->pycaret) (0.5.1)\n",
      "Requirement already satisfied: bleach in e:\\users\\prade\\anaconda3\\lib\\site-packages (from nbconvert->notebook>=4.4.1->widgetsnbextension~=3.5.0->ipywidgets->pycaret) (3.2.1)\n",
      "Requirement already satisfied: pandocfilters>=1.4.1 in e:\\users\\prade\\anaconda3\\lib\\site-packages (from nbconvert->notebook>=4.4.1->widgetsnbextension~=3.5.0->ipywidgets->pycaret) (1.4.3)\n",
      "Requirement already satisfied: pywinpty>=0.5 in e:\\users\\prade\\anaconda3\\lib\\site-packages (from terminado>=0.8.3->notebook>=4.4.1->widgetsnbextension~=3.5.0->ipywidgets->pycaret) (0.5.7)\n",
      "Collecting oauthlib>=3.0.0\n",
      "  Using cached oauthlib-3.1.0-py2.py3-none-any.whl (147 kB)\n",
      "Requirement already satisfied: pycparser in e:\\users\\prade\\anaconda3\\lib\\site-packages (from cffi!=1.11.3,>=1.8->cryptography>=2.1.4->azure-storage-blob->mlflow->pycaret) (2.20)\n",
      "Requirement already satisfied: async-generator in e:\\users\\prade\\anaconda3\\lib\\site-packages (from nbclient<0.6.0,>=0.5.0->nbconvert->notebook>=4.4.1->widgetsnbextension~=3.5.0->ipywidgets->pycaret) (1.10)\n",
      "Requirement already satisfied: nest-asyncio in e:\\users\\prade\\anaconda3\\lib\\site-packages (from nbclient<0.6.0,>=0.5.0->nbconvert->notebook>=4.4.1->widgetsnbextension~=3.5.0->ipywidgets->pycaret) (1.4.2)\n",
      "Requirement already satisfied: webencodings in e:\\users\\prade\\anaconda3\\lib\\site-packages (from bleach->nbconvert->notebook>=4.4.1->widgetsnbextension~=3.5.0->ipywidgets->pycaret) (0.5.1)\n",
      "Building wheels for collected packages: umap-learn, pyLDAvis, cufflinks, pyod, prometheus-flask-exporter, databricks-cli, alembic, htmlmin, smart-open, combo, suod\n",
      "  Building wheel for umap-learn (setup.py): started\n",
      "  Building wheel for umap-learn (setup.py): finished with status 'done'\n",
      "  Created wheel for umap-learn: filename=umap_learn-0.4.6-py3-none-any.whl size=67957 sha256=86ee736d21d193da674c201c634e548c9250a8414c0d8f4f48531764d21d358a\n",
      "  Stored in directory: c:\\users\\prade\\appdata\\local\\pip\\cache\\wheels\\9c\\18\\d0\\2bcf7df75d19c6ca6ff8097b12abd4c46879e9a8275e93e651\n",
      "  Building wheel for pyLDAvis (setup.py): started\n",
      "  Building wheel for pyLDAvis (setup.py): finished with status 'done'\n",
      "  Created wheel for pyLDAvis: filename=pyLDAvis-2.1.2-py2.py3-none-any.whl size=97717 sha256=d4a4dd6615ae38bcc9b341943ad26146b3a3eb3a14e39e508d235d99ab02a587\n",
      "  Stored in directory: c:\\users\\prade\\appdata\\local\\pip\\cache\\wheels\\31\\8c\\a0\\24a443892f2134e691d59c8c6c35e19821e02f85e49871f8fd\n",
      "  Building wheel for cufflinks (setup.py): started\n",
      "  Building wheel for cufflinks (setup.py): finished with status 'done'\n",
      "  Created wheel for cufflinks: filename=cufflinks-0.17.3-py3-none-any.whl size=68727 sha256=03d60bddfc3dc1d27587d59911ba2329cd85fea24a2a07ff2e702c368d88872d\n",
      "  Stored in directory: c:\\users\\prade\\appdata\\local\\pip\\cache\\wheels\\6b\\76\\62\\6da97734911ffcbdd559fd1a3f28526321f0ae699182a23866\n",
      "  Building wheel for pyod (setup.py): started\n",
      "  Building wheel for pyod (setup.py): finished with status 'done'\n",
      "  Created wheel for pyod: filename=pyod-0.8.4-py3-none-any.whl size=112086 sha256=535b171173a8013db6a32d793af344da5bd6ab026438783a2aaa6222fce47f20\n",
      "  Stored in directory: c:\\users\\prade\\appdata\\local\\pip\\cache\\wheels\\4d\\c9\\2a\\8c640af5672226224fc484203103e95aa7c319b55f3a1503da\n",
      "  Building wheel for prometheus-flask-exporter (setup.py): started\n",
      "  Building wheel for prometheus-flask-exporter (setup.py): finished with status 'done'\n",
      "  Created wheel for prometheus-flask-exporter: filename=prometheus_flask_exporter-0.18.1-py3-none-any.whl size=17162 sha256=368a70153ff327b842b7cd6e1524c7aa1a02e37af86635f19e86a7c074275183\n",
      "  Stored in directory: c:\\users\\prade\\appdata\\local\\pip\\cache\\wheels\\12\\1a\\8d\\0c016e06370d07f82def661b6cb7d91d4e6b4ff7f2982e9f2c\n",
      "  Building wheel for databricks-cli (setup.py): started\n",
      "  Building wheel for databricks-cli (setup.py): finished with status 'done'\n",
      "  Created wheel for databricks-cli: filename=databricks_cli-0.14.1-py3-none-any.whl size=100583 sha256=c528ec94eb7623063afe7f8cde11d595b43254864d039d86b8ce584ff084390b\n",
      "  Stored in directory: c:\\users\\prade\\appdata\\local\\pip\\cache\\wheels\\f8\\a7\\7c\\74d614edb0dea04c3bb450951ec35c8f62aa197302ad2c3baa\n",
      "  Building wheel for alembic (setup.py): started\n",
      "  Building wheel for alembic (setup.py): finished with status 'done'\n",
      "  Created wheel for alembic: filename=alembic-1.4.1-py2.py3-none-any.whl size=158162 sha256=79b9649f1decb5de3564598c6c5be8fcd104345b5ab226c07a99b82626570dd0\n",
      "  Stored in directory: c:\\users\\prade\\appdata\\local\\pip\\cache\\wheels\\9d\\de\\6d\\ca8d461ec29e010b1267d7353d0b058819770f7680bb9360e4\n",
      "  Building wheel for htmlmin (setup.py): started\n",
      "  Building wheel for htmlmin (setup.py): finished with status 'done'\n",
      "  Created wheel for htmlmin: filename=htmlmin-0.1.12-py3-none-any.whl size=27091 sha256=64ab16213e7014561de3f65bbb3a37312faecb31f54a633a780ccc6589491a70\n",
      "  Stored in directory: c:\\users\\prade\\appdata\\local\\pip\\cache\\wheels\\23\\14\\6e\\4be5bfeeb027f4939a01764b48edd5996acf574b0913fe5243\n",
      "  Building wheel for smart-open (setup.py): started\n",
      "  Building wheel for smart-open (setup.py): finished with status 'done'\n",
      "  Created wheel for smart-open: filename=smart_open-4.0.1-py3-none-any.whl size=108251 sha256=0fcda1532d858d2d8d0b2f3bd65630de76f8d1b491359bf7a88e9c7a1a36437d\n",
      "  Stored in directory: c:\\users\\prade\\appdata\\local\\pip\\cache\\wheels\\8c\\f9\\f4\\4ddd9ddee3488f48be20e9bf3108961f03ae23da29b7ed26d1\n",
      "  Building wheel for combo (setup.py): started\n",
      "  Building wheel for combo (setup.py): finished with status 'done'\n",
      "  Created wheel for combo: filename=combo-0.1.1-py3-none-any.whl size=42118 sha256=4066bf84ea9a94f6ca235293ec242b7b404c39929ac558618a4473358288ae61\n",
      "  Stored in directory: c:\\users\\prade\\appdata\\local\\pip\\cache\\wheels\\8e\\fb\\da\\bc0298ecebccef4f00ee490f70e08b3de23f45fec8173c129c\n",
      "  Building wheel for suod (setup.py): started\n",
      "  Building wheel for suod (setup.py): finished with status 'done'\n",
      "  Created wheel for suod: filename=suod-0.0.4-py3-none-any.whl size=2167162 sha256=cefed32176b57f16ace61d9e5d1bfc316b8571e56a4bc56dfe23fb416e49da43\n",
      "  Stored in directory: c:\\users\\prade\\appdata\\local\\pip\\cache\\wheels\\ad\\1a\\f5\\973bd291c9772840f1ae9a1e40e4f2522b786db241ad570e91\n",
      "Successfully built umap-learn pyLDAvis cufflinks pyod prometheus-flask-exporter databricks-cli alembic htmlmin smart-open combo suod\n",
      "Installing collected packages: lightgbm, umap-learn, xgboost, mlxtend, funcy, pyLDAvis, smmap, gitdb, gitpython, prometheus-flask-exporter, protobuf, querystring-parser, waitress, azure-core, isodate, oauthlib, requests-oauthlib, msrest, azure-storage-blob, sqlparse, tabulate, databricks-cli, websocket-client, docker, Mako, python-editor, alembic, mlflow, tangled-up-in-unicode, confuse, htmlmin, missingno, phik, imagehash, visions, pandas-profiling, kmodes, cymem, murmurhash, preshed, srsly, catalogue, blis, plac, wasabi, thinc, spacy, scikit-plot, smart-open, Cython, gensim, colorlover, cufflinks, graphviz, catboost, textblob, imbalanced-learn, wordcloud, yellowbrick, combo, suod, pyod, pycaret\n",
      "  Attempting uninstall: Cython\n",
      "    Found existing installation: Cython 0.29.21\n",
      "    Can't uninstall 'Cython'. No files were found to uninstall.\n",
      "Successfully installed Cython-0.29.14 Mako-1.1.3 alembic-1.4.1 azure-core-1.9.0 azure-storage-blob-12.6.0 blis-0.7.4 catalogue-1.0.0 catboost-0.24.3 colorlover-0.3.0 combo-0.1.1 confuse-1.4.0 cufflinks-0.17.3 cymem-2.0.5 databricks-cli-0.14.1 docker-4.4.0 funcy-1.15 gensim-3.8.3 gitdb-4.0.5 gitpython-3.1.11 graphviz-0.15 htmlmin-0.1.12 imagehash-4.2.0 imbalanced-learn-0.7.0 isodate-0.6.0 kmodes-0.10.2 lightgbm-3.1.1 missingno-0.4.2 mlflow-1.12.1 mlxtend-0.18.0 msrest-0.6.19 murmurhash-1.0.5 oauthlib-3.1.0 pandas-profiling-2.9.0 phik-0.10.0 plac-1.1.3 preshed-3.0.5 prometheus-flask-exporter-0.18.1 protobuf-3.14.0 pyLDAvis-2.1.2 pycaret-2.2.2 pyod-0.8.4 python-editor-1.0.4 querystring-parser-1.2.4 requests-oauthlib-1.3.0 scikit-plot-0.3.7 smart-open-4.0.1 smmap-3.0.4 spacy-2.3.5 sqlparse-0.4.1 srsly-1.0.5 suod-0.0.4 tabulate-0.8.7 tangled-up-in-unicode-0.0.6 textblob-0.15.3 thinc-7.4.5 umap-learn-0.4.6 visions-0.5.0 waitress-1.4.4 wasabi-0.8.0 websocket-client-0.57.0 wordcloud-1.8.1 xgboost-1.3.0.post0 yellowbrick-1.2\n"
     ]
    }
   ],
   "source": [
    "# install packages\n",
    "!pip install pycaret\n",
    "!pip install unidecode"
   ]
  },
  {
   "cell_type": "code",
   "execution_count": 31,
   "metadata": {
    "colab": {
     "base_uri": "https://localhost:8080/"
    },
    "id": "8ClK8p08ZUNe",
    "outputId": "421c40b6-16b3-4d81-9d7c-d309b5e1bf1a"
   },
   "outputs": [
    {
     "name": "stderr",
     "output_type": "stream",
     "text": [
      "[nltk_data] Downloading package stopwords to\n",
      "[nltk_data]     C:\\Users\\prade\\AppData\\Roaming\\nltk_data...\n",
      "[nltk_data]   Package stopwords is already up-to-date!\n"
     ]
    },
    {
     "data": {
      "text/plain": [
       "True"
      ]
     },
     "execution_count": 31,
     "metadata": {},
     "output_type": "execute_result"
    }
   ],
   "source": [
    "# download corpus of stop words\n",
    "import nltk\n",
    "nltk.download('stopwords')"
   ]
  },
  {
   "cell_type": "code",
   "execution_count": 32,
   "metadata": {
    "id": "ZvASBJmGAe5h"
   },
   "outputs": [],
   "source": [
    "# import modules\n",
    "import numpy as np\n",
    "import pandas as pd\n",
    "import plotly.express as px\n",
    "import scipy.stats as ss\n",
    "import unidecode\n",
    "from nltk.corpus import stopwords\n",
    "from sklearn.feature_extraction.text import TfidfVectorizer\n",
    "from sklearn.linear_model import LinearRegression\n",
    "from sklearn.metrics import mean_squared_error\n",
    "from sklearn.model_selection import train_test_split"
   ]
  },
  {
   "cell_type": "code",
   "execution_count": 33,
   "metadata": {
    "id": "x9Wi8sAJAe5q"
   },
   "outputs": [],
   "source": [
    "# load the data\n",
    "data = pd.read_csv(\"pet food data.csv\")"
   ]
  },
  {
   "cell_type": "markdown",
   "metadata": {
    "id": "4kd4rakpAe5x"
   },
   "source": [
    "There are 684 entries that do not have price data, 548 entries that do not have an ingredients list, 755 entries that do not have a total package size, and 747 entries that do not have a unit package size."
   ]
  },
  {
   "cell_type": "code",
   "execution_count": 34,
   "metadata": {
    "colab": {
     "base_uri": "https://localhost:8080/"
    },
    "id": "QEWKVbzzAe5z",
    "outputId": "04156036-2bc0-4012-8cc1-1e6726ab9228"
   },
   "outputs": [
    {
     "name": "stdout",
     "output_type": "stream",
     "text": [
      "<class 'pandas.core.frame.DataFrame'>\n",
      "RangeIndex: 8754 entries, 0 to 8753\n",
      "Data columns (total 13 columns):\n",
      " #   Column                Non-Null Count  Dtype  \n",
      "---  ------                --------------  -----  \n",
      " 0   date                  8754 non-null   object \n",
      " 1   category              8754 non-null   object \n",
      " 2   sub_category          8754 non-null   object \n",
      " 3   product               8754 non-null   object \n",
      " 4   variant               8754 non-null   object \n",
      " 5   description           8754 non-null   object \n",
      " 6   ingredients_stdlist   8206 non-null   object \n",
      " 7   price_usd             8070 non-null   float64\n",
      " 8   company_parent        8754 non-null   object \n",
      " 9   company               8754 non-null   object \n",
      " 10  brand                 8754 non-null   object \n",
      " 11  total_pack_size_ml_g  7999 non-null   float64\n",
      " 12  unit_pack_size_ml_g   8007 non-null   float64\n",
      "dtypes: float64(3), object(10)\n",
      "memory usage: 889.2+ KB\n"
     ]
    }
   ],
   "source": [
    "# get a description of the unprocessed data\n",
    "data.info()"
   ]
  },
  {
   "cell_type": "code",
   "execution_count": 35,
   "metadata": {
    "colab": {
     "base_uri": "https://localhost:8080/"
    },
    "id": "w9HB0tUoAe55",
    "outputId": "78935e23-8e24-4aa2-f97b-be02d1dc556a"
   },
   "outputs": [
    {
     "data": {
      "text/plain": [
       "0"
      ]
     },
     "execution_count": 35,
     "metadata": {},
     "output_type": "execute_result"
    }
   ],
   "source": [
    "# determine if there are any duplicate rows\n",
    "np.sum(data.duplicated())"
   ]
  },
  {
   "cell_type": "markdown",
   "metadata": {
    "id": "ibuuloAjbNBr"
   },
   "source": [
    "### Initial Cleaning for Visualization"
   ]
  },
  {
   "cell_type": "code",
   "execution_count": 36,
   "metadata": {
    "id": "4lxLmVfRAe5_"
   },
   "outputs": [],
   "source": [
    "# drop the 900 entries that do not have price data or an ingredients list\n",
    "data.dropna(inplace=True, subset=[\"price_usd\", \"ingredients_stdlist\"])\n",
    "\n",
    "# remove 1 outlier price with invalid pack size\n",
    "data = data[data.price_usd < 50]\n",
    "\n",
    "# drop 32 therapeutic supplements \n",
    "data = data.loc[~data.ingredients_stdlist.str.startswith(\"active\"), :]\n",
    "\n",
    "# reset the index\n",
    "data.reset_index(drop=True, inplace=True)"
   ]
  },
  {
   "cell_type": "code",
   "execution_count": 37,
   "metadata": {
    "id": "tUiJxAdTAe6E"
   },
   "outputs": [],
   "source": [
    "# transform the string dates into datetime objects and create a year column\n",
    "data.loc[:, \"date\"] = pd.to_datetime(data.date.str[:10])\n",
    "data[\"year\"] = data.date.apply(lambda x: x.year)"
   ]
  },
  {
   "cell_type": "code",
   "execution_count": 38,
   "metadata": {
    "id": "ZM9tCy_fAe6I"
   },
   "outputs": [],
   "source": [
    "# drop the \"category\" column since it contains one value \"Pet Food\" and\n",
    "# the \"variant\" column since it is equivalent to the \"product\" column\n",
    "data.drop(columns=[\"category\", \"product\"], inplace=True)"
   ]
  },
  {
   "cell_type": "code",
   "execution_count": 39,
   "metadata": {
    "id": "SLEgvzdBAe6M"
   },
   "outputs": [],
   "source": [
    "# transform the \"sub_category\" column into separate columns and drop \"sub_category\"\n",
    "data[\"pet_type\"] = data.sub_category.apply(lambda x: \"cat\" if (\"Cat\" in x) else \"dog\")\n",
    "data[\"meal_type\"] = data.sub_category.apply(lambda x: \"primary\" if (\"Food\" in x) else \"treats\")\n",
    "data[\"food_type\"] = data.sub_category.apply(lambda x: \"dry\" if (\"Dry\" in x) else \"wet\")\n",
    "data.drop(columns=\"sub_category\", inplace=True)"
   ]
  },
  {
   "cell_type": "code",
   "execution_count": 40,
   "metadata": {
    "id": "u2Vauq7JAmp8"
   },
   "outputs": [],
   "source": [
    "# create a function to replace dicritic characters with ASCII characters\n",
    "def replace_dicritic(string):\n",
    "    return unidecode.unidecode(string)"
   ]
  },
  {
   "cell_type": "code",
   "execution_count": 41,
   "metadata": {
    "id": "MRQBb4TJAe6P"
   },
   "outputs": [],
   "source": [
    "# replace the dicritic characters in \"company_parent\", \"company\", \"brand\",\n",
    "# \"description\", and \"ingredients_stdlist\"\n",
    "data.loc[:, \"company_parent\"] = data.company_parent.apply(replace_dicritic)\n",
    "data.loc[:, \"company\"] = data.company.apply(replace_dicritic)\n",
    "data.loc[:, \"brand\"] = data.brand.apply(replace_dicritic)\n",
    "data.loc[:, \"description\"] = data.description.apply(replace_dicritic)\n",
    "data.loc[:, \"ingredients_stdlist\"] = data.ingredients_stdlist.apply(replace_dicritic)"
   ]
  },
  {
   "cell_type": "code",
   "execution_count": 42,
   "metadata": {
    "colab": {
     "base_uri": "https://localhost:8080/"
    },
    "id": "bNZrowcaBE-e",
    "outputId": "97f33331-1e5b-42cd-9d64-4e38763d1692"
   },
   "outputs": [
    {
     "name": "stdout",
     "output_type": "stream",
     "text": [
      "<class 'pandas.core.frame.DataFrame'>\n",
      "RangeIndex: 7822 entries, 0 to 7821\n",
      "Data columns (total 14 columns):\n",
      " #   Column                Non-Null Count  Dtype         \n",
      "---  ------                --------------  -----         \n",
      " 0   date                  7822 non-null   datetime64[ns]\n",
      " 1   variant               7822 non-null   object        \n",
      " 2   description           7822 non-null   object        \n",
      " 3   ingredients_stdlist   7822 non-null   object        \n",
      " 4   price_usd             7822 non-null   float64       \n",
      " 5   company_parent        7822 non-null   object        \n",
      " 6   company               7822 non-null   object        \n",
      " 7   brand                 7822 non-null   object        \n",
      " 8   total_pack_size_ml_g  7526 non-null   float64       \n",
      " 9   unit_pack_size_ml_g   7534 non-null   float64       \n",
      " 10  year                  7822 non-null   int64         \n",
      " 11  pet_type              7822 non-null   object        \n",
      " 12  meal_type             7822 non-null   object        \n",
      " 13  food_type             7822 non-null   object        \n",
      "dtypes: datetime64[ns](1), float64(3), int64(1), object(9)\n",
      "memory usage: 855.7+ KB\n"
     ]
    }
   ],
   "source": [
    "# get a description of the cleaned data\n",
    "data.info()"
   ]
  },
  {
   "cell_type": "markdown",
   "metadata": {
    "id": "jUs-J-Sfjt-F"
   },
   "source": [
    "### Visualizations"
   ]
  },
  {
   "cell_type": "code",
   "execution_count": 43,
   "metadata": {
    "id": "nRNzNFwsj3Cv"
   },
   "outputs": [],
   "source": [
    "# get the observations for Colgate only\n",
    "colgate_only = data[data.company_parent.apply(lambda x: \"colgate\" in x.lower())]"
   ]
  },
  {
   "cell_type": "code",
   "execution_count": 44,
   "metadata": {
    "id": "vdAM5r64eOtw"
   },
   "outputs": [],
   "source": [
    "# perform a Box-Cox transformation on price_usd\n",
    "box_cox = ss.boxcox(data.price_usd)"
   ]
  },
  {
   "cell_type": "markdown",
   "metadata": {
    "id": "VQrLcikrcEMg"
   },
   "source": [
    "Boxplots"
   ]
  },
  {
   "cell_type": "code",
   "execution_count": 45,
   "metadata": {
    "id": "G7ejtR3lcKHQ"
   },
   "outputs": [],
   "source": [
    "# boxplot for cat vs dog\n",
    "fig1 = px.box(data, x=\"pet_type\", y=\"price_usd\")\n",
    "fig2 = px.box(colgate_only, x=\"pet_type\", y=\"price_usd\", category_orders={\"pet_type\": [\"cat\", \"dog\"]})\n",
    "\n",
    "# boxplot for primary food vs treats\n",
    "fig3 = px.box(data, x=\"meal_type\", y=\"price_usd\")\n",
    "fig4 = px.box(colgate_only, x=\"meal_type\", y=\"price_usd\")\n",
    "\n",
    "# boxplot for dry vs wet food\n",
    "fig5 = px.box(data, x=\"food_type\", y=\"price_usd\")\n",
    "fig6 = px.box(colgate_only, x=\"food_type\", y=\"price_usd\", category_orders={\"food_type\": [\"dry\", \"wet\"]})\n",
    "\n",
    "# boxplot for year\n",
    "fig7 = px.box(data, x=\"year\", y=\"price_usd\")"
   ]
  },
  {
   "cell_type": "markdown",
   "metadata": {
    "id": "9bwKL178dXim"
   },
   "source": [
    "Histograms"
   ]
  },
  {
   "cell_type": "code",
   "execution_count": 46,
   "metadata": {
    "id": "yN8o-R8Vdb8z"
   },
   "outputs": [],
   "source": [
    "# histogram of price\n",
    "fig8 = px.histogram(data.price_usd)\n",
    "\n",
    "# histogram of price with Box-Cox transformation\n",
    "fig9 = px.histogram(box_cox[0], nbins=50)"
   ]
  },
  {
   "cell_type": "markdown",
   "metadata": {
    "id": "yCpef8Uag0uL"
   },
   "source": [
    "Scatter Plots"
   ]
  },
  {
   "cell_type": "code",
   "execution_count": 47,
   "metadata": {
    "colab": {
     "base_uri": "https://localhost:8080/"
    },
    "id": "c7-N1v29g4Aa",
    "outputId": "4f55e433-6728-43a0-b71e-2dc79de6d7c5"
   },
   "outputs": [],
   "source": [
    "# scatter plot of price vs unit pack size\n",
    "fig10 = px.scatter(data.loc[~data.unit_pack_size_ml_g.isna(), :], x=\"unit_pack_size_ml_g\", y=\"price_usd\", trendline=\"ols\", trendline_color_override=\"orange\", range_y=[-2, 37])"
   ]
  },
  {
   "cell_type": "markdown",
   "metadata": {
    "id": "SRTPUHIchSMZ"
   },
   "source": [
    "### Text Transformations"
   ]
  },
  {
   "cell_type": "code",
   "execution_count": 48,
   "metadata": {
    "id": "awi77x_HhYFa"
   },
   "outputs": [],
   "source": [
    "# get the first word in every ingredient list\n",
    "first_ingredient = data.ingredients_stdlist.str.split(\",\").apply(lambda x: x[0])\n",
    "first_ingredient = first_ingredient.str.split(\" \").apply(lambda x: x[0])\n",
    "first_ingredient = first_ingredient.str.split(\":\").apply(lambda x: x[0].lower())"
   ]
  },
  {
   "cell_type": "code",
   "execution_count": 49,
   "metadata": {
    "colab": {
     "base_uri": "https://localhost:8080/"
    },
    "id": "poey8hLaWKds",
    "outputId": "b354bfb2-2783-44c7-9a0e-7e09d47da366"
   },
   "outputs": [
    {
     "data": {
      "text/plain": [
       "chicken    1890\n",
       "wheat       692\n",
       "beef        611\n",
       "corn        420\n",
       "water       351\n",
       "turkey      291\n",
       "salmon      249\n",
       "lamb        228\n",
       "rice        210\n",
       "cowhide     159\n",
       "Name: ingredients_stdlist, dtype: int64"
      ]
     },
     "execution_count": 49,
     "metadata": {},
     "output_type": "execute_result"
    }
   ],
   "source": [
    "# look at the top 10 words by frequency count\n",
    "first_ingredient.value_counts()[:10]"
   ]
  },
  {
   "cell_type": "code",
   "execution_count": 50,
   "metadata": {
    "id": "fxUIqlyxWM_5"
   },
   "outputs": [],
   "source": [
    "# create a function that filters the first_ingredient Series to\n",
    "# 5 possible words\n",
    "def first_word(string):\n",
    "    if string == \"chicken\" or string == \"wheat\" or string == \"beef\" or string == \"corn\":\n",
    "        return string\n",
    "    else:\n",
    "        return \"other\""
   ]
  },
  {
   "cell_type": "code",
   "execution_count": 51,
   "metadata": {
    "id": "20_brQ9_WPsD"
   },
   "outputs": [],
   "source": [
    "# add a first_ingredient column to the dataset\n",
    "data[\"first_ingredient\"] =  first_ingredient.apply(first_word)"
   ]
  },
  {
   "cell_type": "markdown",
   "metadata": {
    "id": "H_P0d7VZWS3b"
   },
   "source": [
    "TFIDF"
   ]
  },
  {
   "cell_type": "markdown",
   "metadata": {
    "id": "lJXpHBM7sUrf"
   },
   "source": [
    "During testing, we discovered that using a TFIDF matrix with more than ~400 features in our regression models caused instability, resulting in errors that were $10^6$ or greater. To improve performance, we set max_features=400 in our TfidfVectorizer()."
   ]
  },
  {
   "cell_type": "code",
   "execution_count": 52,
   "metadata": {
    "id": "VlhU0GlmWVl3"
   },
   "outputs": [],
   "source": [
    "# instantiate the TFIDF vectorizer\n",
    "vectorizer = TfidfVectorizer(stop_words=stopwords.words(\"english\"), max_features=400)\n",
    "\n",
    "# transform the product descriptions in a TFIDF matrix\n",
    "vectors = vectorizer.fit_transform(data.description)\n",
    "\n",
    "# convert the TFIDF matrix into a dataframe\n",
    "tfidf = pd.DataFrame(vectors.todense().tolist(), columns=vectorizer.get_feature_names())"
   ]
  },
  {
   "cell_type": "markdown",
   "metadata": {
    "id": "Q2ss2WrSWeGa"
   },
   "source": [
    "Convert categorical variables to one-hot vectors"
   ]
  },
  {
   "cell_type": "code",
   "execution_count": 53,
   "metadata": {
    "id": "wrii0QLUWjex"
   },
   "outputs": [],
   "source": [
    "# get all of the categorical variables in one dataframe\n",
    "cat_vars = data[[\"pet_type\", \"meal_type\", \"food_type\", \"first_ingredient\"]]\n",
    "\n",
    "# transform the categorical variables into one-hot vectors\n",
    "one_hot = pd.get_dummies(cat_vars, prefix=\"category\")"
   ]
  },
  {
   "cell_type": "markdown",
   "metadata": {
    "id": "eggl3mXoXyAp"
   },
   "source": [
    "### Combine all of the engineered features and create training and testing sets"
   ]
  },
  {
   "cell_type": "code",
   "execution_count": 54,
   "metadata": {
    "id": "kMEY6yCUWycr"
   },
   "outputs": [],
   "source": [
    "# combine the 1hot dataframe with the TFIDF dataframe\n",
    "X = pd.concat([one_hot, tfidf], axis=1)\n",
    "\n",
    "# create a target variable for the Box-Cox transformed prices\n",
    "y = box_cox[0]\n",
    "\n",
    "# create stratified training and testing sets\n",
    "# prices box-cox\n",
    "X_train, X_test, y_train, y_test = train_test_split(X, y, train_size=0.8, stratify=data.pet_type, random_state=38)\n",
    "\n",
    "# original prices\n",
    "X_train_org, X_test_org, y_train_org, y_test_org = train_test_split(X, data.price_usd, train_size=0.8, stratify=data.pet_type, random_state=38)"
   ]
  },
  {
   "cell_type": "code",
   "execution_count": 55,
   "metadata": {
    "colab": {
     "base_uri": "https://localhost:8080/"
    },
    "id": "r5suSPhjW9sJ",
    "outputId": "c1aeba96-23f7-4ec6-a9e9-77c79387ee80"
   },
   "outputs": [
    {
     "data": {
      "text/plain": [
       "((6257, 411), (1565, 411), (6257,), (1565,))"
      ]
     },
     "execution_count": 55,
     "metadata": {},
     "output_type": "execute_result"
    }
   ],
   "source": [
    "X_train.shape, X_test.shape, y_train.shape, y_test.shape"
   ]
  },
  {
   "cell_type": "code",
   "execution_count": 56,
   "metadata": {
    "colab": {
     "base_uri": "https://localhost:8080/"
    },
    "id": "A7PluP_jnmzn",
    "outputId": "2121877e-d3b3-48b7-e9e6-3c31e5c882b9"
   },
   "outputs": [
    {
     "data": {
      "text/plain": [
       "((6257, 411), (1565, 411), (6257,), (1565,))"
      ]
     },
     "execution_count": 56,
     "metadata": {},
     "output_type": "execute_result"
    }
   ],
   "source": [
    "X_train_org.shape, X_test_org.shape, y_train_org.shape, y_test_org.shape"
   ]
  },
  {
   "cell_type": "markdown",
   "metadata": {
    "id": "4LRmdzS0YC51"
   },
   "source": [
    "### pycaret test"
   ]
  },
  {
   "cell_type": "code",
   "execution_count": 57,
   "metadata": {
    "id": "nQ-lTric_uav"
   },
   "outputs": [],
   "source": [
    "from pycaret.regression import *"
   ]
  },
  {
   "cell_type": "code",
   "execution_count": 58,
   "metadata": {
    "id": "K3iGeWwzBNgX"
   },
   "outputs": [],
   "source": [
    "data2 = X.copy()"
   ]
  },
  {
   "cell_type": "code",
   "execution_count": 59,
   "metadata": {
    "id": "XKVcDds5Cz9v"
   },
   "outputs": [],
   "source": [
    "# get the transformed price data using box cox \n",
    "data2[\"price\"] = box_cox[0]"
   ]
  },
  {
   "cell_type": "code",
   "execution_count": 60,
   "metadata": {
    "colab": {
     "base_uri": "https://localhost:8080/",
     "height": 1000,
     "referenced_widgets": [
      "93b0e43b3b964f3e9938cca5ae384d98",
      "1185820049544dad969715c7750770a3",
      "4a9f42abc573446cadb098eda0801548",
      "d91c37e89b91458782b4c44aec7eaf35",
      "c0e0918e3ee04939879a0631f9588a38",
      "d877e0bf9c74484c8653e640dab05b89"
     ]
    },
    "id": "qeaMi3RJCIU1",
    "outputId": "63e1cbd8-fff3-4a33-c3ed-2f470050ca8c"
   },
   "outputs": [
    {
     "data": {
      "text/html": [
       "<style  type=\"text/css\" >\n",
       "#T_4878aba6_3e95_11eb_8369_24ee9a2d0149row16_col1{\n",
       "            background-color:  lightgreen;\n",
       "        }</style><table id=\"T_4878aba6_3e95_11eb_8369_24ee9a2d0149\" ><thead>    <tr>        <th class=\"blank level0\" ></th>        <th class=\"col_heading level0 col0\" >Description</th>        <th class=\"col_heading level0 col1\" >Value</th>    </tr></thead><tbody>\n",
       "                <tr>\n",
       "                        <th id=\"T_4878aba6_3e95_11eb_8369_24ee9a2d0149level0_row0\" class=\"row_heading level0 row0\" >0</th>\n",
       "                        <td id=\"T_4878aba6_3e95_11eb_8369_24ee9a2d0149row0_col0\" class=\"data row0 col0\" >session_id</td>\n",
       "                        <td id=\"T_4878aba6_3e95_11eb_8369_24ee9a2d0149row0_col1\" class=\"data row0 col1\" >2725</td>\n",
       "            </tr>\n",
       "            <tr>\n",
       "                        <th id=\"T_4878aba6_3e95_11eb_8369_24ee9a2d0149level0_row1\" class=\"row_heading level0 row1\" >1</th>\n",
       "                        <td id=\"T_4878aba6_3e95_11eb_8369_24ee9a2d0149row1_col0\" class=\"data row1 col0\" >Target</td>\n",
       "                        <td id=\"T_4878aba6_3e95_11eb_8369_24ee9a2d0149row1_col1\" class=\"data row1 col1\" >price</td>\n",
       "            </tr>\n",
       "            <tr>\n",
       "                        <th id=\"T_4878aba6_3e95_11eb_8369_24ee9a2d0149level0_row2\" class=\"row_heading level0 row2\" >2</th>\n",
       "                        <td id=\"T_4878aba6_3e95_11eb_8369_24ee9a2d0149row2_col0\" class=\"data row2 col0\" >Original Data</td>\n",
       "                        <td id=\"T_4878aba6_3e95_11eb_8369_24ee9a2d0149row2_col1\" class=\"data row2 col1\" >(7822, 412)</td>\n",
       "            </tr>\n",
       "            <tr>\n",
       "                        <th id=\"T_4878aba6_3e95_11eb_8369_24ee9a2d0149level0_row3\" class=\"row_heading level0 row3\" >3</th>\n",
       "                        <td id=\"T_4878aba6_3e95_11eb_8369_24ee9a2d0149row3_col0\" class=\"data row3 col0\" >Missing Values</td>\n",
       "                        <td id=\"T_4878aba6_3e95_11eb_8369_24ee9a2d0149row3_col1\" class=\"data row3 col1\" >False</td>\n",
       "            </tr>\n",
       "            <tr>\n",
       "                        <th id=\"T_4878aba6_3e95_11eb_8369_24ee9a2d0149level0_row4\" class=\"row_heading level0 row4\" >4</th>\n",
       "                        <td id=\"T_4878aba6_3e95_11eb_8369_24ee9a2d0149row4_col0\" class=\"data row4 col0\" >Numeric Features</td>\n",
       "                        <td id=\"T_4878aba6_3e95_11eb_8369_24ee9a2d0149row4_col1\" class=\"data row4 col1\" >411</td>\n",
       "            </tr>\n",
       "            <tr>\n",
       "                        <th id=\"T_4878aba6_3e95_11eb_8369_24ee9a2d0149level0_row5\" class=\"row_heading level0 row5\" >5</th>\n",
       "                        <td id=\"T_4878aba6_3e95_11eb_8369_24ee9a2d0149row5_col0\" class=\"data row5 col0\" >Categorical Features</td>\n",
       "                        <td id=\"T_4878aba6_3e95_11eb_8369_24ee9a2d0149row5_col1\" class=\"data row5 col1\" >0</td>\n",
       "            </tr>\n",
       "            <tr>\n",
       "                        <th id=\"T_4878aba6_3e95_11eb_8369_24ee9a2d0149level0_row6\" class=\"row_heading level0 row6\" >6</th>\n",
       "                        <td id=\"T_4878aba6_3e95_11eb_8369_24ee9a2d0149row6_col0\" class=\"data row6 col0\" >Ordinal Features</td>\n",
       "                        <td id=\"T_4878aba6_3e95_11eb_8369_24ee9a2d0149row6_col1\" class=\"data row6 col1\" >False</td>\n",
       "            </tr>\n",
       "            <tr>\n",
       "                        <th id=\"T_4878aba6_3e95_11eb_8369_24ee9a2d0149level0_row7\" class=\"row_heading level0 row7\" >7</th>\n",
       "                        <td id=\"T_4878aba6_3e95_11eb_8369_24ee9a2d0149row7_col0\" class=\"data row7 col0\" >High Cardinality Features</td>\n",
       "                        <td id=\"T_4878aba6_3e95_11eb_8369_24ee9a2d0149row7_col1\" class=\"data row7 col1\" >False</td>\n",
       "            </tr>\n",
       "            <tr>\n",
       "                        <th id=\"T_4878aba6_3e95_11eb_8369_24ee9a2d0149level0_row8\" class=\"row_heading level0 row8\" >8</th>\n",
       "                        <td id=\"T_4878aba6_3e95_11eb_8369_24ee9a2d0149row8_col0\" class=\"data row8 col0\" >High Cardinality Method</td>\n",
       "                        <td id=\"T_4878aba6_3e95_11eb_8369_24ee9a2d0149row8_col1\" class=\"data row8 col1\" >None</td>\n",
       "            </tr>\n",
       "            <tr>\n",
       "                        <th id=\"T_4878aba6_3e95_11eb_8369_24ee9a2d0149level0_row9\" class=\"row_heading level0 row9\" >9</th>\n",
       "                        <td id=\"T_4878aba6_3e95_11eb_8369_24ee9a2d0149row9_col0\" class=\"data row9 col0\" >Transformed Train Set</td>\n",
       "                        <td id=\"T_4878aba6_3e95_11eb_8369_24ee9a2d0149row9_col1\" class=\"data row9 col1\" >(5475, 408)</td>\n",
       "            </tr>\n",
       "            <tr>\n",
       "                        <th id=\"T_4878aba6_3e95_11eb_8369_24ee9a2d0149level0_row10\" class=\"row_heading level0 row10\" >10</th>\n",
       "                        <td id=\"T_4878aba6_3e95_11eb_8369_24ee9a2d0149row10_col0\" class=\"data row10 col0\" >Transformed Test Set</td>\n",
       "                        <td id=\"T_4878aba6_3e95_11eb_8369_24ee9a2d0149row10_col1\" class=\"data row10 col1\" >(2347, 408)</td>\n",
       "            </tr>\n",
       "            <tr>\n",
       "                        <th id=\"T_4878aba6_3e95_11eb_8369_24ee9a2d0149level0_row11\" class=\"row_heading level0 row11\" >11</th>\n",
       "                        <td id=\"T_4878aba6_3e95_11eb_8369_24ee9a2d0149row11_col0\" class=\"data row11 col0\" >Shuffle Train-Test</td>\n",
       "                        <td id=\"T_4878aba6_3e95_11eb_8369_24ee9a2d0149row11_col1\" class=\"data row11 col1\" >True</td>\n",
       "            </tr>\n",
       "            <tr>\n",
       "                        <th id=\"T_4878aba6_3e95_11eb_8369_24ee9a2d0149level0_row12\" class=\"row_heading level0 row12\" >12</th>\n",
       "                        <td id=\"T_4878aba6_3e95_11eb_8369_24ee9a2d0149row12_col0\" class=\"data row12 col0\" >Stratify Train-Test</td>\n",
       "                        <td id=\"T_4878aba6_3e95_11eb_8369_24ee9a2d0149row12_col1\" class=\"data row12 col1\" >['category_dog']</td>\n",
       "            </tr>\n",
       "            <tr>\n",
       "                        <th id=\"T_4878aba6_3e95_11eb_8369_24ee9a2d0149level0_row13\" class=\"row_heading level0 row13\" >13</th>\n",
       "                        <td id=\"T_4878aba6_3e95_11eb_8369_24ee9a2d0149row13_col0\" class=\"data row13 col0\" >Fold Generator</td>\n",
       "                        <td id=\"T_4878aba6_3e95_11eb_8369_24ee9a2d0149row13_col1\" class=\"data row13 col1\" >KFold</td>\n",
       "            </tr>\n",
       "            <tr>\n",
       "                        <th id=\"T_4878aba6_3e95_11eb_8369_24ee9a2d0149level0_row14\" class=\"row_heading level0 row14\" >14</th>\n",
       "                        <td id=\"T_4878aba6_3e95_11eb_8369_24ee9a2d0149row14_col0\" class=\"data row14 col0\" >Fold Number</td>\n",
       "                        <td id=\"T_4878aba6_3e95_11eb_8369_24ee9a2d0149row14_col1\" class=\"data row14 col1\" >10</td>\n",
       "            </tr>\n",
       "            <tr>\n",
       "                        <th id=\"T_4878aba6_3e95_11eb_8369_24ee9a2d0149level0_row15\" class=\"row_heading level0 row15\" >15</th>\n",
       "                        <td id=\"T_4878aba6_3e95_11eb_8369_24ee9a2d0149row15_col0\" class=\"data row15 col0\" >CPU Jobs</td>\n",
       "                        <td id=\"T_4878aba6_3e95_11eb_8369_24ee9a2d0149row15_col1\" class=\"data row15 col1\" >-1</td>\n",
       "            </tr>\n",
       "            <tr>\n",
       "                        <th id=\"T_4878aba6_3e95_11eb_8369_24ee9a2d0149level0_row16\" class=\"row_heading level0 row16\" >16</th>\n",
       "                        <td id=\"T_4878aba6_3e95_11eb_8369_24ee9a2d0149row16_col0\" class=\"data row16 col0\" >Use GPU</td>\n",
       "                        <td id=\"T_4878aba6_3e95_11eb_8369_24ee9a2d0149row16_col1\" class=\"data row16 col1\" >True</td>\n",
       "            </tr>\n",
       "            <tr>\n",
       "                        <th id=\"T_4878aba6_3e95_11eb_8369_24ee9a2d0149level0_row17\" class=\"row_heading level0 row17\" >17</th>\n",
       "                        <td id=\"T_4878aba6_3e95_11eb_8369_24ee9a2d0149row17_col0\" class=\"data row17 col0\" >Log Experiment</td>\n",
       "                        <td id=\"T_4878aba6_3e95_11eb_8369_24ee9a2d0149row17_col1\" class=\"data row17 col1\" >False</td>\n",
       "            </tr>\n",
       "            <tr>\n",
       "                        <th id=\"T_4878aba6_3e95_11eb_8369_24ee9a2d0149level0_row18\" class=\"row_heading level0 row18\" >18</th>\n",
       "                        <td id=\"T_4878aba6_3e95_11eb_8369_24ee9a2d0149row18_col0\" class=\"data row18 col0\" >Experiment Name</td>\n",
       "                        <td id=\"T_4878aba6_3e95_11eb_8369_24ee9a2d0149row18_col1\" class=\"data row18 col1\" >reg-default-name</td>\n",
       "            </tr>\n",
       "            <tr>\n",
       "                        <th id=\"T_4878aba6_3e95_11eb_8369_24ee9a2d0149level0_row19\" class=\"row_heading level0 row19\" >19</th>\n",
       "                        <td id=\"T_4878aba6_3e95_11eb_8369_24ee9a2d0149row19_col0\" class=\"data row19 col0\" >USI</td>\n",
       "                        <td id=\"T_4878aba6_3e95_11eb_8369_24ee9a2d0149row19_col1\" class=\"data row19 col1\" >ad23</td>\n",
       "            </tr>\n",
       "            <tr>\n",
       "                        <th id=\"T_4878aba6_3e95_11eb_8369_24ee9a2d0149level0_row20\" class=\"row_heading level0 row20\" >20</th>\n",
       "                        <td id=\"T_4878aba6_3e95_11eb_8369_24ee9a2d0149row20_col0\" class=\"data row20 col0\" >Imputation Type</td>\n",
       "                        <td id=\"T_4878aba6_3e95_11eb_8369_24ee9a2d0149row20_col1\" class=\"data row20 col1\" >simple</td>\n",
       "            </tr>\n",
       "            <tr>\n",
       "                        <th id=\"T_4878aba6_3e95_11eb_8369_24ee9a2d0149level0_row21\" class=\"row_heading level0 row21\" >21</th>\n",
       "                        <td id=\"T_4878aba6_3e95_11eb_8369_24ee9a2d0149row21_col0\" class=\"data row21 col0\" >Iterative Imputation Iteration</td>\n",
       "                        <td id=\"T_4878aba6_3e95_11eb_8369_24ee9a2d0149row21_col1\" class=\"data row21 col1\" >None</td>\n",
       "            </tr>\n",
       "            <tr>\n",
       "                        <th id=\"T_4878aba6_3e95_11eb_8369_24ee9a2d0149level0_row22\" class=\"row_heading level0 row22\" >22</th>\n",
       "                        <td id=\"T_4878aba6_3e95_11eb_8369_24ee9a2d0149row22_col0\" class=\"data row22 col0\" >Numeric Imputer</td>\n",
       "                        <td id=\"T_4878aba6_3e95_11eb_8369_24ee9a2d0149row22_col1\" class=\"data row22 col1\" >mean</td>\n",
       "            </tr>\n",
       "            <tr>\n",
       "                        <th id=\"T_4878aba6_3e95_11eb_8369_24ee9a2d0149level0_row23\" class=\"row_heading level0 row23\" >23</th>\n",
       "                        <td id=\"T_4878aba6_3e95_11eb_8369_24ee9a2d0149row23_col0\" class=\"data row23 col0\" >Iterative Imputation Numeric Model</td>\n",
       "                        <td id=\"T_4878aba6_3e95_11eb_8369_24ee9a2d0149row23_col1\" class=\"data row23 col1\" >None</td>\n",
       "            </tr>\n",
       "            <tr>\n",
       "                        <th id=\"T_4878aba6_3e95_11eb_8369_24ee9a2d0149level0_row24\" class=\"row_heading level0 row24\" >24</th>\n",
       "                        <td id=\"T_4878aba6_3e95_11eb_8369_24ee9a2d0149row24_col0\" class=\"data row24 col0\" >Categorical Imputer</td>\n",
       "                        <td id=\"T_4878aba6_3e95_11eb_8369_24ee9a2d0149row24_col1\" class=\"data row24 col1\" >constant</td>\n",
       "            </tr>\n",
       "            <tr>\n",
       "                        <th id=\"T_4878aba6_3e95_11eb_8369_24ee9a2d0149level0_row25\" class=\"row_heading level0 row25\" >25</th>\n",
       "                        <td id=\"T_4878aba6_3e95_11eb_8369_24ee9a2d0149row25_col0\" class=\"data row25 col0\" >Iterative Imputation Categorical Model</td>\n",
       "                        <td id=\"T_4878aba6_3e95_11eb_8369_24ee9a2d0149row25_col1\" class=\"data row25 col1\" >None</td>\n",
       "            </tr>\n",
       "            <tr>\n",
       "                        <th id=\"T_4878aba6_3e95_11eb_8369_24ee9a2d0149level0_row26\" class=\"row_heading level0 row26\" >26</th>\n",
       "                        <td id=\"T_4878aba6_3e95_11eb_8369_24ee9a2d0149row26_col0\" class=\"data row26 col0\" >Unknown Categoricals Handling</td>\n",
       "                        <td id=\"T_4878aba6_3e95_11eb_8369_24ee9a2d0149row26_col1\" class=\"data row26 col1\" >least_frequent</td>\n",
       "            </tr>\n",
       "            <tr>\n",
       "                        <th id=\"T_4878aba6_3e95_11eb_8369_24ee9a2d0149level0_row27\" class=\"row_heading level0 row27\" >27</th>\n",
       "                        <td id=\"T_4878aba6_3e95_11eb_8369_24ee9a2d0149row27_col0\" class=\"data row27 col0\" >Normalize</td>\n",
       "                        <td id=\"T_4878aba6_3e95_11eb_8369_24ee9a2d0149row27_col1\" class=\"data row27 col1\" >False</td>\n",
       "            </tr>\n",
       "            <tr>\n",
       "                        <th id=\"T_4878aba6_3e95_11eb_8369_24ee9a2d0149level0_row28\" class=\"row_heading level0 row28\" >28</th>\n",
       "                        <td id=\"T_4878aba6_3e95_11eb_8369_24ee9a2d0149row28_col0\" class=\"data row28 col0\" >Normalize Method</td>\n",
       "                        <td id=\"T_4878aba6_3e95_11eb_8369_24ee9a2d0149row28_col1\" class=\"data row28 col1\" >None</td>\n",
       "            </tr>\n",
       "            <tr>\n",
       "                        <th id=\"T_4878aba6_3e95_11eb_8369_24ee9a2d0149level0_row29\" class=\"row_heading level0 row29\" >29</th>\n",
       "                        <td id=\"T_4878aba6_3e95_11eb_8369_24ee9a2d0149row29_col0\" class=\"data row29 col0\" >Transformation</td>\n",
       "                        <td id=\"T_4878aba6_3e95_11eb_8369_24ee9a2d0149row29_col1\" class=\"data row29 col1\" >False</td>\n",
       "            </tr>\n",
       "            <tr>\n",
       "                        <th id=\"T_4878aba6_3e95_11eb_8369_24ee9a2d0149level0_row30\" class=\"row_heading level0 row30\" >30</th>\n",
       "                        <td id=\"T_4878aba6_3e95_11eb_8369_24ee9a2d0149row30_col0\" class=\"data row30 col0\" >Transformation Method</td>\n",
       "                        <td id=\"T_4878aba6_3e95_11eb_8369_24ee9a2d0149row30_col1\" class=\"data row30 col1\" >None</td>\n",
       "            </tr>\n",
       "            <tr>\n",
       "                        <th id=\"T_4878aba6_3e95_11eb_8369_24ee9a2d0149level0_row31\" class=\"row_heading level0 row31\" >31</th>\n",
       "                        <td id=\"T_4878aba6_3e95_11eb_8369_24ee9a2d0149row31_col0\" class=\"data row31 col0\" >PCA</td>\n",
       "                        <td id=\"T_4878aba6_3e95_11eb_8369_24ee9a2d0149row31_col1\" class=\"data row31 col1\" >False</td>\n",
       "            </tr>\n",
       "            <tr>\n",
       "                        <th id=\"T_4878aba6_3e95_11eb_8369_24ee9a2d0149level0_row32\" class=\"row_heading level0 row32\" >32</th>\n",
       "                        <td id=\"T_4878aba6_3e95_11eb_8369_24ee9a2d0149row32_col0\" class=\"data row32 col0\" >PCA Method</td>\n",
       "                        <td id=\"T_4878aba6_3e95_11eb_8369_24ee9a2d0149row32_col1\" class=\"data row32 col1\" >None</td>\n",
       "            </tr>\n",
       "            <tr>\n",
       "                        <th id=\"T_4878aba6_3e95_11eb_8369_24ee9a2d0149level0_row33\" class=\"row_heading level0 row33\" >33</th>\n",
       "                        <td id=\"T_4878aba6_3e95_11eb_8369_24ee9a2d0149row33_col0\" class=\"data row33 col0\" >PCA Components</td>\n",
       "                        <td id=\"T_4878aba6_3e95_11eb_8369_24ee9a2d0149row33_col1\" class=\"data row33 col1\" >None</td>\n",
       "            </tr>\n",
       "            <tr>\n",
       "                        <th id=\"T_4878aba6_3e95_11eb_8369_24ee9a2d0149level0_row34\" class=\"row_heading level0 row34\" >34</th>\n",
       "                        <td id=\"T_4878aba6_3e95_11eb_8369_24ee9a2d0149row34_col0\" class=\"data row34 col0\" >Ignore Low Variance</td>\n",
       "                        <td id=\"T_4878aba6_3e95_11eb_8369_24ee9a2d0149row34_col1\" class=\"data row34 col1\" >False</td>\n",
       "            </tr>\n",
       "            <tr>\n",
       "                        <th id=\"T_4878aba6_3e95_11eb_8369_24ee9a2d0149level0_row35\" class=\"row_heading level0 row35\" >35</th>\n",
       "                        <td id=\"T_4878aba6_3e95_11eb_8369_24ee9a2d0149row35_col0\" class=\"data row35 col0\" >Combine Rare Levels</td>\n",
       "                        <td id=\"T_4878aba6_3e95_11eb_8369_24ee9a2d0149row35_col1\" class=\"data row35 col1\" >False</td>\n",
       "            </tr>\n",
       "            <tr>\n",
       "                        <th id=\"T_4878aba6_3e95_11eb_8369_24ee9a2d0149level0_row36\" class=\"row_heading level0 row36\" >36</th>\n",
       "                        <td id=\"T_4878aba6_3e95_11eb_8369_24ee9a2d0149row36_col0\" class=\"data row36 col0\" >Rare Level Threshold</td>\n",
       "                        <td id=\"T_4878aba6_3e95_11eb_8369_24ee9a2d0149row36_col1\" class=\"data row36 col1\" >None</td>\n",
       "            </tr>\n",
       "            <tr>\n",
       "                        <th id=\"T_4878aba6_3e95_11eb_8369_24ee9a2d0149level0_row37\" class=\"row_heading level0 row37\" >37</th>\n",
       "                        <td id=\"T_4878aba6_3e95_11eb_8369_24ee9a2d0149row37_col0\" class=\"data row37 col0\" >Numeric Binning</td>\n",
       "                        <td id=\"T_4878aba6_3e95_11eb_8369_24ee9a2d0149row37_col1\" class=\"data row37 col1\" >False</td>\n",
       "            </tr>\n",
       "            <tr>\n",
       "                        <th id=\"T_4878aba6_3e95_11eb_8369_24ee9a2d0149level0_row38\" class=\"row_heading level0 row38\" >38</th>\n",
       "                        <td id=\"T_4878aba6_3e95_11eb_8369_24ee9a2d0149row38_col0\" class=\"data row38 col0\" >Remove Outliers</td>\n",
       "                        <td id=\"T_4878aba6_3e95_11eb_8369_24ee9a2d0149row38_col1\" class=\"data row38 col1\" >False</td>\n",
       "            </tr>\n",
       "            <tr>\n",
       "                        <th id=\"T_4878aba6_3e95_11eb_8369_24ee9a2d0149level0_row39\" class=\"row_heading level0 row39\" >39</th>\n",
       "                        <td id=\"T_4878aba6_3e95_11eb_8369_24ee9a2d0149row39_col0\" class=\"data row39 col0\" >Outliers Threshold</td>\n",
       "                        <td id=\"T_4878aba6_3e95_11eb_8369_24ee9a2d0149row39_col1\" class=\"data row39 col1\" >None</td>\n",
       "            </tr>\n",
       "            <tr>\n",
       "                        <th id=\"T_4878aba6_3e95_11eb_8369_24ee9a2d0149level0_row40\" class=\"row_heading level0 row40\" >40</th>\n",
       "                        <td id=\"T_4878aba6_3e95_11eb_8369_24ee9a2d0149row40_col0\" class=\"data row40 col0\" >Remove Multicollinearity</td>\n",
       "                        <td id=\"T_4878aba6_3e95_11eb_8369_24ee9a2d0149row40_col1\" class=\"data row40 col1\" >False</td>\n",
       "            </tr>\n",
       "            <tr>\n",
       "                        <th id=\"T_4878aba6_3e95_11eb_8369_24ee9a2d0149level0_row41\" class=\"row_heading level0 row41\" >41</th>\n",
       "                        <td id=\"T_4878aba6_3e95_11eb_8369_24ee9a2d0149row41_col0\" class=\"data row41 col0\" >Multicollinearity Threshold</td>\n",
       "                        <td id=\"T_4878aba6_3e95_11eb_8369_24ee9a2d0149row41_col1\" class=\"data row41 col1\" >None</td>\n",
       "            </tr>\n",
       "            <tr>\n",
       "                        <th id=\"T_4878aba6_3e95_11eb_8369_24ee9a2d0149level0_row42\" class=\"row_heading level0 row42\" >42</th>\n",
       "                        <td id=\"T_4878aba6_3e95_11eb_8369_24ee9a2d0149row42_col0\" class=\"data row42 col0\" >Clustering</td>\n",
       "                        <td id=\"T_4878aba6_3e95_11eb_8369_24ee9a2d0149row42_col1\" class=\"data row42 col1\" >False</td>\n",
       "            </tr>\n",
       "            <tr>\n",
       "                        <th id=\"T_4878aba6_3e95_11eb_8369_24ee9a2d0149level0_row43\" class=\"row_heading level0 row43\" >43</th>\n",
       "                        <td id=\"T_4878aba6_3e95_11eb_8369_24ee9a2d0149row43_col0\" class=\"data row43 col0\" >Clustering Iteration</td>\n",
       "                        <td id=\"T_4878aba6_3e95_11eb_8369_24ee9a2d0149row43_col1\" class=\"data row43 col1\" >None</td>\n",
       "            </tr>\n",
       "            <tr>\n",
       "                        <th id=\"T_4878aba6_3e95_11eb_8369_24ee9a2d0149level0_row44\" class=\"row_heading level0 row44\" >44</th>\n",
       "                        <td id=\"T_4878aba6_3e95_11eb_8369_24ee9a2d0149row44_col0\" class=\"data row44 col0\" >Polynomial Features</td>\n",
       "                        <td id=\"T_4878aba6_3e95_11eb_8369_24ee9a2d0149row44_col1\" class=\"data row44 col1\" >False</td>\n",
       "            </tr>\n",
       "            <tr>\n",
       "                        <th id=\"T_4878aba6_3e95_11eb_8369_24ee9a2d0149level0_row45\" class=\"row_heading level0 row45\" >45</th>\n",
       "                        <td id=\"T_4878aba6_3e95_11eb_8369_24ee9a2d0149row45_col0\" class=\"data row45 col0\" >Polynomial Degree</td>\n",
       "                        <td id=\"T_4878aba6_3e95_11eb_8369_24ee9a2d0149row45_col1\" class=\"data row45 col1\" >None</td>\n",
       "            </tr>\n",
       "            <tr>\n",
       "                        <th id=\"T_4878aba6_3e95_11eb_8369_24ee9a2d0149level0_row46\" class=\"row_heading level0 row46\" >46</th>\n",
       "                        <td id=\"T_4878aba6_3e95_11eb_8369_24ee9a2d0149row46_col0\" class=\"data row46 col0\" >Trignometry Features</td>\n",
       "                        <td id=\"T_4878aba6_3e95_11eb_8369_24ee9a2d0149row46_col1\" class=\"data row46 col1\" >False</td>\n",
       "            </tr>\n",
       "            <tr>\n",
       "                        <th id=\"T_4878aba6_3e95_11eb_8369_24ee9a2d0149level0_row47\" class=\"row_heading level0 row47\" >47</th>\n",
       "                        <td id=\"T_4878aba6_3e95_11eb_8369_24ee9a2d0149row47_col0\" class=\"data row47 col0\" >Polynomial Threshold</td>\n",
       "                        <td id=\"T_4878aba6_3e95_11eb_8369_24ee9a2d0149row47_col1\" class=\"data row47 col1\" >None</td>\n",
       "            </tr>\n",
       "            <tr>\n",
       "                        <th id=\"T_4878aba6_3e95_11eb_8369_24ee9a2d0149level0_row48\" class=\"row_heading level0 row48\" >48</th>\n",
       "                        <td id=\"T_4878aba6_3e95_11eb_8369_24ee9a2d0149row48_col0\" class=\"data row48 col0\" >Group Features</td>\n",
       "                        <td id=\"T_4878aba6_3e95_11eb_8369_24ee9a2d0149row48_col1\" class=\"data row48 col1\" >False</td>\n",
       "            </tr>\n",
       "            <tr>\n",
       "                        <th id=\"T_4878aba6_3e95_11eb_8369_24ee9a2d0149level0_row49\" class=\"row_heading level0 row49\" >49</th>\n",
       "                        <td id=\"T_4878aba6_3e95_11eb_8369_24ee9a2d0149row49_col0\" class=\"data row49 col0\" >Feature Selection</td>\n",
       "                        <td id=\"T_4878aba6_3e95_11eb_8369_24ee9a2d0149row49_col1\" class=\"data row49 col1\" >False</td>\n",
       "            </tr>\n",
       "            <tr>\n",
       "                        <th id=\"T_4878aba6_3e95_11eb_8369_24ee9a2d0149level0_row50\" class=\"row_heading level0 row50\" >50</th>\n",
       "                        <td id=\"T_4878aba6_3e95_11eb_8369_24ee9a2d0149row50_col0\" class=\"data row50 col0\" >Features Selection Threshold</td>\n",
       "                        <td id=\"T_4878aba6_3e95_11eb_8369_24ee9a2d0149row50_col1\" class=\"data row50 col1\" >None</td>\n",
       "            </tr>\n",
       "            <tr>\n",
       "                        <th id=\"T_4878aba6_3e95_11eb_8369_24ee9a2d0149level0_row51\" class=\"row_heading level0 row51\" >51</th>\n",
       "                        <td id=\"T_4878aba6_3e95_11eb_8369_24ee9a2d0149row51_col0\" class=\"data row51 col0\" >Feature Interaction</td>\n",
       "                        <td id=\"T_4878aba6_3e95_11eb_8369_24ee9a2d0149row51_col1\" class=\"data row51 col1\" >False</td>\n",
       "            </tr>\n",
       "            <tr>\n",
       "                        <th id=\"T_4878aba6_3e95_11eb_8369_24ee9a2d0149level0_row52\" class=\"row_heading level0 row52\" >52</th>\n",
       "                        <td id=\"T_4878aba6_3e95_11eb_8369_24ee9a2d0149row52_col0\" class=\"data row52 col0\" >Feature Ratio</td>\n",
       "                        <td id=\"T_4878aba6_3e95_11eb_8369_24ee9a2d0149row52_col1\" class=\"data row52 col1\" >False</td>\n",
       "            </tr>\n",
       "            <tr>\n",
       "                        <th id=\"T_4878aba6_3e95_11eb_8369_24ee9a2d0149level0_row53\" class=\"row_heading level0 row53\" >53</th>\n",
       "                        <td id=\"T_4878aba6_3e95_11eb_8369_24ee9a2d0149row53_col0\" class=\"data row53 col0\" >Interaction Threshold</td>\n",
       "                        <td id=\"T_4878aba6_3e95_11eb_8369_24ee9a2d0149row53_col1\" class=\"data row53 col1\" >None</td>\n",
       "            </tr>\n",
       "            <tr>\n",
       "                        <th id=\"T_4878aba6_3e95_11eb_8369_24ee9a2d0149level0_row54\" class=\"row_heading level0 row54\" >54</th>\n",
       "                        <td id=\"T_4878aba6_3e95_11eb_8369_24ee9a2d0149row54_col0\" class=\"data row54 col0\" >Transform Target</td>\n",
       "                        <td id=\"T_4878aba6_3e95_11eb_8369_24ee9a2d0149row54_col1\" class=\"data row54 col1\" >False</td>\n",
       "            </tr>\n",
       "            <tr>\n",
       "                        <th id=\"T_4878aba6_3e95_11eb_8369_24ee9a2d0149level0_row55\" class=\"row_heading level0 row55\" >55</th>\n",
       "                        <td id=\"T_4878aba6_3e95_11eb_8369_24ee9a2d0149row55_col0\" class=\"data row55 col0\" >Transform Target Method</td>\n",
       "                        <td id=\"T_4878aba6_3e95_11eb_8369_24ee9a2d0149row55_col1\" class=\"data row55 col1\" >box-cox</td>\n",
       "            </tr>\n",
       "    </tbody></table>"
      ],
      "text/plain": [
       "<pandas.io.formats.style.Styler at 0x200a66a2cd0>"
      ]
     },
     "metadata": {},
     "output_type": "display_data"
    }
   ],
   "source": [
    "exp_reg101 = setup(data = data2, target=\"price\", data_split_stratify=[\"category_dog\"], use_gpu=True)"
   ]
  },
  {
   "cell_type": "code",
   "execution_count": 61,
   "metadata": {
    "colab": {
     "base_uri": "https://localhost:8080/",
     "height": 645,
     "referenced_widgets": [
      "6932171f9c45426298b1f1569840e52e",
      "e9af8180f4be4c89a5e190d2c0db5215",
      "2160a89918034ea89682dda2013c545b"
     ]
    },
    "id": "5ytLe-QlEYcK",
    "outputId": "87f5153e-10a6-40d7-d91d-36033f7571d8"
   },
   "outputs": [
    {
     "data": {
      "text/html": [
       "<style  type=\"text/css\" >\n",
       "    #T_bea6b226_3e95_11eb_b560_24ee9a2d0149 th {\n",
       "          text-align: left;\n",
       "    }#T_bea6b226_3e95_11eb_b560_24ee9a2d0149row0_col0,#T_bea6b226_3e95_11eb_b560_24ee9a2d0149row1_col0,#T_bea6b226_3e95_11eb_b560_24ee9a2d0149row1_col1,#T_bea6b226_3e95_11eb_b560_24ee9a2d0149row1_col2,#T_bea6b226_3e95_11eb_b560_24ee9a2d0149row1_col3,#T_bea6b226_3e95_11eb_b560_24ee9a2d0149row1_col4,#T_bea6b226_3e95_11eb_b560_24ee9a2d0149row1_col5,#T_bea6b226_3e95_11eb_b560_24ee9a2d0149row1_col6,#T_bea6b226_3e95_11eb_b560_24ee9a2d0149row2_col0,#T_bea6b226_3e95_11eb_b560_24ee9a2d0149row2_col1,#T_bea6b226_3e95_11eb_b560_24ee9a2d0149row2_col2,#T_bea6b226_3e95_11eb_b560_24ee9a2d0149row2_col3,#T_bea6b226_3e95_11eb_b560_24ee9a2d0149row2_col4,#T_bea6b226_3e95_11eb_b560_24ee9a2d0149row2_col5,#T_bea6b226_3e95_11eb_b560_24ee9a2d0149row2_col6,#T_bea6b226_3e95_11eb_b560_24ee9a2d0149row3_col0,#T_bea6b226_3e95_11eb_b560_24ee9a2d0149row3_col1,#T_bea6b226_3e95_11eb_b560_24ee9a2d0149row3_col2,#T_bea6b226_3e95_11eb_b560_24ee9a2d0149row3_col3,#T_bea6b226_3e95_11eb_b560_24ee9a2d0149row3_col4,#T_bea6b226_3e95_11eb_b560_24ee9a2d0149row3_col5,#T_bea6b226_3e95_11eb_b560_24ee9a2d0149row3_col6,#T_bea6b226_3e95_11eb_b560_24ee9a2d0149row4_col0,#T_bea6b226_3e95_11eb_b560_24ee9a2d0149row4_col1,#T_bea6b226_3e95_11eb_b560_24ee9a2d0149row4_col2,#T_bea6b226_3e95_11eb_b560_24ee9a2d0149row4_col3,#T_bea6b226_3e95_11eb_b560_24ee9a2d0149row4_col4,#T_bea6b226_3e95_11eb_b560_24ee9a2d0149row4_col5,#T_bea6b226_3e95_11eb_b560_24ee9a2d0149row4_col6,#T_bea6b226_3e95_11eb_b560_24ee9a2d0149row5_col0,#T_bea6b226_3e95_11eb_b560_24ee9a2d0149row5_col1,#T_bea6b226_3e95_11eb_b560_24ee9a2d0149row5_col2,#T_bea6b226_3e95_11eb_b560_24ee9a2d0149row5_col3,#T_bea6b226_3e95_11eb_b560_24ee9a2d0149row5_col4,#T_bea6b226_3e95_11eb_b560_24ee9a2d0149row5_col5,#T_bea6b226_3e95_11eb_b560_24ee9a2d0149row5_col6,#T_bea6b226_3e95_11eb_b560_24ee9a2d0149row6_col0,#T_bea6b226_3e95_11eb_b560_24ee9a2d0149row6_col1,#T_bea6b226_3e95_11eb_b560_24ee9a2d0149row6_col2,#T_bea6b226_3e95_11eb_b560_24ee9a2d0149row6_col3,#T_bea6b226_3e95_11eb_b560_24ee9a2d0149row6_col4,#T_bea6b226_3e95_11eb_b560_24ee9a2d0149row6_col5,#T_bea6b226_3e95_11eb_b560_24ee9a2d0149row6_col6,#T_bea6b226_3e95_11eb_b560_24ee9a2d0149row7_col0,#T_bea6b226_3e95_11eb_b560_24ee9a2d0149row7_col1,#T_bea6b226_3e95_11eb_b560_24ee9a2d0149row7_col2,#T_bea6b226_3e95_11eb_b560_24ee9a2d0149row7_col3,#T_bea6b226_3e95_11eb_b560_24ee9a2d0149row7_col4,#T_bea6b226_3e95_11eb_b560_24ee9a2d0149row7_col5,#T_bea6b226_3e95_11eb_b560_24ee9a2d0149row7_col6,#T_bea6b226_3e95_11eb_b560_24ee9a2d0149row8_col0,#T_bea6b226_3e95_11eb_b560_24ee9a2d0149row8_col1,#T_bea6b226_3e95_11eb_b560_24ee9a2d0149row8_col2,#T_bea6b226_3e95_11eb_b560_24ee9a2d0149row8_col3,#T_bea6b226_3e95_11eb_b560_24ee9a2d0149row8_col4,#T_bea6b226_3e95_11eb_b560_24ee9a2d0149row8_col5,#T_bea6b226_3e95_11eb_b560_24ee9a2d0149row8_col6,#T_bea6b226_3e95_11eb_b560_24ee9a2d0149row9_col0,#T_bea6b226_3e95_11eb_b560_24ee9a2d0149row9_col1,#T_bea6b226_3e95_11eb_b560_24ee9a2d0149row9_col2,#T_bea6b226_3e95_11eb_b560_24ee9a2d0149row9_col3,#T_bea6b226_3e95_11eb_b560_24ee9a2d0149row9_col4,#T_bea6b226_3e95_11eb_b560_24ee9a2d0149row9_col5,#T_bea6b226_3e95_11eb_b560_24ee9a2d0149row9_col6,#T_bea6b226_3e95_11eb_b560_24ee9a2d0149row10_col0,#T_bea6b226_3e95_11eb_b560_24ee9a2d0149row10_col1,#T_bea6b226_3e95_11eb_b560_24ee9a2d0149row10_col2,#T_bea6b226_3e95_11eb_b560_24ee9a2d0149row10_col3,#T_bea6b226_3e95_11eb_b560_24ee9a2d0149row10_col4,#T_bea6b226_3e95_11eb_b560_24ee9a2d0149row10_col5,#T_bea6b226_3e95_11eb_b560_24ee9a2d0149row10_col6,#T_bea6b226_3e95_11eb_b560_24ee9a2d0149row11_col0,#T_bea6b226_3e95_11eb_b560_24ee9a2d0149row11_col1,#T_bea6b226_3e95_11eb_b560_24ee9a2d0149row11_col2,#T_bea6b226_3e95_11eb_b560_24ee9a2d0149row11_col3,#T_bea6b226_3e95_11eb_b560_24ee9a2d0149row11_col4,#T_bea6b226_3e95_11eb_b560_24ee9a2d0149row11_col5,#T_bea6b226_3e95_11eb_b560_24ee9a2d0149row11_col6,#T_bea6b226_3e95_11eb_b560_24ee9a2d0149row12_col0,#T_bea6b226_3e95_11eb_b560_24ee9a2d0149row12_col1,#T_bea6b226_3e95_11eb_b560_24ee9a2d0149row12_col2,#T_bea6b226_3e95_11eb_b560_24ee9a2d0149row12_col3,#T_bea6b226_3e95_11eb_b560_24ee9a2d0149row12_col4,#T_bea6b226_3e95_11eb_b560_24ee9a2d0149row12_col5,#T_bea6b226_3e95_11eb_b560_24ee9a2d0149row12_col6,#T_bea6b226_3e95_11eb_b560_24ee9a2d0149row13_col0,#T_bea6b226_3e95_11eb_b560_24ee9a2d0149row13_col1,#T_bea6b226_3e95_11eb_b560_24ee9a2d0149row13_col2,#T_bea6b226_3e95_11eb_b560_24ee9a2d0149row13_col3,#T_bea6b226_3e95_11eb_b560_24ee9a2d0149row13_col4,#T_bea6b226_3e95_11eb_b560_24ee9a2d0149row13_col5,#T_bea6b226_3e95_11eb_b560_24ee9a2d0149row13_col6,#T_bea6b226_3e95_11eb_b560_24ee9a2d0149row14_col0,#T_bea6b226_3e95_11eb_b560_24ee9a2d0149row14_col1,#T_bea6b226_3e95_11eb_b560_24ee9a2d0149row14_col2,#T_bea6b226_3e95_11eb_b560_24ee9a2d0149row14_col3,#T_bea6b226_3e95_11eb_b560_24ee9a2d0149row14_col4,#T_bea6b226_3e95_11eb_b560_24ee9a2d0149row14_col5,#T_bea6b226_3e95_11eb_b560_24ee9a2d0149row14_col6,#T_bea6b226_3e95_11eb_b560_24ee9a2d0149row15_col0,#T_bea6b226_3e95_11eb_b560_24ee9a2d0149row15_col1,#T_bea6b226_3e95_11eb_b560_24ee9a2d0149row15_col2,#T_bea6b226_3e95_11eb_b560_24ee9a2d0149row15_col3,#T_bea6b226_3e95_11eb_b560_24ee9a2d0149row15_col4,#T_bea6b226_3e95_11eb_b560_24ee9a2d0149row15_col5,#T_bea6b226_3e95_11eb_b560_24ee9a2d0149row15_col6,#T_bea6b226_3e95_11eb_b560_24ee9a2d0149row16_col0,#T_bea6b226_3e95_11eb_b560_24ee9a2d0149row16_col1,#T_bea6b226_3e95_11eb_b560_24ee9a2d0149row16_col2,#T_bea6b226_3e95_11eb_b560_24ee9a2d0149row16_col3,#T_bea6b226_3e95_11eb_b560_24ee9a2d0149row16_col4,#T_bea6b226_3e95_11eb_b560_24ee9a2d0149row16_col5,#T_bea6b226_3e95_11eb_b560_24ee9a2d0149row16_col6,#T_bea6b226_3e95_11eb_b560_24ee9a2d0149row17_col0,#T_bea6b226_3e95_11eb_b560_24ee9a2d0149row17_col1,#T_bea6b226_3e95_11eb_b560_24ee9a2d0149row17_col2,#T_bea6b226_3e95_11eb_b560_24ee9a2d0149row17_col3,#T_bea6b226_3e95_11eb_b560_24ee9a2d0149row17_col4,#T_bea6b226_3e95_11eb_b560_24ee9a2d0149row17_col5,#T_bea6b226_3e95_11eb_b560_24ee9a2d0149row17_col6,#T_bea6b226_3e95_11eb_b560_24ee9a2d0149row18_col0,#T_bea6b226_3e95_11eb_b560_24ee9a2d0149row18_col1,#T_bea6b226_3e95_11eb_b560_24ee9a2d0149row18_col2,#T_bea6b226_3e95_11eb_b560_24ee9a2d0149row18_col3,#T_bea6b226_3e95_11eb_b560_24ee9a2d0149row18_col4,#T_bea6b226_3e95_11eb_b560_24ee9a2d0149row18_col5,#T_bea6b226_3e95_11eb_b560_24ee9a2d0149row18_col6{\n",
       "            text-align:  left;\n",
       "            text-align:  left;\n",
       "        }#T_bea6b226_3e95_11eb_b560_24ee9a2d0149row0_col1,#T_bea6b226_3e95_11eb_b560_24ee9a2d0149row0_col2,#T_bea6b226_3e95_11eb_b560_24ee9a2d0149row0_col3,#T_bea6b226_3e95_11eb_b560_24ee9a2d0149row0_col4,#T_bea6b226_3e95_11eb_b560_24ee9a2d0149row0_col5,#T_bea6b226_3e95_11eb_b560_24ee9a2d0149row0_col6{\n",
       "            text-align:  left;\n",
       "            text-align:  left;\n",
       "            background-color:  yellow;\n",
       "        }#T_bea6b226_3e95_11eb_b560_24ee9a2d0149row0_col7,#T_bea6b226_3e95_11eb_b560_24ee9a2d0149row1_col7,#T_bea6b226_3e95_11eb_b560_24ee9a2d0149row2_col7,#T_bea6b226_3e95_11eb_b560_24ee9a2d0149row3_col7,#T_bea6b226_3e95_11eb_b560_24ee9a2d0149row4_col7,#T_bea6b226_3e95_11eb_b560_24ee9a2d0149row5_col7,#T_bea6b226_3e95_11eb_b560_24ee9a2d0149row6_col7,#T_bea6b226_3e95_11eb_b560_24ee9a2d0149row7_col7,#T_bea6b226_3e95_11eb_b560_24ee9a2d0149row8_col7,#T_bea6b226_3e95_11eb_b560_24ee9a2d0149row9_col7,#T_bea6b226_3e95_11eb_b560_24ee9a2d0149row10_col7,#T_bea6b226_3e95_11eb_b560_24ee9a2d0149row11_col7,#T_bea6b226_3e95_11eb_b560_24ee9a2d0149row12_col7,#T_bea6b226_3e95_11eb_b560_24ee9a2d0149row13_col7,#T_bea6b226_3e95_11eb_b560_24ee9a2d0149row14_col7,#T_bea6b226_3e95_11eb_b560_24ee9a2d0149row17_col7,#T_bea6b226_3e95_11eb_b560_24ee9a2d0149row18_col7{\n",
       "            text-align:  left;\n",
       "            text-align:  left;\n",
       "            background-color:  lightgrey;\n",
       "        }#T_bea6b226_3e95_11eb_b560_24ee9a2d0149row15_col7,#T_bea6b226_3e95_11eb_b560_24ee9a2d0149row16_col7{\n",
       "            text-align:  left;\n",
       "            text-align:  left;\n",
       "            background-color:  yellow;\n",
       "            background-color:  lightgrey;\n",
       "        }</style><table id=\"T_bea6b226_3e95_11eb_b560_24ee9a2d0149\" ><thead>    <tr>        <th class=\"blank level0\" ></th>        <th class=\"col_heading level0 col0\" >Model</th>        <th class=\"col_heading level0 col1\" >MAE</th>        <th class=\"col_heading level0 col2\" >MSE</th>        <th class=\"col_heading level0 col3\" >RMSE</th>        <th class=\"col_heading level0 col4\" >R2</th>        <th class=\"col_heading level0 col5\" >RMSLE</th>        <th class=\"col_heading level0 col6\" >MAPE</th>        <th class=\"col_heading level0 col7\" >TT (Sec)</th>    </tr></thead><tbody>\n",
       "                <tr>\n",
       "                        <th id=\"T_bea6b226_3e95_11eb_b560_24ee9a2d0149level0_row0\" class=\"row_heading level0 row0\" >et</th>\n",
       "                        <td id=\"T_bea6b226_3e95_11eb_b560_24ee9a2d0149row0_col0\" class=\"data row0 col0\" >Extra Trees Regressor</td>\n",
       "                        <td id=\"T_bea6b226_3e95_11eb_b560_24ee9a2d0149row0_col1\" class=\"data row0 col1\" >0.5569</td>\n",
       "                        <td id=\"T_bea6b226_3e95_11eb_b560_24ee9a2d0149row0_col2\" class=\"data row0 col2\" >0.5911</td>\n",
       "                        <td id=\"T_bea6b226_3e95_11eb_b560_24ee9a2d0149row0_col3\" class=\"data row0 col3\" >0.7681</td>\n",
       "                        <td id=\"T_bea6b226_3e95_11eb_b560_24ee9a2d0149row0_col4\" class=\"data row0 col4\" >0.6760</td>\n",
       "                        <td id=\"T_bea6b226_3e95_11eb_b560_24ee9a2d0149row0_col5\" class=\"data row0 col5\" >0.2809</td>\n",
       "                        <td id=\"T_bea6b226_3e95_11eb_b560_24ee9a2d0149row0_col6\" class=\"data row0 col6\" >1.2906</td>\n",
       "                        <td id=\"T_bea6b226_3e95_11eb_b560_24ee9a2d0149row0_col7\" class=\"data row0 col7\" >2.4860</td>\n",
       "            </tr>\n",
       "            <tr>\n",
       "                        <th id=\"T_bea6b226_3e95_11eb_b560_24ee9a2d0149level0_row1\" class=\"row_heading level0 row1\" >rf</th>\n",
       "                        <td id=\"T_bea6b226_3e95_11eb_b560_24ee9a2d0149row1_col0\" class=\"data row1 col0\" >Random Forest Regressor</td>\n",
       "                        <td id=\"T_bea6b226_3e95_11eb_b560_24ee9a2d0149row1_col1\" class=\"data row1 col1\" >0.5915</td>\n",
       "                        <td id=\"T_bea6b226_3e95_11eb_b560_24ee9a2d0149row1_col2\" class=\"data row1 col2\" >0.6281</td>\n",
       "                        <td id=\"T_bea6b226_3e95_11eb_b560_24ee9a2d0149row1_col3\" class=\"data row1 col3\" >0.7921</td>\n",
       "                        <td id=\"T_bea6b226_3e95_11eb_b560_24ee9a2d0149row1_col4\" class=\"data row1 col4\" >0.6558</td>\n",
       "                        <td id=\"T_bea6b226_3e95_11eb_b560_24ee9a2d0149row1_col5\" class=\"data row1 col5\" >0.2925</td>\n",
       "                        <td id=\"T_bea6b226_3e95_11eb_b560_24ee9a2d0149row1_col6\" class=\"data row1 col6\" >1.3732</td>\n",
       "                        <td id=\"T_bea6b226_3e95_11eb_b560_24ee9a2d0149row1_col7\" class=\"data row1 col7\" >2.3440</td>\n",
       "            </tr>\n",
       "            <tr>\n",
       "                        <th id=\"T_bea6b226_3e95_11eb_b560_24ee9a2d0149level0_row2\" class=\"row_heading level0 row2\" >lightgbm</th>\n",
       "                        <td id=\"T_bea6b226_3e95_11eb_b560_24ee9a2d0149row2_col0\" class=\"data row2 col0\" >Light Gradient Boosting Machine</td>\n",
       "                        <td id=\"T_bea6b226_3e95_11eb_b560_24ee9a2d0149row2_col1\" class=\"data row2 col1\" >0.6018</td>\n",
       "                        <td id=\"T_bea6b226_3e95_11eb_b560_24ee9a2d0149row2_col2\" class=\"data row2 col2\" >0.6295</td>\n",
       "                        <td id=\"T_bea6b226_3e95_11eb_b560_24ee9a2d0149row2_col3\" class=\"data row2 col3\" >0.7928</td>\n",
       "                        <td id=\"T_bea6b226_3e95_11eb_b560_24ee9a2d0149row2_col4\" class=\"data row2 col4\" >0.6550</td>\n",
       "                        <td id=\"T_bea6b226_3e95_11eb_b560_24ee9a2d0149row2_col5\" class=\"data row2 col5\" >0.2920</td>\n",
       "                        <td id=\"T_bea6b226_3e95_11eb_b560_24ee9a2d0149row2_col6\" class=\"data row2 col6\" >1.4126</td>\n",
       "                        <td id=\"T_bea6b226_3e95_11eb_b560_24ee9a2d0149row2_col7\" class=\"data row2 col7\" >0.7840</td>\n",
       "            </tr>\n",
       "            <tr>\n",
       "                        <th id=\"T_bea6b226_3e95_11eb_b560_24ee9a2d0149level0_row3\" class=\"row_heading level0 row3\" >catboost</th>\n",
       "                        <td id=\"T_bea6b226_3e95_11eb_b560_24ee9a2d0149row3_col0\" class=\"data row3 col0\" >CatBoost Regressor</td>\n",
       "                        <td id=\"T_bea6b226_3e95_11eb_b560_24ee9a2d0149row3_col1\" class=\"data row3 col1\" >0.6121</td>\n",
       "                        <td id=\"T_bea6b226_3e95_11eb_b560_24ee9a2d0149row3_col2\" class=\"data row3 col2\" >0.6420</td>\n",
       "                        <td id=\"T_bea6b226_3e95_11eb_b560_24ee9a2d0149row3_col3\" class=\"data row3 col3\" >0.8008</td>\n",
       "                        <td id=\"T_bea6b226_3e95_11eb_b560_24ee9a2d0149row3_col4\" class=\"data row3 col4\" >0.6482</td>\n",
       "                        <td id=\"T_bea6b226_3e95_11eb_b560_24ee9a2d0149row3_col5\" class=\"data row3 col5\" >0.2959</td>\n",
       "                        <td id=\"T_bea6b226_3e95_11eb_b560_24ee9a2d0149row3_col6\" class=\"data row3 col6\" >1.4983</td>\n",
       "                        <td id=\"T_bea6b226_3e95_11eb_b560_24ee9a2d0149row3_col7\" class=\"data row3 col7\" >19.1700</td>\n",
       "            </tr>\n",
       "            <tr>\n",
       "                        <th id=\"T_bea6b226_3e95_11eb_b560_24ee9a2d0149level0_row4\" class=\"row_heading level0 row4\" >xgboost</th>\n",
       "                        <td id=\"T_bea6b226_3e95_11eb_b560_24ee9a2d0149row4_col0\" class=\"data row4 col0\" >Extreme Gradient Boosting</td>\n",
       "                        <td id=\"T_bea6b226_3e95_11eb_b560_24ee9a2d0149row4_col1\" class=\"data row4 col1\" >0.6240</td>\n",
       "                        <td id=\"T_bea6b226_3e95_11eb_b560_24ee9a2d0149row4_col2\" class=\"data row4 col2\" >0.6783</td>\n",
       "                        <td id=\"T_bea6b226_3e95_11eb_b560_24ee9a2d0149row4_col3\" class=\"data row4 col3\" >0.8232</td>\n",
       "                        <td id=\"T_bea6b226_3e95_11eb_b560_24ee9a2d0149row4_col4\" class=\"data row4 col4\" >0.6282</td>\n",
       "                        <td id=\"T_bea6b226_3e95_11eb_b560_24ee9a2d0149row4_col5\" class=\"data row4 col5\" >0.3029</td>\n",
       "                        <td id=\"T_bea6b226_3e95_11eb_b560_24ee9a2d0149row4_col6\" class=\"data row4 col6\" >1.4619</td>\n",
       "                        <td id=\"T_bea6b226_3e95_11eb_b560_24ee9a2d0149row4_col7\" class=\"data row4 col7\" >1.6080</td>\n",
       "            </tr>\n",
       "            <tr>\n",
       "                        <th id=\"T_bea6b226_3e95_11eb_b560_24ee9a2d0149level0_row5\" class=\"row_heading level0 row5\" >gbr</th>\n",
       "                        <td id=\"T_bea6b226_3e95_11eb_b560_24ee9a2d0149row5_col0\" class=\"data row5 col0\" >Gradient Boosting Regressor</td>\n",
       "                        <td id=\"T_bea6b226_3e95_11eb_b560_24ee9a2d0149row5_col1\" class=\"data row5 col1\" >0.6583</td>\n",
       "                        <td id=\"T_bea6b226_3e95_11eb_b560_24ee9a2d0149row5_col2\" class=\"data row5 col2\" >0.7156</td>\n",
       "                        <td id=\"T_bea6b226_3e95_11eb_b560_24ee9a2d0149row5_col3\" class=\"data row5 col3\" >0.8457</td>\n",
       "                        <td id=\"T_bea6b226_3e95_11eb_b560_24ee9a2d0149row5_col4\" class=\"data row5 col4\" >0.6079</td>\n",
       "                        <td id=\"T_bea6b226_3e95_11eb_b560_24ee9a2d0149row5_col5\" class=\"data row5 col5\" >0.3112</td>\n",
       "                        <td id=\"T_bea6b226_3e95_11eb_b560_24ee9a2d0149row5_col6\" class=\"data row5 col6\" >1.6674</td>\n",
       "                        <td id=\"T_bea6b226_3e95_11eb_b560_24ee9a2d0149row5_col7\" class=\"data row5 col7\" >4.7300</td>\n",
       "            </tr>\n",
       "            <tr>\n",
       "                        <th id=\"T_bea6b226_3e95_11eb_b560_24ee9a2d0149level0_row6\" class=\"row_heading level0 row6\" >br</th>\n",
       "                        <td id=\"T_bea6b226_3e95_11eb_b560_24ee9a2d0149row6_col0\" class=\"data row6 col0\" >Bayesian Ridge</td>\n",
       "                        <td id=\"T_bea6b226_3e95_11eb_b560_24ee9a2d0149row6_col1\" class=\"data row6 col1\" >0.6727</td>\n",
       "                        <td id=\"T_bea6b226_3e95_11eb_b560_24ee9a2d0149row6_col2\" class=\"data row6 col2\" >0.7662</td>\n",
       "                        <td id=\"T_bea6b226_3e95_11eb_b560_24ee9a2d0149row6_col3\" class=\"data row6 col3\" >0.8748</td>\n",
       "                        <td id=\"T_bea6b226_3e95_11eb_b560_24ee9a2d0149row6_col4\" class=\"data row6 col4\" >0.5802</td>\n",
       "                        <td id=\"T_bea6b226_3e95_11eb_b560_24ee9a2d0149row6_col5\" class=\"data row6 col5\" >0.3197</td>\n",
       "                        <td id=\"T_bea6b226_3e95_11eb_b560_24ee9a2d0149row6_col6\" class=\"data row6 col6\" >1.6896</td>\n",
       "                        <td id=\"T_bea6b226_3e95_11eb_b560_24ee9a2d0149row6_col7\" class=\"data row6 col7\" >0.1640</td>\n",
       "            </tr>\n",
       "            <tr>\n",
       "                        <th id=\"T_bea6b226_3e95_11eb_b560_24ee9a2d0149level0_row7\" class=\"row_heading level0 row7\" >ridge</th>\n",
       "                        <td id=\"T_bea6b226_3e95_11eb_b560_24ee9a2d0149row7_col0\" class=\"data row7 col0\" >Ridge Regression</td>\n",
       "                        <td id=\"T_bea6b226_3e95_11eb_b560_24ee9a2d0149row7_col1\" class=\"data row7 col1\" >0.6741</td>\n",
       "                        <td id=\"T_bea6b226_3e95_11eb_b560_24ee9a2d0149row7_col2\" class=\"data row7 col2\" >0.7709</td>\n",
       "                        <td id=\"T_bea6b226_3e95_11eb_b560_24ee9a2d0149row7_col3\" class=\"data row7 col3\" >0.8775</td>\n",
       "                        <td id=\"T_bea6b226_3e95_11eb_b560_24ee9a2d0149row7_col4\" class=\"data row7 col4\" >0.5776</td>\n",
       "                        <td id=\"T_bea6b226_3e95_11eb_b560_24ee9a2d0149row7_col5\" class=\"data row7 col5\" >0.3203</td>\n",
       "                        <td id=\"T_bea6b226_3e95_11eb_b560_24ee9a2d0149row7_col6\" class=\"data row7 col6\" >1.6938</td>\n",
       "                        <td id=\"T_bea6b226_3e95_11eb_b560_24ee9a2d0149row7_col7\" class=\"data row7 col7\" >0.0420</td>\n",
       "            </tr>\n",
       "            <tr>\n",
       "                        <th id=\"T_bea6b226_3e95_11eb_b560_24ee9a2d0149level0_row8\" class=\"row_heading level0 row8\" >lr</th>\n",
       "                        <td id=\"T_bea6b226_3e95_11eb_b560_24ee9a2d0149row8_col0\" class=\"data row8 col0\" >Linear Regression</td>\n",
       "                        <td id=\"T_bea6b226_3e95_11eb_b560_24ee9a2d0149row8_col1\" class=\"data row8 col1\" >0.6829</td>\n",
       "                        <td id=\"T_bea6b226_3e95_11eb_b560_24ee9a2d0149row8_col2\" class=\"data row8 col2\" >0.7923</td>\n",
       "                        <td id=\"T_bea6b226_3e95_11eb_b560_24ee9a2d0149row8_col3\" class=\"data row8 col3\" >0.8896</td>\n",
       "                        <td id=\"T_bea6b226_3e95_11eb_b560_24ee9a2d0149row8_col4\" class=\"data row8 col4\" >0.5659</td>\n",
       "                        <td id=\"T_bea6b226_3e95_11eb_b560_24ee9a2d0149row8_col5\" class=\"data row8 col5\" >0.3237</td>\n",
       "                        <td id=\"T_bea6b226_3e95_11eb_b560_24ee9a2d0149row8_col6\" class=\"data row8 col6\" >1.7292</td>\n",
       "                        <td id=\"T_bea6b226_3e95_11eb_b560_24ee9a2d0149row8_col7\" class=\"data row8 col7\" >0.0720</td>\n",
       "            </tr>\n",
       "            <tr>\n",
       "                        <th id=\"T_bea6b226_3e95_11eb_b560_24ee9a2d0149level0_row9\" class=\"row_heading level0 row9\" >huber</th>\n",
       "                        <td id=\"T_bea6b226_3e95_11eb_b560_24ee9a2d0149row9_col0\" class=\"data row9 col0\" >Huber Regressor</td>\n",
       "                        <td id=\"T_bea6b226_3e95_11eb_b560_24ee9a2d0149row9_col1\" class=\"data row9 col1\" >0.6730</td>\n",
       "                        <td id=\"T_bea6b226_3e95_11eb_b560_24ee9a2d0149row9_col2\" class=\"data row9 col2\" >0.8022</td>\n",
       "                        <td id=\"T_bea6b226_3e95_11eb_b560_24ee9a2d0149row9_col3\" class=\"data row9 col3\" >0.8951</td>\n",
       "                        <td id=\"T_bea6b226_3e95_11eb_b560_24ee9a2d0149row9_col4\" class=\"data row9 col4\" >0.5605</td>\n",
       "                        <td id=\"T_bea6b226_3e95_11eb_b560_24ee9a2d0149row9_col5\" class=\"data row9 col5\" >0.3255</td>\n",
       "                        <td id=\"T_bea6b226_3e95_11eb_b560_24ee9a2d0149row9_col6\" class=\"data row9 col6\" >1.6030</td>\n",
       "                        <td id=\"T_bea6b226_3e95_11eb_b560_24ee9a2d0149row9_col7\" class=\"data row9 col7\" >2.2840</td>\n",
       "            </tr>\n",
       "            <tr>\n",
       "                        <th id=\"T_bea6b226_3e95_11eb_b560_24ee9a2d0149level0_row10\" class=\"row_heading level0 row10\" >omp</th>\n",
       "                        <td id=\"T_bea6b226_3e95_11eb_b560_24ee9a2d0149row10_col0\" class=\"data row10 col0\" >Orthogonal Matching Pursuit</td>\n",
       "                        <td id=\"T_bea6b226_3e95_11eb_b560_24ee9a2d0149row10_col1\" class=\"data row10 col1\" >0.7179</td>\n",
       "                        <td id=\"T_bea6b226_3e95_11eb_b560_24ee9a2d0149row10_col2\" class=\"data row10 col2\" >0.8643</td>\n",
       "                        <td id=\"T_bea6b226_3e95_11eb_b560_24ee9a2d0149row10_col3\" class=\"data row10 col3\" >0.9292</td>\n",
       "                        <td id=\"T_bea6b226_3e95_11eb_b560_24ee9a2d0149row10_col4\" class=\"data row10 col4\" >0.5265</td>\n",
       "                        <td id=\"T_bea6b226_3e95_11eb_b560_24ee9a2d0149row10_col5\" class=\"data row10 col5\" >0.3378</td>\n",
       "                        <td id=\"T_bea6b226_3e95_11eb_b560_24ee9a2d0149row10_col6\" class=\"data row10 col6\" >1.8131</td>\n",
       "                        <td id=\"T_bea6b226_3e95_11eb_b560_24ee9a2d0149row10_col7\" class=\"data row10 col7\" >0.0460</td>\n",
       "            </tr>\n",
       "            <tr>\n",
       "                        <th id=\"T_bea6b226_3e95_11eb_b560_24ee9a2d0149level0_row11\" class=\"row_heading level0 row11\" >knn</th>\n",
       "                        <td id=\"T_bea6b226_3e95_11eb_b560_24ee9a2d0149row11_col0\" class=\"data row11 col0\" >K Neighbors Regressor</td>\n",
       "                        <td id=\"T_bea6b226_3e95_11eb_b560_24ee9a2d0149row11_col1\" class=\"data row11 col1\" >0.7053</td>\n",
       "                        <td id=\"T_bea6b226_3e95_11eb_b560_24ee9a2d0149row11_col2\" class=\"data row11 col2\" >0.9083</td>\n",
       "                        <td id=\"T_bea6b226_3e95_11eb_b560_24ee9a2d0149row11_col3\" class=\"data row11 col3\" >0.9524</td>\n",
       "                        <td id=\"T_bea6b226_3e95_11eb_b560_24ee9a2d0149row11_col4\" class=\"data row11 col4\" >0.5026</td>\n",
       "                        <td id=\"T_bea6b226_3e95_11eb_b560_24ee9a2d0149row11_col5\" class=\"data row11 col5\" >0.3444</td>\n",
       "                        <td id=\"T_bea6b226_3e95_11eb_b560_24ee9a2d0149row11_col6\" class=\"data row11 col6\" >1.7739</td>\n",
       "                        <td id=\"T_bea6b226_3e95_11eb_b560_24ee9a2d0149row11_col7\" class=\"data row11 col7\" >1.2500</td>\n",
       "            </tr>\n",
       "            <tr>\n",
       "                        <th id=\"T_bea6b226_3e95_11eb_b560_24ee9a2d0149level0_row12\" class=\"row_heading level0 row12\" >lar</th>\n",
       "                        <td id=\"T_bea6b226_3e95_11eb_b560_24ee9a2d0149row12_col0\" class=\"data row12 col0\" >Least Angle Regression</td>\n",
       "                        <td id=\"T_bea6b226_3e95_11eb_b560_24ee9a2d0149row12_col1\" class=\"data row12 col1\" >0.7644</td>\n",
       "                        <td id=\"T_bea6b226_3e95_11eb_b560_24ee9a2d0149row12_col2\" class=\"data row12 col2\" >1.1432</td>\n",
       "                        <td id=\"T_bea6b226_3e95_11eb_b560_24ee9a2d0149row12_col3\" class=\"data row12 col3\" >1.0435</td>\n",
       "                        <td id=\"T_bea6b226_3e95_11eb_b560_24ee9a2d0149row12_col4\" class=\"data row12 col4\" >0.3737</td>\n",
       "                        <td id=\"T_bea6b226_3e95_11eb_b560_24ee9a2d0149row12_col5\" class=\"data row12 col5\" >0.3566</td>\n",
       "                        <td id=\"T_bea6b226_3e95_11eb_b560_24ee9a2d0149row12_col6\" class=\"data row12 col6\" >1.9343</td>\n",
       "                        <td id=\"T_bea6b226_3e95_11eb_b560_24ee9a2d0149row12_col7\" class=\"data row12 col7\" >0.1680</td>\n",
       "            </tr>\n",
       "            <tr>\n",
       "                        <th id=\"T_bea6b226_3e95_11eb_b560_24ee9a2d0149level0_row13\" class=\"row_heading level0 row13\" >ada</th>\n",
       "                        <td id=\"T_bea6b226_3e95_11eb_b560_24ee9a2d0149row13_col0\" class=\"data row13 col0\" >AdaBoost Regressor</td>\n",
       "                        <td id=\"T_bea6b226_3e95_11eb_b560_24ee9a2d0149row13_col1\" class=\"data row13 col1\" >0.8676</td>\n",
       "                        <td id=\"T_bea6b226_3e95_11eb_b560_24ee9a2d0149row13_col2\" class=\"data row13 col2\" >1.0988</td>\n",
       "                        <td id=\"T_bea6b226_3e95_11eb_b560_24ee9a2d0149row13_col3\" class=\"data row13 col3\" >1.0481</td>\n",
       "                        <td id=\"T_bea6b226_3e95_11eb_b560_24ee9a2d0149row13_col4\" class=\"data row13 col4\" >0.3985</td>\n",
       "                        <td id=\"T_bea6b226_3e95_11eb_b560_24ee9a2d0149row13_col5\" class=\"data row13 col5\" >0.3823</td>\n",
       "                        <td id=\"T_bea6b226_3e95_11eb_b560_24ee9a2d0149row13_col6\" class=\"data row13 col6\" >3.0988</td>\n",
       "                        <td id=\"T_bea6b226_3e95_11eb_b560_24ee9a2d0149row13_col7\" class=\"data row13 col7\" >2.7340</td>\n",
       "            </tr>\n",
       "            <tr>\n",
       "                        <th id=\"T_bea6b226_3e95_11eb_b560_24ee9a2d0149level0_row14\" class=\"row_heading level0 row14\" >dt</th>\n",
       "                        <td id=\"T_bea6b226_3e95_11eb_b560_24ee9a2d0149row14_col0\" class=\"data row14 col0\" >Decision Tree Regressor</td>\n",
       "                        <td id=\"T_bea6b226_3e95_11eb_b560_24ee9a2d0149row14_col1\" class=\"data row14 col1\" >0.7941</td>\n",
       "                        <td id=\"T_bea6b226_3e95_11eb_b560_24ee9a2d0149row14_col2\" class=\"data row14 col2\" >1.2304</td>\n",
       "                        <td id=\"T_bea6b226_3e95_11eb_b560_24ee9a2d0149row14_col3\" class=\"data row14 col3\" >1.1082</td>\n",
       "                        <td id=\"T_bea6b226_3e95_11eb_b560_24ee9a2d0149row14_col4\" class=\"data row14 col4\" >0.3253</td>\n",
       "                        <td id=\"T_bea6b226_3e95_11eb_b560_24ee9a2d0149row14_col5\" class=\"data row14 col5\" >0.3984</td>\n",
       "                        <td id=\"T_bea6b226_3e95_11eb_b560_24ee9a2d0149row14_col6\" class=\"data row14 col6\" >1.7419</td>\n",
       "                        <td id=\"T_bea6b226_3e95_11eb_b560_24ee9a2d0149row14_col7\" class=\"data row14 col7\" >0.3380</td>\n",
       "            </tr>\n",
       "            <tr>\n",
       "                        <th id=\"T_bea6b226_3e95_11eb_b560_24ee9a2d0149level0_row15\" class=\"row_heading level0 row15\" >lasso</th>\n",
       "                        <td id=\"T_bea6b226_3e95_11eb_b560_24ee9a2d0149row15_col0\" class=\"data row15 col0\" >Lasso Regression</td>\n",
       "                        <td id=\"T_bea6b226_3e95_11eb_b560_24ee9a2d0149row15_col1\" class=\"data row15 col1\" >1.1284</td>\n",
       "                        <td id=\"T_bea6b226_3e95_11eb_b560_24ee9a2d0149row15_col2\" class=\"data row15 col2\" >1.8309</td>\n",
       "                        <td id=\"T_bea6b226_3e95_11eb_b560_24ee9a2d0149row15_col3\" class=\"data row15 col3\" >1.3530</td>\n",
       "                        <td id=\"T_bea6b226_3e95_11eb_b560_24ee9a2d0149row15_col4\" class=\"data row15 col4\" >-0.0021</td>\n",
       "                        <td id=\"T_bea6b226_3e95_11eb_b560_24ee9a2d0149row15_col5\" class=\"data row15 col5\" >0.4696</td>\n",
       "                        <td id=\"T_bea6b226_3e95_11eb_b560_24ee9a2d0149row15_col6\" class=\"data row15 col6\" >4.0850</td>\n",
       "                        <td id=\"T_bea6b226_3e95_11eb_b560_24ee9a2d0149row15_col7\" class=\"data row15 col7\" >0.0360</td>\n",
       "            </tr>\n",
       "            <tr>\n",
       "                        <th id=\"T_bea6b226_3e95_11eb_b560_24ee9a2d0149level0_row16\" class=\"row_heading level0 row16\" >en</th>\n",
       "                        <td id=\"T_bea6b226_3e95_11eb_b560_24ee9a2d0149row16_col0\" class=\"data row16 col0\" >Elastic Net</td>\n",
       "                        <td id=\"T_bea6b226_3e95_11eb_b560_24ee9a2d0149row16_col1\" class=\"data row16 col1\" >1.1284</td>\n",
       "                        <td id=\"T_bea6b226_3e95_11eb_b560_24ee9a2d0149row16_col2\" class=\"data row16 col2\" >1.8309</td>\n",
       "                        <td id=\"T_bea6b226_3e95_11eb_b560_24ee9a2d0149row16_col3\" class=\"data row16 col3\" >1.3530</td>\n",
       "                        <td id=\"T_bea6b226_3e95_11eb_b560_24ee9a2d0149row16_col4\" class=\"data row16 col4\" >-0.0021</td>\n",
       "                        <td id=\"T_bea6b226_3e95_11eb_b560_24ee9a2d0149row16_col5\" class=\"data row16 col5\" >0.4696</td>\n",
       "                        <td id=\"T_bea6b226_3e95_11eb_b560_24ee9a2d0149row16_col6\" class=\"data row16 col6\" >4.0850</td>\n",
       "                        <td id=\"T_bea6b226_3e95_11eb_b560_24ee9a2d0149row16_col7\" class=\"data row16 col7\" >0.0360</td>\n",
       "            </tr>\n",
       "            <tr>\n",
       "                        <th id=\"T_bea6b226_3e95_11eb_b560_24ee9a2d0149level0_row17\" class=\"row_heading level0 row17\" >llar</th>\n",
       "                        <td id=\"T_bea6b226_3e95_11eb_b560_24ee9a2d0149row17_col0\" class=\"data row17 col0\" >Lasso Least Angle Regression</td>\n",
       "                        <td id=\"T_bea6b226_3e95_11eb_b560_24ee9a2d0149row17_col1\" class=\"data row17 col1\" >1.1284</td>\n",
       "                        <td id=\"T_bea6b226_3e95_11eb_b560_24ee9a2d0149row17_col2\" class=\"data row17 col2\" >1.8309</td>\n",
       "                        <td id=\"T_bea6b226_3e95_11eb_b560_24ee9a2d0149row17_col3\" class=\"data row17 col3\" >1.3530</td>\n",
       "                        <td id=\"T_bea6b226_3e95_11eb_b560_24ee9a2d0149row17_col4\" class=\"data row17 col4\" >-0.0021</td>\n",
       "                        <td id=\"T_bea6b226_3e95_11eb_b560_24ee9a2d0149row17_col5\" class=\"data row17 col5\" >0.4696</td>\n",
       "                        <td id=\"T_bea6b226_3e95_11eb_b560_24ee9a2d0149row17_col6\" class=\"data row17 col6\" >4.0850</td>\n",
       "                        <td id=\"T_bea6b226_3e95_11eb_b560_24ee9a2d0149row17_col7\" class=\"data row17 col7\" >0.0440</td>\n",
       "            </tr>\n",
       "            <tr>\n",
       "                        <th id=\"T_bea6b226_3e95_11eb_b560_24ee9a2d0149level0_row18\" class=\"row_heading level0 row18\" >par</th>\n",
       "                        <td id=\"T_bea6b226_3e95_11eb_b560_24ee9a2d0149row18_col0\" class=\"data row18 col0\" >Passive Aggressive Regressor</td>\n",
       "                        <td id=\"T_bea6b226_3e95_11eb_b560_24ee9a2d0149row18_col1\" class=\"data row18 col1\" >1.2681</td>\n",
       "                        <td id=\"T_bea6b226_3e95_11eb_b560_24ee9a2d0149row18_col2\" class=\"data row18 col2\" >2.3517</td>\n",
       "                        <td id=\"T_bea6b226_3e95_11eb_b560_24ee9a2d0149row18_col3\" class=\"data row18 col3\" >1.5275</td>\n",
       "                        <td id=\"T_bea6b226_3e95_11eb_b560_24ee9a2d0149row18_col4\" class=\"data row18 col4\" >-0.2890</td>\n",
       "                        <td id=\"T_bea6b226_3e95_11eb_b560_24ee9a2d0149row18_col5\" class=\"data row18 col5\" >0.5141</td>\n",
       "                        <td id=\"T_bea6b226_3e95_11eb_b560_24ee9a2d0149row18_col6\" class=\"data row18 col6\" >3.3808</td>\n",
       "                        <td id=\"T_bea6b226_3e95_11eb_b560_24ee9a2d0149row18_col7\" class=\"data row18 col7\" >0.0920</td>\n",
       "            </tr>\n",
       "    </tbody></table>"
      ],
      "text/plain": [
       "<pandas.io.formats.style.Styler at 0x200a2e6b7c0>"
      ]
     },
     "metadata": {},
     "output_type": "display_data"
    }
   ],
   "source": [
    "# get the best models with 5 fold cross validation sorted by root mean squared error\n",
    "best = compare_models(fold=5, sort=\"RMSE\")"
   ]
  }
 ],
 "metadata": {
  "accelerator": "GPU",
  "colab": {
   "collapsed_sections": [],
   "name": "pycaret_test.ipynb",
   "provenance": []
  },
  "kernelspec": {
   "display_name": "Python 3",
   "language": "python",
   "name": "python3"
  },
  "language_info": {
   "codemirror_mode": {
    "name": "ipython",
    "version": 3
   },
   "file_extension": ".py",
   "mimetype": "text/x-python",
   "name": "python",
   "nbconvert_exporter": "python",
   "pygments_lexer": "ipython3",
   "version": "3.8.5"
  },
  "widgets": {
   "application/vnd.jupyter.widget-state+json": {
    "1185820049544dad969715c7750770a3": {
     "model_module": "@jupyter-widgets/controls",
     "model_name": "ProgressStyleModel",
     "state": {
      "_model_module": "@jupyter-widgets/controls",
      "_model_module_version": "1.5.0",
      "_model_name": "ProgressStyleModel",
      "_view_count": null,
      "_view_module": "@jupyter-widgets/base",
      "_view_module_version": "1.2.0",
      "_view_name": "StyleView",
      "bar_color": null,
      "description_width": ""
     }
    },
    "2160a89918034ea89682dda2013c545b": {
     "model_module": "@jupyter-widgets/base",
     "model_name": "LayoutModel",
     "state": {
      "_model_module": "@jupyter-widgets/base",
      "_model_module_version": "1.2.0",
      "_model_name": "LayoutModel",
      "_view_count": null,
      "_view_module": "@jupyter-widgets/base",
      "_view_module_version": "1.2.0",
      "_view_name": "LayoutView",
      "align_content": null,
      "align_items": null,
      "align_self": null,
      "border": null,
      "bottom": null,
      "display": null,
      "flex": null,
      "flex_flow": null,
      "grid_area": null,
      "grid_auto_columns": null,
      "grid_auto_flow": null,
      "grid_auto_rows": null,
      "grid_column": null,
      "grid_gap": null,
      "grid_row": null,
      "grid_template_areas": null,
      "grid_template_columns": null,
      "grid_template_rows": null,
      "height": null,
      "justify_content": null,
      "justify_items": null,
      "left": null,
      "margin": null,
      "max_height": null,
      "max_width": null,
      "min_height": null,
      "min_width": null,
      "object_fit": null,
      "object_position": null,
      "order": null,
      "overflow": null,
      "overflow_x": null,
      "overflow_y": null,
      "padding": null,
      "right": null,
      "top": null,
      "visibility": null,
      "width": null
     }
    },
    "4a9f42abc573446cadb098eda0801548": {
     "model_module": "@jupyter-widgets/base",
     "model_name": "LayoutModel",
     "state": {
      "_model_module": "@jupyter-widgets/base",
      "_model_module_version": "1.2.0",
      "_model_name": "LayoutModel",
      "_view_count": null,
      "_view_module": "@jupyter-widgets/base",
      "_view_module_version": "1.2.0",
      "_view_name": "LayoutView",
      "align_content": null,
      "align_items": null,
      "align_self": null,
      "border": null,
      "bottom": null,
      "display": null,
      "flex": null,
      "flex_flow": null,
      "grid_area": null,
      "grid_auto_columns": null,
      "grid_auto_flow": null,
      "grid_auto_rows": null,
      "grid_column": null,
      "grid_gap": null,
      "grid_row": null,
      "grid_template_areas": null,
      "grid_template_columns": null,
      "grid_template_rows": null,
      "height": null,
      "justify_content": null,
      "justify_items": null,
      "left": null,
      "margin": null,
      "max_height": null,
      "max_width": null,
      "min_height": null,
      "min_width": null,
      "object_fit": null,
      "object_position": null,
      "order": null,
      "overflow": null,
      "overflow_x": null,
      "overflow_y": null,
      "padding": null,
      "right": null,
      "top": null,
      "visibility": null,
      "width": null
     }
    },
    "6932171f9c45426298b1f1569840e52e": {
     "model_module": "@jupyter-widgets/controls",
     "model_name": "IntProgressModel",
     "state": {
      "_dom_classes": [],
      "_model_module": "@jupyter-widgets/controls",
      "_model_module_version": "1.5.0",
      "_model_name": "IntProgressModel",
      "_view_count": null,
      "_view_module": "@jupyter-widgets/controls",
      "_view_module_version": "1.5.0",
      "_view_name": "ProgressView",
      "bar_style": "",
      "description": "Processing: ",
      "description_tooltip": null,
      "layout": "IPY_MODEL_2160a89918034ea89682dda2013c545b",
      "max": 99,
      "min": 0,
      "orientation": "horizontal",
      "style": "IPY_MODEL_e9af8180f4be4c89a5e190d2c0db5215",
      "value": 99
     }
    },
    "93b0e43b3b964f3e9938cca5ae384d98": {
     "model_module": "@jupyter-widgets/controls",
     "model_name": "IntProgressModel",
     "state": {
      "_dom_classes": [],
      "_model_module": "@jupyter-widgets/controls",
      "_model_module_version": "1.5.0",
      "_model_name": "IntProgressModel",
      "_view_count": null,
      "_view_module": "@jupyter-widgets/controls",
      "_view_module_version": "1.5.0",
      "_view_name": "ProgressView",
      "bar_style": "",
      "description": "Processing: ",
      "description_tooltip": null,
      "layout": "IPY_MODEL_4a9f42abc573446cadb098eda0801548",
      "max": 3,
      "min": 0,
      "orientation": "horizontal",
      "style": "IPY_MODEL_1185820049544dad969715c7750770a3",
      "value": 3
     }
    },
    "c0e0918e3ee04939879a0631f9588a38": {
     "model_module": "@jupyter-widgets/controls",
     "model_name": "DescriptionStyleModel",
     "state": {
      "_model_module": "@jupyter-widgets/controls",
      "_model_module_version": "1.5.0",
      "_model_name": "DescriptionStyleModel",
      "_view_count": null,
      "_view_module": "@jupyter-widgets/base",
      "_view_module_version": "1.2.0",
      "_view_name": "StyleView",
      "description_width": ""
     }
    },
    "d877e0bf9c74484c8653e640dab05b89": {
     "model_module": "@jupyter-widgets/base",
     "model_name": "LayoutModel",
     "state": {
      "_model_module": "@jupyter-widgets/base",
      "_model_module_version": "1.2.0",
      "_model_name": "LayoutModel",
      "_view_count": null,
      "_view_module": "@jupyter-widgets/base",
      "_view_module_version": "1.2.0",
      "_view_name": "LayoutView",
      "align_content": null,
      "align_items": null,
      "align_self": null,
      "border": null,
      "bottom": null,
      "display": null,
      "flex": null,
      "flex_flow": null,
      "grid_area": null,
      "grid_auto_columns": null,
      "grid_auto_flow": null,
      "grid_auto_rows": null,
      "grid_column": null,
      "grid_gap": null,
      "grid_row": null,
      "grid_template_areas": null,
      "grid_template_columns": null,
      "grid_template_rows": null,
      "height": null,
      "justify_content": null,
      "justify_items": null,
      "left": null,
      "margin": null,
      "max_height": null,
      "max_width": null,
      "min_height": null,
      "min_width": null,
      "object_fit": null,
      "object_position": null,
      "order": null,
      "overflow": null,
      "overflow_x": null,
      "overflow_y": null,
      "padding": null,
      "right": null,
      "top": null,
      "visibility": null,
      "width": "100%"
     }
    },
    "d91c37e89b91458782b4c44aec7eaf35": {
     "model_module": "@jupyter-widgets/controls",
     "model_name": "TextModel",
     "state": {
      "_dom_classes": [],
      "_model_module": "@jupyter-widgets/controls",
      "_model_module_version": "1.5.0",
      "_model_name": "TextModel",
      "_view_count": null,
      "_view_module": "@jupyter-widgets/controls",
      "_view_module_version": "1.5.0",
      "_view_name": "TextView",
      "continuous_update": true,
      "description": "",
      "description_tooltip": null,
      "disabled": false,
      "layout": "IPY_MODEL_d877e0bf9c74484c8653e640dab05b89",
      "placeholder": "​",
      "style": "IPY_MODEL_c0e0918e3ee04939879a0631f9588a38",
      "value": "Following data types have been inferred automatically, if they are correct press enter to continue or type 'quit' otherwise."
     }
    },
    "e9af8180f4be4c89a5e190d2c0db5215": {
     "model_module": "@jupyter-widgets/controls",
     "model_name": "ProgressStyleModel",
     "state": {
      "_model_module": "@jupyter-widgets/controls",
      "_model_module_version": "1.5.0",
      "_model_name": "ProgressStyleModel",
      "_view_count": null,
      "_view_module": "@jupyter-widgets/base",
      "_view_module_version": "1.2.0",
      "_view_name": "StyleView",
      "bar_color": null,
      "description_width": ""
     }
    }
   }
  }
 },
 "nbformat": 4,
 "nbformat_minor": 1
}
