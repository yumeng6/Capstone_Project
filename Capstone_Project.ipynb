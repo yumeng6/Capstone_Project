{
 "cells": [
  {
   "cell_type": "markdown",
   "metadata": {
    "id": "ujeiPIoTAe5f"
   },
   "source": [
    "## Capstone Project"
   ]
  },
  {
   "cell_type": "code",
   "execution_count": 1,
   "metadata": {
    "colab": {
     "base_uri": "https://localhost:8080/"
    },
    "id": "PeB660mvezrD",
    "outputId": "3624d461-ba67-4d86-bb46-aa6f693513f8"
   },
   "outputs": [
    {
     "name": "stdout",
     "output_type": "stream",
     "text": [
      "Requirement already satisfied: unidecode in /Users/yumengli/anaconda3/lib/python3.7/site-packages (1.1.1)\r\n"
     ]
    }
   ],
   "source": [
    "# install packages\n",
    "# coding: utf-8\n",
    "!pip install unidecode"
   ]
  },
  {
   "cell_type": "code",
   "execution_count": 2,
   "metadata": {
    "colab": {
     "base_uri": "https://localhost:8080/"
    },
    "id": "8ClK8p08ZUNe",
    "outputId": "ac1f617f-4d6d-44f0-c59e-59b23b3d6a9c"
   },
   "outputs": [
    {
     "name": "stderr",
     "output_type": "stream",
     "text": [
      "[nltk_data] Downloading package stopwords to\n",
      "[nltk_data]     /Users/yumengli/nltk_data...\n",
      "[nltk_data]   Package stopwords is already up-to-date!\n"
     ]
    },
    {
     "data": {
      "text/plain": [
       "True"
      ]
     },
     "execution_count": 2,
     "metadata": {},
     "output_type": "execute_result"
    }
   ],
   "source": [
    "# download corpus of stop words\n",
    "import nltk\n",
    "nltk.download('stopwords')"
   ]
  },
  {
   "cell_type": "code",
   "execution_count": 3,
   "metadata": {
    "id": "ZvASBJmGAe5h"
   },
   "outputs": [],
   "source": [
    "# import modules\n",
    "import numpy as np\n",
    "import pandas as pd\n",
    "import plotly.express as px\n",
    "import scipy.stats as ss\n",
    "import unidecode\n",
    "from nltk.corpus import stopwords\n",
    "from scipy.special import inv_boxcox\n",
    "from sklearn.feature_extraction.text import TfidfVectorizer\n",
    "from sklearn.linear_model import Lasso\n",
    "from sklearn.metrics import mean_squared_error\n",
    "from sklearn.preprocessing import StandardScaler"
   ]
  },
  {
   "cell_type": "code",
   "execution_count": 4,
   "metadata": {
    "colab": {
     "base_uri": "https://localhost:8080/",
     "height": 392
    },
    "id": "x9Wi8sAJAe5q",
    "outputId": "f70840e4-f068-4d57-d683-c11b505a7a43"
   },
   "outputs": [],
   "source": [
    "# load the data\n",
    "data = pd.read_csv(\"pet food data.csv\")"
   ]
  },
  {
   "cell_type": "markdown",
   "metadata": {
    "id": "4kd4rakpAe5x"
   },
   "source": [
    "There are 684 entries that do not have price data, 548 entries that do not have an ingredients list, 755 entries that do not have a total package size, and 747 entries that do not have a unit package size."
   ]
  },
  {
   "cell_type": "code",
   "execution_count": 5,
   "metadata": {
    "id": "QEWKVbzzAe5z"
   },
   "outputs": [
    {
     "name": "stdout",
     "output_type": "stream",
     "text": [
      "<class 'pandas.core.frame.DataFrame'>\n",
      "RangeIndex: 8754 entries, 0 to 8753\n",
      "Data columns (total 13 columns):\n",
      " #   Column                Non-Null Count  Dtype  \n",
      "---  ------                --------------  -----  \n",
      " 0   date                  8754 non-null   object \n",
      " 1   category              8754 non-null   object \n",
      " 2   sub_category          8754 non-null   object \n",
      " 3   product               8754 non-null   object \n",
      " 4   variant               8754 non-null   object \n",
      " 5   description           8754 non-null   object \n",
      " 6   ingredients_stdlist   8206 non-null   object \n",
      " 7   price_usd             8070 non-null   float64\n",
      " 8   company_parent        8754 non-null   object \n",
      " 9   company               8754 non-null   object \n",
      " 10  brand                 8754 non-null   object \n",
      " 11  total_pack_size_ml_g  7999 non-null   float64\n",
      " 12  unit_pack_size_ml_g   8007 non-null   float64\n",
      "dtypes: float64(3), object(10)\n",
      "memory usage: 889.2+ KB\n"
     ]
    }
   ],
   "source": [
    "# get a description of the unprocessed data\n",
    "data.info()"
   ]
  },
  {
   "cell_type": "code",
   "execution_count": 6,
   "metadata": {
    "id": "w9HB0tUoAe55"
   },
   "outputs": [
    {
     "data": {
      "text/plain": [
       "0"
      ]
     },
     "execution_count": 6,
     "metadata": {},
     "output_type": "execute_result"
    }
   ],
   "source": [
    "# determine if there are any duplicate rows\n",
    "np.sum(data.duplicated())"
   ]
  },
  {
   "cell_type": "code",
   "execution_count": 7,
   "metadata": {
    "id": "WSgAX3J8ho1n"
   },
   "outputs": [
    {
     "data": {
      "text/plain": [
       "<bound method Series.unique of 0                         Mars\n",
       "1         Big Heart Pet Brands\n",
       "2                         Iams\n",
       "3                         Iams\n",
       "4       Del Monte Pet Products\n",
       "                 ...          \n",
       "8749                    Target\n",
       "8750     Nestlé Purina PetCare\n",
       "8751      Big Heart Pet Brands\n",
       "8752     Nestlé Purina PetCare\n",
       "8753      Big Heart Pet Brands\n",
       "Name: company, Length: 8754, dtype: object>"
      ]
     },
     "execution_count": 7,
     "metadata": {},
     "output_type": "execute_result"
    }
   ],
   "source": [
    "data.company.unique"
   ]
  },
  {
   "cell_type": "markdown",
   "metadata": {
    "id": "ibuuloAjbNBr"
   },
   "source": [
    "### Initial Cleaning for Visualization"
   ]
  },
  {
   "cell_type": "code",
   "execution_count": 8,
   "metadata": {
    "id": "4lxLmVfRAe5_"
   },
   "outputs": [],
   "source": [
    "# drop all of the NaN entries\n",
    "data.dropna(inplace=True)\n",
    "\n",
    "# remove 1 outlier price with invalid pack size\n",
    "data = data[data.price_usd < 50]\n",
    "\n",
    "# remove 1 unit pack size equal to 0\n",
    "data = data[data.unit_pack_size_ml_g > 0]\n",
    "\n",
    "# drop 32 therapeutic supplements \n",
    "data = data.loc[~data.ingredients_stdlist.str.startswith(\"active\"), :]\n",
    "\n",
    "# reset the index\n",
    "data.reset_index(drop=True, inplace=True)"
   ]
  },
  {
   "cell_type": "code",
   "execution_count": 9,
   "metadata": {
    "id": "tUiJxAdTAe6E"
   },
   "outputs": [],
   "source": [
    "# transform the string dates into datetime objects and create a year column\n",
    "data.loc[:, \"date\"] = pd.to_datetime(data.date.str[:10])\n",
    "data[\"year\"] = data.date.apply(lambda x: x.year)"
   ]
  },
  {
   "cell_type": "code",
   "execution_count": 10,
   "metadata": {
    "id": "ZM9tCy_fAe6I"
   },
   "outputs": [],
   "source": [
    "# drop the \"category\" column since it contains one value \"Pet Food\" and\n",
    "# the \"variant\" column since it is equivalent to the \"product\" column\n",
    "data.drop(columns=[\"category\", \"product\"], inplace=True)"
   ]
  },
  {
   "cell_type": "code",
   "execution_count": 11,
   "metadata": {
    "id": "8v_t35EX6ReB"
   },
   "outputs": [],
   "source": [
    "# add a ratio column of pack sizes to the dataframe\n",
    "data[\"ratio\"] = data.total_pack_size_ml_g / data.unit_pack_size_ml_g"
   ]
  },
  {
   "cell_type": "code",
   "execution_count": 12,
   "metadata": {
    "id": "SLEgvzdBAe6M"
   },
   "outputs": [],
   "source": [
    "# transform the \"sub_category\" column into separate columns and drop \"sub_category\"\n",
    "data[\"pet_type\"] = data.sub_category.apply(lambda x: \"cat\" if (\"Cat\" in x) else \"dog\")\n",
    "data[\"meal_type\"] = data.sub_category.apply(lambda x: \"primary\" if (\"Food\" in x) else \"treats\")\n",
    "data[\"food_type\"] = data.sub_category.apply(lambda x: \"dry\" if (\"Dry\" in x) else \"wet\")\n",
    "data.drop(columns=\"sub_category\", inplace=True)"
   ]
  },
  {
   "cell_type": "code",
   "execution_count": 13,
   "metadata": {
    "id": "u2Vauq7JAmp8"
   },
   "outputs": [],
   "source": [
    "# create a function to replace dicritic characters with ASCII characters\n",
    "def replace_dicritic(string):\n",
    "    return unidecode.unidecode(string)"
   ]
  },
  {
   "cell_type": "code",
   "execution_count": 14,
   "metadata": {
    "id": "MRQBb4TJAe6P"
   },
   "outputs": [],
   "source": [
    "# replace the dicritic characters in \"company_parent\", \"company\", \"brand\",\n",
    "# \"description\", and \"ingredients_stdlist\"\n",
    "data.loc[:, \"company_parent\"] = data.company_parent.apply(replace_dicritic)\n",
    "data.loc[:, \"company\"] = data.company.apply(replace_dicritic)\n",
    "data.loc[:, \"brand\"] = data.brand.apply(replace_dicritic)\n",
    "data.loc[:, \"description\"] = data.description.apply(replace_dicritic)\n",
    "data.loc[:, \"ingredients_stdlist\"] = data.ingredients_stdlist.apply(replace_dicritic)"
   ]
  },
  {
   "cell_type": "code",
   "execution_count": 15,
   "metadata": {
    "id": "bNZrowcaBE-e"
   },
   "outputs": [
    {
     "name": "stdout",
     "output_type": "stream",
     "text": [
      "<class 'pandas.core.frame.DataFrame'>\n",
      "RangeIndex: 7525 entries, 0 to 7524\n",
      "Data columns (total 15 columns):\n",
      " #   Column                Non-Null Count  Dtype         \n",
      "---  ------                --------------  -----         \n",
      " 0   date                  7525 non-null   datetime64[ns]\n",
      " 1   variant               7525 non-null   object        \n",
      " 2   description           7525 non-null   object        \n",
      " 3   ingredients_stdlist   7525 non-null   object        \n",
      " 4   price_usd             7525 non-null   float64       \n",
      " 5   company_parent        7525 non-null   object        \n",
      " 6   company               7525 non-null   object        \n",
      " 7   brand                 7525 non-null   object        \n",
      " 8   total_pack_size_ml_g  7525 non-null   float64       \n",
      " 9   unit_pack_size_ml_g   7525 non-null   float64       \n",
      " 10  year                  7525 non-null   int64         \n",
      " 11  ratio                 7525 non-null   float64       \n",
      " 12  pet_type              7525 non-null   object        \n",
      " 13  meal_type             7525 non-null   object        \n",
      " 14  food_type             7525 non-null   object        \n",
      "dtypes: datetime64[ns](1), float64(4), int64(1), object(9)\n",
      "memory usage: 882.0+ KB\n"
     ]
    }
   ],
   "source": [
    "# get a description of the cleaned data\n",
    "data.info()"
   ]
  },
  {
   "cell_type": "markdown",
   "metadata": {
    "id": "jUs-J-Sfjt-F"
   },
   "source": [
    "### Visualizations"
   ]
  },
  {
   "cell_type": "code",
   "execution_count": 16,
   "metadata": {
    "id": "nRNzNFwsj3Cv"
   },
   "outputs": [],
   "source": [
    "# get the observations for Colgate only\n",
    "colgate_only = data[data.company_parent.apply(lambda x: \"colgate\" in x.lower())]"
   ]
  },
  {
   "cell_type": "code",
   "execution_count": 17,
   "metadata": {
    "id": "vdAM5r64eOtw"
   },
   "outputs": [],
   "source": [
    "# perform a Box-Cox transformation on price_usd\n",
    "box_cox = ss.boxcox(data.price_usd)"
   ]
  },
  {
   "cell_type": "markdown",
   "metadata": {
    "id": "VQrLcikrcEMg"
   },
   "source": [
    "Boxplots"
   ]
  },
  {
   "cell_type": "code",
   "execution_count": 18,
   "metadata": {
    "id": "G7ejtR3lcKHQ"
   },
   "outputs": [],
   "source": [
    "# boxplot for cat vs dog\n",
    "fig1 = px.box(data, x=\"pet_type\", y=\"price_usd\")\n",
    "fig2 = px.box(colgate_only, x=\"pet_type\", y=\"price_usd\", category_orders={\"pet_type\": [\"cat\", \"dog\"]})\n",
    "\n",
    "# boxplot for primary food vs treats\n",
    "fig3 = px.box(data, x=\"meal_type\", y=\"price_usd\")\n",
    "fig4 = px.box(colgate_only, x=\"meal_type\", y=\"price_usd\")\n",
    "\n",
    "# boxplot for dry vs wet food\n",
    "fig5 = px.box(data, x=\"food_type\", y=\"price_usd\")\n",
    "fig6 = px.box(colgate_only, x=\"food_type\", y=\"price_usd\", category_orders={\"food_type\": [\"dry\", \"wet\"]})\n",
    "\n",
    "# boxplot for year\n",
    "fig7 = px.box(data, x=\"year\", y=\"price_usd\")"
   ]
  },
  {
   "cell_type": "markdown",
   "metadata": {
    "id": "9bwKL178dXim"
   },
   "source": [
    "Histograms"
   ]
  },
  {
   "cell_type": "code",
   "execution_count": 19,
   "metadata": {
    "id": "yN8o-R8Vdb8z"
   },
   "outputs": [],
   "source": [
    "# histogram of price\n",
    "fig8 = px.histogram(data.price_usd)\n",
    "\n",
    "# histogram of price with Box-Cox transformation\n",
    "fig9 = px.histogram(box_cox[0], nbins=50)"
   ]
  },
  {
   "cell_type": "markdown",
   "metadata": {
    "id": "yCpef8Uag0uL"
   },
   "source": [
    "Scatter Plots"
   ]
  },
  {
   "cell_type": "code",
   "execution_count": 20,
   "metadata": {
    "id": "c7-N1v29g4Aa"
   },
   "outputs": [],
   "source": [
    "# scatter plot of price vs unit pack size\n",
    "fig10 = px.scatter(data.loc[~data.unit_pack_size_ml_g.isna(), :], x=\"unit_pack_size_ml_g\", y=\"price_usd\", trendline=\"ols\", trendline_color_override=\"orange\", range_y=[-2, 37])"
   ]
  },
  {
   "cell_type": "markdown",
   "metadata": {
    "id": "SRTPUHIchSMZ"
   },
   "source": [
    "### Text Transformations"
   ]
  },
  {
   "cell_type": "code",
   "execution_count": 21,
   "metadata": {
    "id": "awi77x_HhYFa"
   },
   "outputs": [],
   "source": [
    "# get the first word in every ingredient list\n",
    "first_ingredient = data.ingredients_stdlist.str.split(\",\").apply(lambda x: x[0])\n",
    "first_ingredient = first_ingredient.str.split(\" \").apply(lambda x: x[0])\n",
    "first_ingredient = first_ingredient.str.split(\":\").apply(lambda x: x[0].lower())"
   ]
  },
  {
   "cell_type": "code",
   "execution_count": 22,
   "metadata": {
    "id": "poey8hLaWKds"
   },
   "outputs": [
    {
     "data": {
      "text/plain": [
       "chicken    1871\n",
       "wheat       675\n",
       "beef        568\n",
       "corn        412\n",
       "water       350\n",
       "turkey      289\n",
       "salmon      249\n",
       "lamb        225\n",
       "rice        203\n",
       "duck        115\n",
       "Name: ingredients_stdlist, dtype: int64"
      ]
     },
     "execution_count": 22,
     "metadata": {},
     "output_type": "execute_result"
    }
   ],
   "source": [
    "# look at the top 10 words by frequency count\n",
    "first_ingredient.value_counts()[:10]"
   ]
  },
  {
   "cell_type": "code",
   "execution_count": 23,
   "metadata": {
    "id": "fxUIqlyxWM_5"
   },
   "outputs": [],
   "source": [
    "# create a function that filters the first_ingredient Series to\n",
    "# 5 possible words\n",
    "def first_word(string):\n",
    "    if string == \"chicken\" or string == \"wheat\" or string == \"beef\" or string == \"corn\":\n",
    "        return string\n",
    "    else:\n",
    "        return \"other\""
   ]
  },
  {
   "cell_type": "code",
   "execution_count": 24,
   "metadata": {
    "id": "20_brQ9_WPsD"
   },
   "outputs": [],
   "source": [
    "# add a first_ingredient column to the dataset\n",
    "data[\"first_ingredient\"] =  first_ingredient.apply(first_word)"
   ]
  },
  {
   "cell_type": "markdown",
   "metadata": {
    "id": "H_P0d7VZWS3b"
   },
   "source": [
    "TFIDF"
   ]
  },
  {
   "cell_type": "markdown",
   "metadata": {
    "id": "lJXpHBM7sUrf"
   },
   "source": [
    "During testing, we discovered that using a TFIDF matrix with more than ~400 features in our regression models caused instability, resulting in errors that were $10^6$ or greater. To improve performance, we set max_features=400 in our TfidfVectorizer()."
   ]
  },
  {
   "cell_type": "code",
   "execution_count": 25,
   "metadata": {
    "id": "VlhU0GlmWVl3"
   },
   "outputs": [],
   "source": [
    "# instantiate the TFIDF vectorizer\n",
    "vectorizer = TfidfVectorizer(stop_words=stopwords.words(\"english\"), max_features=400)\n",
    "\n",
    "# transform the product descriptions in a TFIDF matrix\n",
    "vectors = vectorizer.fit_transform(data.description)\n",
    "\n",
    "# convert the TFIDF matrix into a dataframe\n",
    "tfidf = pd.DataFrame(vectors.todense().tolist(), columns=vectorizer.get_feature_names())\n",
    "\n",
    "# manually remove any remaining stop words\n",
    "tfidf.drop(columns=[\"10\", \"100\", \"12\", \"13\", \"14\", \"15\", \"16\", \"20\", \"24\", \"25\", \"50\", \"also\", \"lb\", \"lbs\", \"oz\"], inplace=True)"
   ]
  },
  {
   "cell_type": "markdown",
   "metadata": {
    "id": "Q2ss2WrSWeGa"
   },
   "source": [
    "Convert categorical variables to one-hot vectors"
   ]
  },
  {
   "cell_type": "code",
   "execution_count": 26,
   "metadata": {
    "id": "wrii0QLUWjex"
   },
   "outputs": [],
   "source": [
    "# get all of the categorical variables in one dataframe\n",
    "cat_vars = data[[\"pet_type\", \"meal_type\", \"food_type\", \"first_ingredient\"]]\n",
    "\n",
    "# transform the categorical variables into one-hot vectors\n",
    "one_hot = pd.get_dummies(cat_vars, prefix=\"category\")"
   ]
  },
  {
   "cell_type": "markdown",
   "metadata": {
    "id": "eggl3mXoXyAp"
   },
   "source": [
    "### Combine all of the engineered features and create training and testing sets"
   ]
  },
  {
   "cell_type": "code",
   "execution_count": 27,
   "metadata": {
    "id": "P6EYeGLs60I2"
   },
   "outputs": [
    {
     "data": {
      "text/html": [
       "<div>\n",
       "<style scoped>\n",
       "    .dataframe tbody tr th:only-of-type {\n",
       "        vertical-align: middle;\n",
       "    }\n",
       "\n",
       "    .dataframe tbody tr th {\n",
       "        vertical-align: top;\n",
       "    }\n",
       "\n",
       "    .dataframe thead th {\n",
       "        text-align: right;\n",
       "    }\n",
       "</style>\n",
       "<table border=\"1\" class=\"dataframe\">\n",
       "  <thead>\n",
       "    <tr style=\"text-align: right;\">\n",
       "      <th></th>\n",
       "      <th>total_pack_size_ml_g</th>\n",
       "      <th>unit_pack_size_ml_g</th>\n",
       "      <th>ratio</th>\n",
       "    </tr>\n",
       "  </thead>\n",
       "  <tbody>\n",
       "    <tr>\n",
       "      <th>0</th>\n",
       "      <td>3175.20</td>\n",
       "      <td>3175.20</td>\n",
       "      <td>1.0</td>\n",
       "    </tr>\n",
       "    <tr>\n",
       "      <th>1</th>\n",
       "      <td>10886.40</td>\n",
       "      <td>10886.40</td>\n",
       "      <td>1.0</td>\n",
       "    </tr>\n",
       "    <tr>\n",
       "      <th>2</th>\n",
       "      <td>4445.28</td>\n",
       "      <td>4445.28</td>\n",
       "      <td>1.0</td>\n",
       "    </tr>\n",
       "    <tr>\n",
       "      <th>3</th>\n",
       "      <td>4898.88</td>\n",
       "      <td>4898.88</td>\n",
       "      <td>1.0</td>\n",
       "    </tr>\n",
       "    <tr>\n",
       "      <th>4</th>\n",
       "      <td>6123.60</td>\n",
       "      <td>6123.60</td>\n",
       "      <td>1.0</td>\n",
       "    </tr>\n",
       "    <tr>\n",
       "      <th>...</th>\n",
       "      <td>...</td>\n",
       "      <td>...</td>\n",
       "      <td>...</td>\n",
       "    </tr>\n",
       "    <tr>\n",
       "      <th>7520</th>\n",
       "      <td>708.75</td>\n",
       "      <td>708.75</td>\n",
       "      <td>1.0</td>\n",
       "    </tr>\n",
       "    <tr>\n",
       "      <th>7521</th>\n",
       "      <td>708.75</td>\n",
       "      <td>708.75</td>\n",
       "      <td>1.0</td>\n",
       "    </tr>\n",
       "    <tr>\n",
       "      <th>7522</th>\n",
       "      <td>708.75</td>\n",
       "      <td>708.75</td>\n",
       "      <td>1.0</td>\n",
       "    </tr>\n",
       "    <tr>\n",
       "      <th>7523</th>\n",
       "      <td>708.75</td>\n",
       "      <td>708.75</td>\n",
       "      <td>1.0</td>\n",
       "    </tr>\n",
       "    <tr>\n",
       "      <th>7524</th>\n",
       "      <td>708.75</td>\n",
       "      <td>708.75</td>\n",
       "      <td>1.0</td>\n",
       "    </tr>\n",
       "  </tbody>\n",
       "</table>\n",
       "<p>7525 rows × 3 columns</p>\n",
       "</div>"
      ],
      "text/plain": [
       "      total_pack_size_ml_g  unit_pack_size_ml_g  ratio\n",
       "0                  3175.20              3175.20    1.0\n",
       "1                 10886.40             10886.40    1.0\n",
       "2                  4445.28              4445.28    1.0\n",
       "3                  4898.88              4898.88    1.0\n",
       "4                  6123.60              6123.60    1.0\n",
       "...                    ...                  ...    ...\n",
       "7520                708.75               708.75    1.0\n",
       "7521                708.75               708.75    1.0\n",
       "7522                708.75               708.75    1.0\n",
       "7523                708.75               708.75    1.0\n",
       "7524                708.75               708.75    1.0\n",
       "\n",
       "[7525 rows x 3 columns]"
      ]
     },
     "execution_count": 27,
     "metadata": {},
     "output_type": "execute_result"
    }
   ],
   "source": [
    "# gather all of the pack size columns\n",
    "sizes = data[[\"total_pack_size_ml_g\", \"unit_pack_size_ml_g\", \"ratio\"]]\n",
    "sizes"
   ]
  },
  {
   "cell_type": "code",
   "execution_count": null,
   "metadata": {
    "id": "aZ1PUCTHho1t"
   },
   "outputs": [],
   "source": []
  },
  {
   "cell_type": "code",
   "execution_count": 28,
   "metadata": {
    "id": "kMEY6yCUWycr"
   },
   "outputs": [],
   "source": [
    "# combine the 1hot dataframe with the TFIDF dataframe\n",
    "X = pd.concat([one_hot, sizes, tfidf], axis=1)\n",
    "\n",
    "# create a target variable for the Box-Cox transformed prices\n",
    "y = box_cox[0]"
   ]
  },
  {
   "cell_type": "code",
   "execution_count": 29,
   "metadata": {
    "id": "r5suSPhjW9sJ"
   },
   "outputs": [
    {
     "data": {
      "text/plain": [
       "((7525, 399), (7525,))"
      ]
     },
     "execution_count": 29,
     "metadata": {},
     "output_type": "execute_result"
    }
   ],
   "source": [
    "X.shape, y.shape"
   ]
  },
  {
   "cell_type": "markdown",
   "metadata": {
    "id": "4LRmdzS0YC51"
   },
   "source": [
    "### Predictive Price Modeling"
   ]
  },
  {
   "cell_type": "markdown",
   "metadata": {
    "id": "6px9i71oucf-"
   },
   "source": [
    "Optimal Model Implementation"
   ]
  },
  {
   "cell_type": "code",
   "execution_count": 30,
   "metadata": {
    "id": "Oct0leMr7jJJ"
   },
   "outputs": [
    {
     "data": {
      "text/plain": [
       "(7525, 399)"
      ]
     },
     "execution_count": 30,
     "metadata": {},
     "output_type": "execute_result"
    }
   ],
   "source": [
    "# standardize the dataset\n",
    "scaler = StandardScaler()\n",
    "X_std = scaler.fit_transform(X)\n",
    "X_std.shape"
   ]
  },
  {
   "cell_type": "code",
   "execution_count": 31,
   "metadata": {
    "id": "khMv1Vwm8CA1"
   },
   "outputs": [
    {
     "data": {
      "text/plain": [
       "Lasso(alpha=0.006428)"
      ]
     },
     "execution_count": 31,
     "metadata": {},
     "output_type": "execute_result"
    }
   ],
   "source": [
    "# instantiate a LASSO regressor with optimal hyperparameters\n",
    "lasso_reg = Lasso(alpha=0.006428)\n",
    "\n",
    "# train the LASSO regressor on the full dataset\n",
    "lasso_reg.fit(X_std, y)"
   ]
  },
  {
   "cell_type": "code",
   "execution_count": 32,
   "metadata": {
    "id": "n5BEdzUB9m2J"
   },
   "outputs": [],
   "source": [
    "# get the predicted prices\n",
    "pred = lasso_reg.predict(X_std)\n",
    "\n",
    "# reverse the box-cox transformation to get the predicted prices in dollars\n",
    "pred_usd = inv_boxcox(pred, box_cox[1])"
   ]
  },
  {
   "cell_type": "markdown",
   "metadata": {
    "id": "WFKTBN7O9GuO"
   },
   "source": [
    "Visualizations"
   ]
  },
  {
   "cell_type": "code",
   "execution_count": 33,
   "metadata": {
    "id": "XvW4WGU59JVt"
   },
   "outputs": [],
   "source": [
    "import matplotlib.pyplot as plt\n",
    "import seaborn as sns\n",
    "sns.set()"
   ]
  },
  {
   "cell_type": "code",
   "execution_count": 34,
   "metadata": {
    "id": "X_murxL_9L6v"
   },
   "outputs": [],
   "source": [
    "# put the coefficients in a Series with their respective names\n",
    "coef = pd.Series(lasso_reg.coef_, index=X.columns.values)\n",
    "\n",
    "# sort the values in place, descending\n",
    "coef.sort_values(ascending=False, inplace=True)\n",
    "\n",
    "# get the top 20 and bottom 20\n",
    "top20_bottom20 = pd.concat([coef[:20], coef[-20:]])"
   ]
  },
  {
   "cell_type": "code",
   "execution_count": 35,
   "metadata": {
    "id": "hq_NXzNn9bCI"
   },
   "outputs": [
    {
     "name": "stderr",
     "output_type": "stream",
     "text": [
      "/Users/yumengli/anaconda3/lib/python3.7/site-packages/seaborn/_decorators.py:43: FutureWarning:\n",
      "\n",
      "Pass the following variables as keyword args: x, y. From version 0.12, the only valid positional argument will be `data`, and passing other arguments without an explicit keyword will result in an error or misinterpretation.\n",
      "\n"
     ]
    },
    {
     "data": {
      "image/png": "[encoded data removed]",
      "text/plain": [
       "<Figure size 648x864 with 1 Axes>"
      ]
     },
     "metadata": {},
     "output_type": "display_data"
    }
   ],
   "source": [
    "plt.figure(figsize=(9, 12))\n",
    "sns.barplot(top20_bottom20.values, top20_bottom20.index.values,\n",
    "            orient=\"h\", palette='coolwarm')\n",
    "plt.xlim(-0.5, 0.7)\n",
    "plt.xticks(fontsize=13)\n",
    "plt.yticks(fontsize=13)\n",
    "plt.title(\"Top 20 Largest and Bottom 20 Smallest Coefficients\", fontsize=14);"
   ]
  },
  {
   "cell_type": "code",
   "execution_count": 36,
   "metadata": {
    "id": "LBkCT-IP9c-X"
   },
   "outputs": [
    {
     "data": {
      "image/png": "[encoded data removed]",
      "text/plain": [
       "<Figure size 1152x648 with 1 Axes>"
      ]
     },
     "metadata": {},
     "output_type": "display_data"
    }
   ],
   "source": [
    "plt.figure(figsize=(16, 9))\n",
    "plt.scatter(np.arange(0, 7525), pred_usd, alpha=0.5, label=\"Predicted\")\n",
    "plt.scatter(np.arange(0, 7525), data.price_usd, alpha=0.25, label=\"Actual\")\n",
    "plt.legend();"
   ]
  },
  {
   "cell_type": "code",
   "execution_count": null,
   "metadata": {
    "id": "9yMdc9Bpho1v"
   },
   "outputs": [],
   "source": []
  },
  {
   "cell_type": "markdown",
   "metadata": {
    "id": "BE6lrJwTho1v"
   },
   "source": [
    "## Grouping  Models"
   ]
  },
  {
   "cell_type": "markdown",
   "metadata": {
    "id": "59lJmTonho1v"
   },
   "source": [
    "### PCA Analysis"
   ]
  },
  {
   "cell_type": "code",
   "execution_count": 37,
   "metadata": {
    "id": "7yr7tRfQho1v"
   },
   "outputs": [],
   "source": [
    "from sklearn.decomposition import PCA\n",
    "pca = PCA(n_components=2)\n",
    "pca.fit(X_std)\n",
    "PCA(n_components=2)\n",
    "principalComponents = pca.fit_transform(X_std)"
   ]
  },
  {
   "cell_type": "code",
   "execution_count": 38,
   "metadata": {
    "id": "t5tCC8aIho1v"
   },
   "outputs": [
    {
     "data": {
      "text/html": [
       "<div>\n",
       "<style scoped>\n",
       "    .dataframe tbody tr th:only-of-type {\n",
       "        vertical-align: middle;\n",
       "    }\n",
       "\n",
       "    .dataframe tbody tr th {\n",
       "        vertical-align: top;\n",
       "    }\n",
       "\n",
       "    .dataframe thead th {\n",
       "        text-align: right;\n",
       "    }\n",
       "</style>\n",
       "<table border=\"1\" class=\"dataframe\">\n",
       "  <thead>\n",
       "    <tr style=\"text-align: right;\">\n",
       "      <th></th>\n",
       "      <th>principal component 1</th>\n",
       "      <th>principal component 2</th>\n",
       "    </tr>\n",
       "  </thead>\n",
       "  <tbody>\n",
       "    <tr>\n",
       "      <th>0</th>\n",
       "      <td>9.536697</td>\n",
       "      <td>-2.036845</td>\n",
       "    </tr>\n",
       "    <tr>\n",
       "      <th>1</th>\n",
       "      <td>5.588050</td>\n",
       "      <td>-0.481355</td>\n",
       "    </tr>\n",
       "    <tr>\n",
       "      <th>2</th>\n",
       "      <td>6.753276</td>\n",
       "      <td>-1.275136</td>\n",
       "    </tr>\n",
       "    <tr>\n",
       "      <th>3</th>\n",
       "      <td>8.292280</td>\n",
       "      <td>-1.737183</td>\n",
       "    </tr>\n",
       "    <tr>\n",
       "      <th>4</th>\n",
       "      <td>7.256044</td>\n",
       "      <td>-0.239073</td>\n",
       "    </tr>\n",
       "    <tr>\n",
       "      <th>...</th>\n",
       "      <td>...</td>\n",
       "      <td>...</td>\n",
       "    </tr>\n",
       "    <tr>\n",
       "      <th>7520</th>\n",
       "      <td>-3.876338</td>\n",
       "      <td>-1.126930</td>\n",
       "    </tr>\n",
       "    <tr>\n",
       "      <th>7521</th>\n",
       "      <td>-3.349665</td>\n",
       "      <td>-0.584679</td>\n",
       "    </tr>\n",
       "    <tr>\n",
       "      <th>7522</th>\n",
       "      <td>-3.701506</td>\n",
       "      <td>-0.417857</td>\n",
       "    </tr>\n",
       "    <tr>\n",
       "      <th>7523</th>\n",
       "      <td>-3.714606</td>\n",
       "      <td>-1.497934</td>\n",
       "    </tr>\n",
       "    <tr>\n",
       "      <th>7524</th>\n",
       "      <td>-3.234924</td>\n",
       "      <td>-0.512612</td>\n",
       "    </tr>\n",
       "  </tbody>\n",
       "</table>\n",
       "<p>7525 rows × 2 columns</p>\n",
       "</div>"
      ],
      "text/plain": [
       "      principal component 1  principal component 2\n",
       "0                  9.536697              -2.036845\n",
       "1                  5.588050              -0.481355\n",
       "2                  6.753276              -1.275136\n",
       "3                  8.292280              -1.737183\n",
       "4                  7.256044              -0.239073\n",
       "...                     ...                    ...\n",
       "7520              -3.876338              -1.126930\n",
       "7521              -3.349665              -0.584679\n",
       "7522              -3.701506              -0.417857\n",
       "7523              -3.714606              -1.497934\n",
       "7524              -3.234924              -0.512612\n",
       "\n",
       "[7525 rows x 2 columns]"
      ]
     },
     "execution_count": 38,
     "metadata": {},
     "output_type": "execute_result"
    }
   ],
   "source": [
    "principalDF = pd.DataFrame(data = principalComponents, columns = ['principal component 1', 'principal component 2'] )\n",
    "principalDF"
   ]
  },
  {
   "cell_type": "markdown",
   "metadata": {
    "id": "dPUN0hQLho1w"
   },
   "source": [
    "PCA for meal type"
   ]
  },
  {
   "cell_type": "code",
   "execution_count": 39,
   "metadata": {
    "id": "b-cdfQVNho1w"
   },
   "outputs": [
    {
     "data": {
      "text/html": [
       "<div>\n",
       "<style scoped>\n",
       "    .dataframe tbody tr th:only-of-type {\n",
       "        vertical-align: middle;\n",
       "    }\n",
       "\n",
       "    .dataframe tbody tr th {\n",
       "        vertical-align: top;\n",
       "    }\n",
       "\n",
       "    .dataframe thead th {\n",
       "        text-align: right;\n",
       "    }\n",
       "</style>\n",
       "<table border=\"1\" class=\"dataframe\">\n",
       "  <thead>\n",
       "    <tr style=\"text-align: right;\">\n",
       "      <th></th>\n",
       "      <th>principal component 1</th>\n",
       "      <th>principal component 2</th>\n",
       "      <th>meal_type</th>\n",
       "    </tr>\n",
       "  </thead>\n",
       "  <tbody>\n",
       "    <tr>\n",
       "      <th>0</th>\n",
       "      <td>9.536697</td>\n",
       "      <td>-2.036845</td>\n",
       "      <td>primary</td>\n",
       "    </tr>\n",
       "    <tr>\n",
       "      <th>1</th>\n",
       "      <td>5.588050</td>\n",
       "      <td>-0.481355</td>\n",
       "      <td>primary</td>\n",
       "    </tr>\n",
       "    <tr>\n",
       "      <th>2</th>\n",
       "      <td>6.753276</td>\n",
       "      <td>-1.275136</td>\n",
       "      <td>primary</td>\n",
       "    </tr>\n",
       "    <tr>\n",
       "      <th>3</th>\n",
       "      <td>8.292280</td>\n",
       "      <td>-1.737183</td>\n",
       "      <td>primary</td>\n",
       "    </tr>\n",
       "    <tr>\n",
       "      <th>4</th>\n",
       "      <td>7.256044</td>\n",
       "      <td>-0.239073</td>\n",
       "      <td>primary</td>\n",
       "    </tr>\n",
       "    <tr>\n",
       "      <th>...</th>\n",
       "      <td>...</td>\n",
       "      <td>...</td>\n",
       "      <td>...</td>\n",
       "    </tr>\n",
       "    <tr>\n",
       "      <th>7520</th>\n",
       "      <td>-3.876338</td>\n",
       "      <td>-1.126930</td>\n",
       "      <td>treats</td>\n",
       "    </tr>\n",
       "    <tr>\n",
       "      <th>7521</th>\n",
       "      <td>-3.349665</td>\n",
       "      <td>-0.584679</td>\n",
       "      <td>treats</td>\n",
       "    </tr>\n",
       "    <tr>\n",
       "      <th>7522</th>\n",
       "      <td>-3.701506</td>\n",
       "      <td>-0.417857</td>\n",
       "      <td>treats</td>\n",
       "    </tr>\n",
       "    <tr>\n",
       "      <th>7523</th>\n",
       "      <td>-3.714606</td>\n",
       "      <td>-1.497934</td>\n",
       "      <td>treats</td>\n",
       "    </tr>\n",
       "    <tr>\n",
       "      <th>7524</th>\n",
       "      <td>-3.234924</td>\n",
       "      <td>-0.512612</td>\n",
       "      <td>treats</td>\n",
       "    </tr>\n",
       "  </tbody>\n",
       "</table>\n",
       "<p>7525 rows × 3 columns</p>\n",
       "</div>"
      ],
      "text/plain": [
       "      principal component 1  principal component 2 meal_type\n",
       "0                  9.536697              -2.036845   primary\n",
       "1                  5.588050              -0.481355   primary\n",
       "2                  6.753276              -1.275136   primary\n",
       "3                  8.292280              -1.737183   primary\n",
       "4                  7.256044              -0.239073   primary\n",
       "...                     ...                    ...       ...\n",
       "7520              -3.876338              -1.126930    treats\n",
       "7521              -3.349665              -0.584679    treats\n",
       "7522              -3.701506              -0.417857    treats\n",
       "7523              -3.714606              -1.497934    treats\n",
       "7524              -3.234924              -0.512612    treats\n",
       "\n",
       "[7525 rows x 3 columns]"
      ]
     },
     "execution_count": 39,
     "metadata": {},
     "output_type": "execute_result"
    }
   ],
   "source": [
    "finalDF_mealType = pd.concat([principalDF, data[[\"meal_type\"]]], axis = 1)\n",
    "finalDF_mealType"
   ]
  },
  {
   "cell_type": "code",
   "execution_count": 40,
   "metadata": {
    "id": "9W3nqANJho1w"
   },
   "outputs": [
    {
     "data": {
      "image/png": "[encoded data removed]",
      "text/plain": [
       "<Figure size 576x576 with 1 Axes>"
      ]
     },
     "metadata": {},
     "output_type": "display_data"
    }
   ],
   "source": [
    "# visualizing PCA\n",
    "fig = plt.figure(figsize = (8, 8))\n",
    "ax = fig.add_subplot(1, 1, 1)\n",
    "ax.set_xlabel('Principal Component 1', fontsize = 15)\n",
    "ax.set_ylabel('Principal Component 2', fontsize = 15)\n",
    "ax.set_title('2 component PCA', fontsize = 20)\n",
    "targets = [\"treats\", \"primary\"]\n",
    "colors = ['r', 'g']\n",
    "for target, color in zip(targets, colors):\n",
    "    indx = finalDF_mealType['meal_type'] == target\n",
    "    ax.scatter(finalDF_mealType.loc[indx, 'principal component 1'],\n",
    "              finalDF_mealType.loc[indx, 'principal component 2'],\n",
    "             c = color, s = 50)\n",
    "ax.legend(targets)\n",
    "ax.grid()"
   ]
  },
  {
   "cell_type": "markdown",
   "metadata": {},
   "source": [
    "PCA for foodtype"
   ]
  },
  {
   "cell_type": "code",
   "execution_count": 41,
   "metadata": {
    "id": "3bH6Zvazho1w"
   },
   "outputs": [
    {
     "data": {
      "text/html": [
       "<div>\n",
       "<style scoped>\n",
       "    .dataframe tbody tr th:only-of-type {\n",
       "        vertical-align: middle;\n",
       "    }\n",
       "\n",
       "    .dataframe tbody tr th {\n",
       "        vertical-align: top;\n",
       "    }\n",
       "\n",
       "    .dataframe thead th {\n",
       "        text-align: right;\n",
       "    }\n",
       "</style>\n",
       "<table border=\"1\" class=\"dataframe\">\n",
       "  <thead>\n",
       "    <tr style=\"text-align: right;\">\n",
       "      <th></th>\n",
       "      <th>principal component 1</th>\n",
       "      <th>principal component 2</th>\n",
       "      <th>food_type</th>\n",
       "    </tr>\n",
       "  </thead>\n",
       "  <tbody>\n",
       "    <tr>\n",
       "      <th>0</th>\n",
       "      <td>9.536697</td>\n",
       "      <td>-2.036845</td>\n",
       "      <td>dry</td>\n",
       "    </tr>\n",
       "    <tr>\n",
       "      <th>1</th>\n",
       "      <td>5.588050</td>\n",
       "      <td>-0.481355</td>\n",
       "      <td>dry</td>\n",
       "    </tr>\n",
       "    <tr>\n",
       "      <th>2</th>\n",
       "      <td>6.753276</td>\n",
       "      <td>-1.275136</td>\n",
       "      <td>dry</td>\n",
       "    </tr>\n",
       "    <tr>\n",
       "      <th>3</th>\n",
       "      <td>8.292280</td>\n",
       "      <td>-1.737183</td>\n",
       "      <td>dry</td>\n",
       "    </tr>\n",
       "    <tr>\n",
       "      <th>4</th>\n",
       "      <td>7.256044</td>\n",
       "      <td>-0.239073</td>\n",
       "      <td>dry</td>\n",
       "    </tr>\n",
       "    <tr>\n",
       "      <th>...</th>\n",
       "      <td>...</td>\n",
       "      <td>...</td>\n",
       "      <td>...</td>\n",
       "    </tr>\n",
       "    <tr>\n",
       "      <th>7520</th>\n",
       "      <td>-3.876338</td>\n",
       "      <td>-1.126930</td>\n",
       "      <td>wet</td>\n",
       "    </tr>\n",
       "    <tr>\n",
       "      <th>7521</th>\n",
       "      <td>-3.349665</td>\n",
       "      <td>-0.584679</td>\n",
       "      <td>wet</td>\n",
       "    </tr>\n",
       "    <tr>\n",
       "      <th>7522</th>\n",
       "      <td>-3.701506</td>\n",
       "      <td>-0.417857</td>\n",
       "      <td>wet</td>\n",
       "    </tr>\n",
       "    <tr>\n",
       "      <th>7523</th>\n",
       "      <td>-3.714606</td>\n",
       "      <td>-1.497934</td>\n",
       "      <td>wet</td>\n",
       "    </tr>\n",
       "    <tr>\n",
       "      <th>7524</th>\n",
       "      <td>-3.234924</td>\n",
       "      <td>-0.512612</td>\n",
       "      <td>wet</td>\n",
       "    </tr>\n",
       "  </tbody>\n",
       "</table>\n",
       "<p>7525 rows × 3 columns</p>\n",
       "</div>"
      ],
      "text/plain": [
       "      principal component 1  principal component 2 food_type\n",
       "0                  9.536697              -2.036845       dry\n",
       "1                  5.588050              -0.481355       dry\n",
       "2                  6.753276              -1.275136       dry\n",
       "3                  8.292280              -1.737183       dry\n",
       "4                  7.256044              -0.239073       dry\n",
       "...                     ...                    ...       ...\n",
       "7520              -3.876338              -1.126930       wet\n",
       "7521              -3.349665              -0.584679       wet\n",
       "7522              -3.701506              -0.417857       wet\n",
       "7523              -3.714606              -1.497934       wet\n",
       "7524              -3.234924              -0.512612       wet\n",
       "\n",
       "[7525 rows x 3 columns]"
      ]
     },
     "execution_count": 41,
     "metadata": {},
     "output_type": "execute_result"
    }
   ],
   "source": [
    "finalDF_foodType = pd.concat([principalDF, data[[\"food_type\"]]], axis = 1)\n",
    "finalDF_foodType"
   ]
  },
  {
   "cell_type": "code",
   "execution_count": 42,
   "metadata": {
    "id": "3n8p0o6Nho10"
   },
   "outputs": [
    {
     "data": {
      "image/png": "[encoded data removed]",
      "text/plain": [
       "<Figure size 576x576 with 1 Axes>"
      ]
     },
     "metadata": {},
     "output_type": "display_data"
    }
   ],
   "source": [
    "fig = plt.figure(figsize = (8, 8))\n",
    "ax = fig.add_subplot(1, 1, 1)\n",
    "ax.set_xlabel('Principal Component 1', fontsize = 15)\n",
    "ax.set_ylabel('Principal Component 2', fontsize = 15)\n",
    "ax.set_title('2 component PCA', fontsize = 20)\n",
    "targets = [\"dry\", \"wet\"]\n",
    "colors = ['r', 'g']\n",
    "for target, color in zip(targets, colors):\n",
    "    indx = finalDF_foodType['food_type'] == target\n",
    "    ax.scatter(finalDF_foodType.loc[indx, 'principal component 1'],\n",
    "              finalDF_foodType.loc[indx, 'principal component 2'],\n",
    "             c = color, s = 50)\n",
    "ax.legend(targets)\n",
    "ax.grid()"
   ]
  },
  {
   "cell_type": "markdown",
   "metadata": {},
   "source": [
    "### Doc2Vec Analysis Using Cosine Similarity \n",
    "#### this shows how similar a new description document is to the other existing documents"
   ]
  },
  {
   "cell_type": "code",
   "execution_count": 43,
   "metadata": {},
   "outputs": [
    {
     "data": {
      "text/plain": [
       "4"
      ]
     },
     "execution_count": 43,
     "metadata": {},
     "output_type": "execute_result"
    }
   ],
   "source": [
    "import multiprocessing\n",
    "multiprocessing.cpu_count()"
   ]
  },
  {
   "cell_type": "code",
   "execution_count": 44,
   "metadata": {},
   "outputs": [],
   "source": [
    "import gensim\n",
    "import smart_open\n",
    "## Using Gensim package reading in the corpus\n",
    "def read_corpus(set):       \n",
    "    for i, line in enumerate(set):\n",
    "        tokens = gensim.utils.simple_preprocess(line)\n",
    "        yield gensim.models.doc2vec.TaggedDocument(tokens, [i])\n",
    "corpus = list(read_corpus(data.description))"
   ]
  },
  {
   "cell_type": "code",
   "execution_count": 45,
   "metadata": {},
   "outputs": [],
   "source": [
    "# Building the doc to vec model \n",
    "model = gensim.models.doc2vec.Doc2Vec(vector_size=50, min_count=2, epochs=40)\n",
    "model.build_vocab(corpus)"
   ]
  },
  {
   "cell_type": "code",
   "execution_count": 46,
   "metadata": {},
   "outputs": [],
   "source": [
    "model.train(corpus, total_examples=model.corpus_count, epochs=model.epochs)"
   ]
  },
  {
   "cell_type": "code",
   "execution_count": 47,
   "metadata": {},
   "outputs": [
    {
     "data": {
      "text/plain": [
       "[(1994, 0.5810853242874146),\n",
       " (2649, 0.5496307611465454),\n",
       " (3244, 0.5401643514633179),\n",
       " (7455, 0.5335648059844971),\n",
       " (5477, 0.5254746675491333),\n",
       " (6835, 0.5198439955711365),\n",
       " (603, 0.5166947841644287),\n",
       " (5073, 0.5154356956481934),\n",
       " (605, 0.4933776259422302),\n",
       " (3463, 0.49253225326538086),\n",
       " (5674, 0.4881405830383301),\n",
       " (6771, 0.4863950312137604),\n",
       " (3528, 0.4860175549983978),\n",
       " (3199, 0.4803486168384552),\n",
       " (378, 0.480010986328125),\n",
       " (3551, 0.47958260774612427),\n",
       " (57, 0.472555935382843),\n",
       " (4741, 0.464607834815979),\n",
       " (4417, 0.46265435218811035),\n",
       " (2494, 0.46187931299209595),\n",
       " (4442, 0.4586716890335083),\n",
       " (7345, 0.4571363627910614),\n",
       " (5841, 0.45441538095474243),\n",
       " (2015, 0.4499411880970001),\n",
       " (5373, 0.4493277668952942),\n",
       " (2340, 0.44792598485946655),\n",
       " (741, 0.4473320245742798),\n",
       " (7108, 0.4467415511608124),\n",
       " (437, 0.44604650139808655),\n",
       " (813, 0.4455583393573761),\n",
       " (3881, 0.4455180764198303),\n",
       " (6474, 0.44366270303726196),\n",
       " (2875, 0.4423545002937317),\n",
       " (3527, 0.4420429468154907),\n",
       " (1466, 0.4404442608356476),\n",
       " (2579, 0.4377244710922241),\n",
       " (364, 0.43737122416496277),\n",
       " (5369, 0.43651580810546875),\n",
       " (2660, 0.4364951550960541),\n",
       " (844, 0.434933066368103),\n",
       " (2001, 0.4340377151966095),\n",
       " (5680, 0.4322666525840759),\n",
       " (820, 0.43200331926345825),\n",
       " (1842, 0.42935115098953247),\n",
       " (2476, 0.4292713403701782),\n",
       " (4440, 0.4291054606437683),\n",
       " (5850, 0.42790648341178894),\n",
       " (1504, 0.4273741841316223),\n",
       " (1783, 0.42700016498565674),\n",
       " (3529, 0.42558789253234863),\n",
       " (2430, 0.42390501499176025),\n",
       " (3189, 0.4233636260032654),\n",
       " (2997, 0.42274367809295654),\n",
       " (1740, 0.4223024845123291),\n",
       " (4061, 0.4220806360244751),\n",
       " (5356, 0.42143601179122925),\n",
       " (4487, 0.4199238121509552),\n",
       " (5556, 0.419022798538208),\n",
       " (3188, 0.41820746660232544),\n",
       " (166, 0.4174126386642456),\n",
       " (40, 0.41728219389915466),\n",
       " (472, 0.41594362258911133),\n",
       " (826, 0.4135431945323944),\n",
       " (2167, 0.4132691025733948),\n",
       " (3879, 0.4127943515777588),\n",
       " (6416, 0.41245153546333313),\n",
       " (2848, 0.41136568784713745),\n",
       " (4035, 0.4104359447956085),\n",
       " (910, 0.410206139087677),\n",
       " (3620, 0.4086441397666931),\n",
       " (3391, 0.4074598550796509),\n",
       " (7174, 0.4061419367790222),\n",
       " (6631, 0.40541601181030273),\n",
       " (7443, 0.40506860613822937),\n",
       " (3442, 0.40505215525627136),\n",
       " (850, 0.4046679735183716),\n",
       " (1528, 0.40466198325157166),\n",
       " (2497, 0.4046609699726105),\n",
       " (397, 0.4043768048286438),\n",
       " (5152, 0.4036724269390106),\n",
       " (1539, 0.40233319997787476),\n",
       " (3936, 0.4017859995365143),\n",
       " (381, 0.4015999138355255),\n",
       " (6534, 0.4005100429058075),\n",
       " (5368, 0.3996492624282837),\n",
       " (3330, 0.39926624298095703),\n",
       " (4758, 0.39875322580337524),\n",
       " (2933, 0.3985323905944824),\n",
       " (1252, 0.39846545457839966),\n",
       " (6454, 0.3952248990535736),\n",
       " (201, 0.39497366547584534),\n",
       " (2780, 0.3949137330055237),\n",
       " (6830, 0.3948708474636078),\n",
       " (5100, 0.3935394883155823),\n",
       " (7021, 0.3930043578147888),\n",
       " (6012, 0.3922855257987976),\n",
       " (4140, 0.39216023683547974),\n",
       " (3969, 0.3919585943222046),\n",
       " (4001, 0.391446977853775),\n",
       " (264, 0.39111214876174927)]"
      ]
     },
     "execution_count": 47,
     "metadata": {},
     "output_type": "execute_result"
    }
   ],
   "source": [
    "# Pick a random document from the corpus and infer a vector from the model\n",
    "String ='Tibbles & Bits brand organic dog food is naturally gluten and grain-free, and provides your pet with the best variety of raw ingredients. Follow us on Facebook to see all of our cookies, chews, and jerky.'\n",
    "tokens = gensim.utils.simple_preprocess(String)\n",
    "inferred_vector = model.infer_vector(tokens)\n",
    "## choose the top 100 most similar documents with biggest to smallest cosine smilarity score\n",
    "sims = model.docvecs.most_similar([inferred_vector], topn=100)\n",
    "sims"
   ]
  },
  {
   "cell_type": "code",
   "execution_count": 48,
   "metadata": {},
   "outputs": [
    {
     "data": {
      "text/html": [
       "<div>\n",
       "<style scoped>\n",
       "    .dataframe tbody tr th:only-of-type {\n",
       "        vertical-align: middle;\n",
       "    }\n",
       "\n",
       "    .dataframe tbody tr th {\n",
       "        vertical-align: top;\n",
       "    }\n",
       "\n",
       "    .dataframe thead th {\n",
       "        text-align: right;\n",
       "    }\n",
       "</style>\n",
       "<table border=\"1\" class=\"dataframe\">\n",
       "  <thead>\n",
       "    <tr style=\"text-align: right;\">\n",
       "      <th></th>\n",
       "      <th>date</th>\n",
       "      <th>variant</th>\n",
       "      <th>description</th>\n",
       "      <th>ingredients_stdlist</th>\n",
       "      <th>price_usd</th>\n",
       "      <th>company_parent</th>\n",
       "      <th>company</th>\n",
       "      <th>brand</th>\n",
       "      <th>total_pack_size_ml_g</th>\n",
       "      <th>unit_pack_size_ml_g</th>\n",
       "      <th>year</th>\n",
       "      <th>ratio</th>\n",
       "      <th>pet_type</th>\n",
       "      <th>meal_type</th>\n",
       "      <th>food_type</th>\n",
       "      <th>first_ingredient</th>\n",
       "    </tr>\n",
       "  </thead>\n",
       "  <tbody>\n",
       "    <tr>\n",
       "      <th>1994</th>\n",
       "      <td>2008-09-25</td>\n",
       "      <td>Turkey &amp; Chicken Formula</td>\n",
       "      <td>Newman's Own Organics Dog Food Range is compri...</td>\n",
       "      <td>Turkey &amp; Chicken Formula:\\nChicken Meat, Barle...</td>\n",
       "      <td>1.99</td>\n",
       "      <td>Newman's Own</td>\n",
       "      <td>Newman's Own Organics</td>\n",
       "      <td>Newman's Own Organics</td>\n",
       "      <td>360.05</td>\n",
       "      <td>360.05</td>\n",
       "      <td>2008</td>\n",
       "      <td>1.0</td>\n",
       "      <td>dog</td>\n",
       "      <td>primary</td>\n",
       "      <td>wet</td>\n",
       "      <td>other</td>\n",
       "    </tr>\n",
       "    <tr>\n",
       "      <th>2649</th>\n",
       "      <td>2010-04-21</td>\n",
       "      <td>Duck Treats for Dogs</td>\n",
       "      <td>Stella &amp; Chewy's Carnivore Crunch has introduc...</td>\n",
       "      <td>Duck Meat (Ground) (Bone), Goose Meat, Turkey ...</td>\n",
       "      <td>12.00</td>\n",
       "      <td>Stella &amp; Chewy's</td>\n",
       "      <td>Stella &amp; Chewy's</td>\n",
       "      <td>Stella &amp; Chewy's Carnivore Crunch</td>\n",
       "      <td>113.40</td>\n",
       "      <td>113.40</td>\n",
       "      <td>2010</td>\n",
       "      <td>1.0</td>\n",
       "      <td>dog</td>\n",
       "      <td>treats</td>\n",
       "      <td>wet</td>\n",
       "      <td>other</td>\n",
       "    </tr>\n",
       "    <tr>\n",
       "      <th>3244</th>\n",
       "      <td>2018-11-08</td>\n",
       "      <td>Chicken and Peanut Butter Flavored All Natural...</td>\n",
       "      <td>Look Who's Happy Snack'ems Chicken and Peanut ...</td>\n",
       "      <td>Chicken Meat, Glycerol (Coconut Derived), Pean...</td>\n",
       "      <td>11.99</td>\n",
       "      <td>Big Creek Foods</td>\n",
       "      <td>Big Creek Foods</td>\n",
       "      <td>Look Who's Happy Snack'ems</td>\n",
       "      <td>226.80</td>\n",
       "      <td>226.80</td>\n",
       "      <td>2018</td>\n",
       "      <td>1.0</td>\n",
       "      <td>dog</td>\n",
       "      <td>treats</td>\n",
       "      <td>wet</td>\n",
       "      <td>chicken</td>\n",
       "    </tr>\n",
       "    <tr>\n",
       "      <th>7455</th>\n",
       "      <td>2019-09-26</td>\n",
       "      <td>Grin for Dental Health Soft Chews for Dogs</td>\n",
       "      <td>InClover Research Grin for Dental Health Soft ...</td>\n",
       "      <td>Potato Flour, Pea Flour (Powdered), Glycerol, ...</td>\n",
       "      <td>20.99</td>\n",
       "      <td>In Clover</td>\n",
       "      <td>In Clover</td>\n",
       "      <td>InClover Research</td>\n",
       "      <td>425.25</td>\n",
       "      <td>425.25</td>\n",
       "      <td>2019</td>\n",
       "      <td>1.0</td>\n",
       "      <td>dog</td>\n",
       "      <td>treats</td>\n",
       "      <td>wet</td>\n",
       "      <td>other</td>\n",
       "    </tr>\n",
       "    <tr>\n",
       "      <th>5477</th>\n",
       "      <td>2012-04-20</td>\n",
       "      <td>Chicken Heart Shaped Patties</td>\n",
       "      <td>Stewart Raw Naturals Fresh to Home Chicken Hea...</td>\n",
       "      <td>Chicken Meat, Chicken Bone (Ground), Chicken L...</td>\n",
       "      <td>16.99</td>\n",
       "      <td>MiracleCorp</td>\n",
       "      <td>MiracleCorp</td>\n",
       "      <td>Stewart Raw Naturals</td>\n",
       "      <td>1360.80</td>\n",
       "      <td>1360.80</td>\n",
       "      <td>2012</td>\n",
       "      <td>1.0</td>\n",
       "      <td>dog</td>\n",
       "      <td>primary</td>\n",
       "      <td>wet</td>\n",
       "      <td>chicken</td>\n",
       "    </tr>\n",
       "  </tbody>\n",
       "</table>\n",
       "</div>"
      ],
      "text/plain": [
       "           date                                            variant  \\\n",
       "1994 2008-09-25                           Turkey & Chicken Formula   \n",
       "2649 2010-04-21                               Duck Treats for Dogs   \n",
       "3244 2018-11-08  Chicken and Peanut Butter Flavored All Natural...   \n",
       "7455 2019-09-26         Grin for Dental Health Soft Chews for Dogs   \n",
       "5477 2012-04-20                       Chicken Heart Shaped Patties   \n",
       "\n",
       "                                            description  \\\n",
       "1994  Newman's Own Organics Dog Food Range is compri...   \n",
       "2649  Stella & Chewy's Carnivore Crunch has introduc...   \n",
       "3244  Look Who's Happy Snack'ems Chicken and Peanut ...   \n",
       "7455  InClover Research Grin for Dental Health Soft ...   \n",
       "5477  Stewart Raw Naturals Fresh to Home Chicken Hea...   \n",
       "\n",
       "                                    ingredients_stdlist  price_usd  \\\n",
       "1994  Turkey & Chicken Formula:\\nChicken Meat, Barle...       1.99   \n",
       "2649  Duck Meat (Ground) (Bone), Goose Meat, Turkey ...      12.00   \n",
       "3244  Chicken Meat, Glycerol (Coconut Derived), Pean...      11.99   \n",
       "7455  Potato Flour, Pea Flour (Powdered), Glycerol, ...      20.99   \n",
       "5477  Chicken Meat, Chicken Bone (Ground), Chicken L...      16.99   \n",
       "\n",
       "        company_parent                company  \\\n",
       "1994      Newman's Own  Newman's Own Organics   \n",
       "2649  Stella & Chewy's       Stella & Chewy's   \n",
       "3244   Big Creek Foods        Big Creek Foods   \n",
       "7455         In Clover              In Clover   \n",
       "5477       MiracleCorp            MiracleCorp   \n",
       "\n",
       "                                  brand  total_pack_size_ml_g  \\\n",
       "1994              Newman's Own Organics                360.05   \n",
       "2649  Stella & Chewy's Carnivore Crunch                113.40   \n",
       "3244         Look Who's Happy Snack'ems                226.80   \n",
       "7455                  InClover Research                425.25   \n",
       "5477               Stewart Raw Naturals               1360.80   \n",
       "\n",
       "      unit_pack_size_ml_g  year  ratio pet_type meal_type food_type  \\\n",
       "1994               360.05  2008    1.0      dog   primary       wet   \n",
       "2649               113.40  2010    1.0      dog    treats       wet   \n",
       "3244               226.80  2018    1.0      dog    treats       wet   \n",
       "7455               425.25  2019    1.0      dog    treats       wet   \n",
       "5477              1360.80  2012    1.0      dog   primary       wet   \n",
       "\n",
       "     first_ingredient  \n",
       "1994            other  \n",
       "2649            other  \n",
       "3244          chicken  \n",
       "7455            other  \n",
       "5477          chicken  "
      ]
     },
     "execution_count": 48,
     "metadata": {},
     "output_type": "execute_result"
    }
   ],
   "source": [
    "# get the index of the most similar documents from the tuple sims object\n",
    "# first is index second is cosine similarity score\n",
    "inds=[i[0] for i in sims]\n",
    "# create a new dataframe with these new index of top 100 most similar documents\n",
    "data_new = data.loc[inds]\n",
    "data_new.head()"
   ]
  },
  {
   "cell_type": "code",
   "execution_count": 54,
   "metadata": {},
   "outputs": [
    {
     "name": "stdout",
     "output_type": "stream",
     "text": [
      "1994    Newman's Own Organics Dog Food Range is compri...\n",
      "2649    Stella & Chewy's Carnivore Crunch has introduc...\n",
      "3244    Look Who's Happy Snack'ems Chicken and Peanut ...\n",
      "7455    InClover Research Grin for Dental Health Soft ...\n",
      "5477    Stewart Raw Naturals Fresh to Home Chicken Hea...\n",
      "Name: description, dtype: object\n",
      "1994    Newman's Own Organics\n",
      "2649         Stella & Chewy's\n",
      "3244          Big Creek Foods\n",
      "7455                In Clover\n",
      "5477              MiracleCorp\n",
      "Name: company, dtype: object\n"
     ]
    }
   ],
   "source": [
    "# get the top 5 most similar documents with the given index \n",
    "top5 = data_new[:5]\n",
    "# get the top 5 most similar pet food descriptions\n",
    "print(top5.description)\n",
    "# get the top 5 most similar pet food company\n",
    "print(top5.company)"
   ]
  },
  {
   "cell_type": "code",
   "execution_count": 50,
   "metadata": {},
   "outputs": [
    {
     "data": {
      "text/plain": [
       "count    10.000000\n",
       "mean     13.106000\n",
       "std       5.536927\n",
       "min       1.990000\n",
       "25%      10.402500\n",
       "50%      11.995000\n",
       "75%      17.740000\n",
       "max      20.990000\n",
       "Name: price_usd, dtype: float64"
      ]
     },
     "execution_count": 50,
     "metadata": {},
     "output_type": "execute_result"
    }
   ],
   "source": [
    "# get the summary statistic of the sales price of top 10 most similar documents\n",
    "data_new[:10].price_usd.describe()"
   ]
  }
 ],
 "metadata": {
  "colab": {
   "collapsed_sections": [],
   "name": "Capstone_Project.ipynb",
   "provenance": [],
   "toc_visible": true
  },
  "kernelspec": {
   "display_name": "Python 3",
   "language": "python",
   "name": "python3"
  },
  "language_info": {
   "codemirror_mode": {
    "name": "ipython",
    "version": 3
   },
   "file_extension": ".py",
   "mimetype": "text/x-python",
   "name": "python",
   "nbconvert_exporter": "python",
   "pygments_lexer": "ipython3",
   "version": "3.7.3"
  }
 },
 "nbformat": 4,
 "nbformat_minor": 1
}
