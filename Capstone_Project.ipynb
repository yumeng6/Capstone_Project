{
 "cells": [
  {
   "cell_type": "markdown",
   "metadata": {
    "id": "ujeiPIoTAe5f"
   },
   "source": [
    "## Capstone Project"
   ]
  },
  {
   "cell_type": "code",
   "execution_count": 57,
   "metadata": {
    "colab": {
     "base_uri": "https://localhost:8080/"
    },
    "id": "PeB660mvezrD",
    "outputId": "3624d461-ba67-4d86-bb46-aa6f693513f8"
   },
   "outputs": [
    {
     "name": "stdout",
     "output_type": "stream",
     "text": [
      "Requirement already satisfied: unidecode in e:\\users\\prade\\anaconda3\\lib\\site-packages (1.1.1)\n",
      "Requirement already satisfied: plotly in e:\\users\\prade\\anaconda3\\lib\\site-packages (4.14.1)\n",
      "Requirement already satisfied: six in e:\\users\\prade\\anaconda3\\lib\\site-packages (from plotly) (1.15.0)\n",
      "Requirement already satisfied: retrying>=1.3.3 in e:\\users\\prade\\anaconda3\\lib\\site-packages (from plotly) (1.3.3)\n"
     ]
    }
   ],
   "source": [
    "# install packages\n",
    "# coding: utf-8\n",
    "!pip install unidecode\n",
    "!pip install plotly"
   ]
  },
  {
   "cell_type": "code",
   "execution_count": 58,
   "metadata": {
    "colab": {
     "base_uri": "https://localhost:8080/"
    },
    "id": "8ClK8p08ZUNe",
    "outputId": "ac1f617f-4d6d-44f0-c59e-59b23b3d6a9c"
   },
   "outputs": [
    {
     "name": "stderr",
     "output_type": "stream",
     "text": [
      "[nltk_data] Downloading package stopwords to\n",
      "[nltk_data]     C:\\Users\\prade\\AppData\\Roaming\\nltk_data...\n",
      "[nltk_data]   Package stopwords is already up-to-date!\n"
     ]
    },
    {
     "data": {
      "text/plain": [
       "True"
      ]
     },
     "execution_count": 58,
     "metadata": {},
     "output_type": "execute_result"
    }
   ],
   "source": [
    "# download corpus of stop words\n",
    "import nltk\n",
    "nltk.download('stopwords')"
   ]
  },
  {
   "cell_type": "code",
   "execution_count": 59,
   "metadata": {
    "id": "ZvASBJmGAe5h"
   },
   "outputs": [],
   "source": [
    "# import modules\n",
    "import joblib\n",
    "import numpy as np\n",
    "import pandas as pd\n",
    "import plotly.express as px\n",
    "import scipy.stats as ss\n",
    "import unidecode\n",
    "from nltk.corpus import stopwords\n",
    "from scipy.special import inv_boxcox\n",
    "from sklearn.ensemble import RandomForestRegressor\n",
    "from sklearn.feature_extraction.text import TfidfVectorizer\n",
    "from sklearn.linear_model import ElasticNet, Lasso, LinearRegression, Ridge\n",
    "from sklearn.metrics import mean_squared_error\n",
    "from sklearn.model_selection import GridSearchCV\n",
    "from sklearn.model_selection import RandomizedSearchCV\n",
    "from sklearn.model_selection import train_test_split\n",
    "from sklearn.preprocessing import PolynomialFeatures\n",
    "from sklearn.preprocessing import StandardScaler\n",
    "from sklearn.pipeline import make_pipeline"
   ]
  },
  {
   "cell_type": "code",
   "execution_count": 60,
   "metadata": {
    "colab": {
     "base_uri": "https://localhost:8080/",
     "height": 392
    },
    "id": "x9Wi8sAJAe5q",
    "outputId": "f70840e4-f068-4d57-d683-c11b505a7a43"
   },
   "outputs": [],
   "source": [
    "# load the data\n",
    "data = pd.read_csv(\"pet food data.csv\")"
   ]
  },
  {
   "cell_type": "markdown",
   "metadata": {
    "id": "4kd4rakpAe5x"
   },
   "source": [
    "There are 684 entries that do not have price data, 548 entries that do not have an ingredients list, 755 entries that do not have a total package size, and 747 entries that do not have a unit package size."
   ]
  },
  {
   "cell_type": "code",
   "execution_count": 61,
   "metadata": {
    "id": "QEWKVbzzAe5z"
   },
   "outputs": [
    {
     "name": "stdout",
     "output_type": "stream",
     "text": [
      "<class 'pandas.core.frame.DataFrame'>\n",
      "RangeIndex: 8754 entries, 0 to 8753\n",
      "Data columns (total 13 columns):\n",
      " #   Column                Non-Null Count  Dtype  \n",
      "---  ------                --------------  -----  \n",
      " 0   date                  8754 non-null   object \n",
      " 1   category              8754 non-null   object \n",
      " 2   sub_category          8754 non-null   object \n",
      " 3   product               8754 non-null   object \n",
      " 4   variant               8754 non-null   object \n",
      " 5   description           8754 non-null   object \n",
      " 6   ingredients_stdlist   8206 non-null   object \n",
      " 7   price_usd             8070 non-null   float64\n",
      " 8   company_parent        8754 non-null   object \n",
      " 9   company               8754 non-null   object \n",
      " 10  brand                 8754 non-null   object \n",
      " 11  total_pack_size_ml_g  7999 non-null   float64\n",
      " 12  unit_pack_size_ml_g   8007 non-null   float64\n",
      "dtypes: float64(3), object(10)\n",
      "memory usage: 889.2+ KB\n"
     ]
    }
   ],
   "source": [
    "# get a description of the unprocessed data\n",
    "data.info()"
   ]
  },
  {
   "cell_type": "code",
   "execution_count": 62,
   "metadata": {
    "id": "w9HB0tUoAe55"
   },
   "outputs": [
    {
     "data": {
      "text/plain": [
       "0"
      ]
     },
     "execution_count": 62,
     "metadata": {},
     "output_type": "execute_result"
    }
   ],
   "source": [
    "# determine if there are any duplicate rows\n",
    "np.sum(data.duplicated())"
   ]
  },
  {
   "cell_type": "code",
   "execution_count": 63,
   "metadata": {
    "id": "WSgAX3J8ho1n"
   },
   "outputs": [
    {
     "data": {
      "text/plain": [
       "<bound method Series.unique of 0                         Mars\n",
       "1         Big Heart Pet Brands\n",
       "2                         Iams\n",
       "3                         Iams\n",
       "4       Del Monte Pet Products\n",
       "                 ...          \n",
       "8749                    Target\n",
       "8750     Nestlé Purina PetCare\n",
       "8751      Big Heart Pet Brands\n",
       "8752     Nestlé Purina PetCare\n",
       "8753      Big Heart Pet Brands\n",
       "Name: company, Length: 8754, dtype: object>"
      ]
     },
     "execution_count": 63,
     "metadata": {},
     "output_type": "execute_result"
    }
   ],
   "source": [
    "data.company.unique"
   ]
  },
  {
   "cell_type": "markdown",
   "metadata": {
    "id": "ibuuloAjbNBr"
   },
   "source": [
    "### Initial Cleaning for Visualization"
   ]
  },
  {
   "cell_type": "code",
   "execution_count": 64,
   "metadata": {
    "id": "4lxLmVfRAe5_"
   },
   "outputs": [],
   "source": [
    "# drop all of the NaN entries\n",
    "data.dropna(inplace=True)\n",
    "\n",
    "# remove 1 outlier price with invalid pack size\n",
    "data = data[data.price_usd < 50]\n",
    "\n",
    "# remove 1 unit pack size equal to 0\n",
    "data = data[data.unit_pack_size_ml_g > 0]\n",
    "\n",
    "# drop 32 therapeutic supplements \n",
    "data = data.loc[~data.ingredients_stdlist.str.startswith(\"active\"), :]\n",
    "\n",
    "# reset the index\n",
    "data.reset_index(drop=True, inplace=True)"
   ]
  },
  {
   "cell_type": "code",
   "execution_count": 65,
   "metadata": {
    "id": "tUiJxAdTAe6E"
   },
   "outputs": [],
   "source": [
    "# transform the string dates into datetime objects and create a year column\n",
    "data.loc[:, \"date\"] = pd.to_datetime(data.date.str[:10])\n",
    "data[\"year\"] = data.date.apply(lambda x: x.year)"
   ]
  },
  {
   "cell_type": "code",
   "execution_count": 66,
   "metadata": {
    "id": "ZM9tCy_fAe6I"
   },
   "outputs": [],
   "source": [
    "# drop the \"category\" column since it contains one value \"Pet Food\" and\n",
    "# the \"variant\" column since it is equivalent to the \"product\" column\n",
    "data.drop(columns=[\"category\", \"product\"], inplace=True)"
   ]
  },
  {
   "cell_type": "code",
   "execution_count": 67,
   "metadata": {
    "id": "8v_t35EX6ReB"
   },
   "outputs": [],
   "source": [
    "# add a ratio column of pack sizes to the dataframe\n",
    "data[\"ratio\"] = data.total_pack_size_ml_g / data.unit_pack_size_ml_g"
   ]
  },
  {
   "cell_type": "code",
   "execution_count": 68,
   "metadata": {
    "id": "SLEgvzdBAe6M"
   },
   "outputs": [],
   "source": [
    "# transform the \"sub_category\" column into separate columns and drop \"sub_category\"\n",
    "data[\"pet_type\"] = data.sub_category.apply(lambda x: \"cat\" if (\"Cat\" in x) else \"dog\")\n",
    "data[\"meal_type\"] = data.sub_category.apply(lambda x: \"primary\" if (\"Food\" in x) else \"treats\")\n",
    "data[\"food_type\"] = data.sub_category.apply(lambda x: \"dry\" if (\"Dry\" in x) else \"wet\")\n",
    "data.drop(columns=\"sub_category\", inplace=True)"
   ]
  },
  {
   "cell_type": "code",
   "execution_count": 69,
   "metadata": {
    "id": "u2Vauq7JAmp8"
   },
   "outputs": [],
   "source": [
    "# create a function to replace dicritic characters with ASCII characters\n",
    "def replace_dicritic(string):\n",
    "    return unidecode.unidecode(string)"
   ]
  },
  {
   "cell_type": "code",
   "execution_count": 70,
   "metadata": {
    "id": "MRQBb4TJAe6P"
   },
   "outputs": [],
   "source": [
    "# replace the dicritic characters in \"company_parent\", \"company\", \"brand\",\n",
    "# \"description\", and \"ingredients_stdlist\"\n",
    "data.loc[:, \"company_parent\"] = data.company_parent.apply(replace_dicritic)\n",
    "data.loc[:, \"company\"] = data.company.apply(replace_dicritic)\n",
    "data.loc[:, \"brand\"] = data.brand.apply(replace_dicritic)\n",
    "data.loc[:, \"description\"] = data.description.apply(replace_dicritic)\n",
    "data.loc[:, \"ingredients_stdlist\"] = data.ingredients_stdlist.apply(replace_dicritic)"
   ]
  },
  {
   "cell_type": "code",
   "execution_count": 71,
   "metadata": {
    "id": "bNZrowcaBE-e"
   },
   "outputs": [
    {
     "name": "stdout",
     "output_type": "stream",
     "text": [
      "<class 'pandas.core.frame.DataFrame'>\n",
      "RangeIndex: 7525 entries, 0 to 7524\n",
      "Data columns (total 15 columns):\n",
      " #   Column                Non-Null Count  Dtype         \n",
      "---  ------                --------------  -----         \n",
      " 0   date                  7525 non-null   datetime64[ns]\n",
      " 1   variant               7525 non-null   object        \n",
      " 2   description           7525 non-null   object        \n",
      " 3   ingredients_stdlist   7525 non-null   object        \n",
      " 4   price_usd             7525 non-null   float64       \n",
      " 5   company_parent        7525 non-null   object        \n",
      " 6   company               7525 non-null   object        \n",
      " 7   brand                 7525 non-null   object        \n",
      " 8   total_pack_size_ml_g  7525 non-null   float64       \n",
      " 9   unit_pack_size_ml_g   7525 non-null   float64       \n",
      " 10  year                  7525 non-null   int64         \n",
      " 11  ratio                 7525 non-null   float64       \n",
      " 12  pet_type              7525 non-null   object        \n",
      " 13  meal_type             7525 non-null   object        \n",
      " 14  food_type             7525 non-null   object        \n",
      "dtypes: datetime64[ns](1), float64(4), int64(1), object(9)\n",
      "memory usage: 882.0+ KB\n"
     ]
    }
   ],
   "source": [
    "# get a description of the cleaned data\n",
    "data.info()"
   ]
  },
  {
   "cell_type": "markdown",
   "metadata": {
    "id": "jUs-J-Sfjt-F"
   },
   "source": [
    "### Visualizations"
   ]
  },
  {
   "cell_type": "code",
   "execution_count": 72,
   "metadata": {
    "id": "nRNzNFwsj3Cv"
   },
   "outputs": [],
   "source": [
    "# get the observations for Colgate only\n",
    "colgate_only = data[data.company_parent.apply(lambda x: \"colgate\" in x.lower())]"
   ]
  },
  {
   "cell_type": "code",
   "execution_count": 73,
   "metadata": {
    "id": "vdAM5r64eOtw"
   },
   "outputs": [],
   "source": [
    "# perform a Box-Cox transformation on price_usd\n",
    "box_cox = ss.boxcox(data.price_usd)"
   ]
  },
  {
   "cell_type": "markdown",
   "metadata": {
    "id": "VQrLcikrcEMg"
   },
   "source": [
    "Boxplots"
   ]
  },
  {
   "cell_type": "code",
   "execution_count": 74,
   "metadata": {
    "id": "G7ejtR3lcKHQ"
   },
   "outputs": [],
   "source": [
    "# boxplot for cat vs dog\n",
    "fig1 = px.box(data, x=\"pet_type\", y=\"price_usd\")\n",
    "fig2 = px.box(colgate_only, x=\"pet_type\", y=\"price_usd\", category_orders={\"pet_type\": [\"cat\", \"dog\"]})\n",
    "\n",
    "# boxplot for primary food vs treats\n",
    "fig3 = px.box(data, x=\"meal_type\", y=\"price_usd\")\n",
    "fig4 = px.box(colgate_only, x=\"meal_type\", y=\"price_usd\")\n",
    "\n",
    "# boxplot for dry vs wet food\n",
    "fig5 = px.box(data, x=\"food_type\", y=\"price_usd\")\n",
    "fig6 = px.box(colgate_only, x=\"food_type\", y=\"price_usd\", category_orders={\"food_type\": [\"dry\", \"wet\"]})\n",
    "\n",
    "# boxplot for year\n",
    "fig7 = px.box(data, x=\"year\", y=\"price_usd\")"
   ]
  },
  {
   "cell_type": "markdown",
   "metadata": {
    "id": "9bwKL178dXim"
   },
   "source": [
    "Histograms"
   ]
  },
  {
   "cell_type": "code",
   "execution_count": 75,
   "metadata": {
    "id": "yN8o-R8Vdb8z"
   },
   "outputs": [],
   "source": [
    "# histogram of price\n",
    "fig8 = px.histogram(data.price_usd)\n",
    "\n",
    "# histogram of price with Box-Cox transformation\n",
    "fig9 = px.histogram(box_cox[0], nbins=50)"
   ]
  },
  {
   "cell_type": "markdown",
   "metadata": {
    "id": "yCpef8Uag0uL"
   },
   "source": [
    "Scatter Plots"
   ]
  },
  {
   "cell_type": "code",
   "execution_count": 76,
   "metadata": {
    "id": "c7-N1v29g4Aa"
   },
   "outputs": [],
   "source": [
    "# scatter plot of price vs unit pack size\n",
    "fig10 = px.scatter(data.loc[~data.unit_pack_size_ml_g.isna(), :], x=\"unit_pack_size_ml_g\", y=\"price_usd\", trendline=\"ols\", trendline_color_override=\"orange\", range_y=[-2, 37])"
   ]
  },
  {
   "cell_type": "markdown",
   "metadata": {
    "id": "SRTPUHIchSMZ"
   },
   "source": [
    "### Text Transformations"
   ]
  },
  {
   "cell_type": "code",
   "execution_count": 77,
   "metadata": {
    "id": "awi77x_HhYFa"
   },
   "outputs": [],
   "source": [
    "# get the first word in every ingredient list\n",
    "first_ingredient = data.ingredients_stdlist.str.split(\",\").apply(lambda x: x[0])\n",
    "first_ingredient = first_ingredient.str.split(\" \").apply(lambda x: x[0])\n",
    "first_ingredient = first_ingredient.str.split(\":\").apply(lambda x: x[0].lower())"
   ]
  },
  {
   "cell_type": "code",
   "execution_count": 78,
   "metadata": {
    "id": "poey8hLaWKds"
   },
   "outputs": [
    {
     "data": {
      "text/plain": [
       "chicken    1871\n",
       "wheat       675\n",
       "beef        568\n",
       "corn        412\n",
       "water       350\n",
       "turkey      289\n",
       "salmon      249\n",
       "lamb        225\n",
       "rice        203\n",
       "duck        115\n",
       "Name: ingredients_stdlist, dtype: int64"
      ]
     },
     "execution_count": 78,
     "metadata": {},
     "output_type": "execute_result"
    }
   ],
   "source": [
    "# look at the top 10 words by frequency count\n",
    "first_ingredient.value_counts()[:10]"
   ]
  },
  {
   "cell_type": "code",
   "execution_count": 79,
   "metadata": {
    "id": "fxUIqlyxWM_5"
   },
   "outputs": [],
   "source": [
    "# create a function that filters the first_ingredient Series to\n",
    "# 5 possible words\n",
    "def first_word(string):\n",
    "    if string == \"chicken\" or string == \"wheat\" or string == \"beef\" or string == \"corn\":\n",
    "        return string\n",
    "    else:\n",
    "        return \"other\""
   ]
  },
  {
   "cell_type": "code",
   "execution_count": 80,
   "metadata": {
    "id": "20_brQ9_WPsD"
   },
   "outputs": [],
   "source": [
    "# add a first_ingredient column to the dataset\n",
    "data[\"first_ingredient\"] =  first_ingredient.apply(first_word)"
   ]
  },
  {
   "cell_type": "markdown",
   "metadata": {
    "id": "H_P0d7VZWS3b"
   },
   "source": [
    "TFIDF"
   ]
  },
  {
   "cell_type": "markdown",
   "metadata": {
    "id": "lJXpHBM7sUrf"
   },
   "source": [
    "During testing, we discovered that using a TFIDF matrix with more than ~400 features in our regression models caused instability, resulting in errors that were $10^6$ or greater. To improve performance, we set max_features=400 in our TfidfVectorizer()."
   ]
  },
  {
   "cell_type": "code",
   "execution_count": 81,
   "metadata": {
    "id": "VlhU0GlmWVl3"
   },
   "outputs": [],
   "source": [
    "# instantiate the TFIDF vectorizer\n",
    "vectorizer = TfidfVectorizer(stop_words=stopwords.words(\"english\"), max_features=400)\n",
    "\n",
    "# transform the product descriptions in a TFIDF matrix\n",
    "vectors = vectorizer.fit_transform(data.description)\n",
    "\n",
    "# convert the TFIDF matrix into a dataframe\n",
    "tfidf = pd.DataFrame(vectors.todense().tolist(), columns=vectorizer.get_feature_names())\n",
    "\n",
    "# manually remove any remaining stop words\n",
    "tfidf.drop(columns=[\"10\", \"100\", \"12\", \"13\", \"14\", \"15\", \"16\", \"20\", \"24\", \"25\", \"50\", \"also\", \"lb\", \"lbs\", \"oz\"], inplace=True)"
   ]
  },
  {
   "cell_type": "markdown",
   "metadata": {
    "id": "Q2ss2WrSWeGa"
   },
   "source": [
    "Convert categorical variables to one-hot vectors"
   ]
  },
  {
   "cell_type": "code",
   "execution_count": 82,
   "metadata": {
    "id": "wrii0QLUWjex"
   },
   "outputs": [],
   "source": [
    "# get all of the categorical variables in one dataframe\n",
    "cat_vars = data[[\"pet_type\", \"meal_type\", \"food_type\", \"first_ingredient\"]]\n",
    "\n",
    "# transform the categorical variables into one-hot vectors\n",
    "one_hot = pd.get_dummies(cat_vars, prefix=\"category\")"
   ]
  },
  {
   "cell_type": "markdown",
   "metadata": {
    "id": "eggl3mXoXyAp"
   },
   "source": [
    "### Combine all of the engineered features and create training and testing sets"
   ]
  },
  {
   "cell_type": "code",
   "execution_count": 83,
   "metadata": {
    "id": "P6EYeGLs60I2"
   },
   "outputs": [
    {
     "data": {
      "text/html": [
       "<div>\n",
       "<style scoped>\n",
       "    .dataframe tbody tr th:only-of-type {\n",
       "        vertical-align: middle;\n",
       "    }\n",
       "\n",
       "    .dataframe tbody tr th {\n",
       "        vertical-align: top;\n",
       "    }\n",
       "\n",
       "    .dataframe thead th {\n",
       "        text-align: right;\n",
       "    }\n",
       "</style>\n",
       "<table border=\"1\" class=\"dataframe\">\n",
       "  <thead>\n",
       "    <tr style=\"text-align: right;\">\n",
       "      <th></th>\n",
       "      <th>total_pack_size_ml_g</th>\n",
       "      <th>unit_pack_size_ml_g</th>\n",
       "      <th>ratio</th>\n",
       "    </tr>\n",
       "  </thead>\n",
       "  <tbody>\n",
       "    <tr>\n",
       "      <th>0</th>\n",
       "      <td>3175.20</td>\n",
       "      <td>3175.20</td>\n",
       "      <td>1.0</td>\n",
       "    </tr>\n",
       "    <tr>\n",
       "      <th>1</th>\n",
       "      <td>10886.40</td>\n",
       "      <td>10886.40</td>\n",
       "      <td>1.0</td>\n",
       "    </tr>\n",
       "    <tr>\n",
       "      <th>2</th>\n",
       "      <td>4445.28</td>\n",
       "      <td>4445.28</td>\n",
       "      <td>1.0</td>\n",
       "    </tr>\n",
       "    <tr>\n",
       "      <th>3</th>\n",
       "      <td>4898.88</td>\n",
       "      <td>4898.88</td>\n",
       "      <td>1.0</td>\n",
       "    </tr>\n",
       "    <tr>\n",
       "      <th>4</th>\n",
       "      <td>6123.60</td>\n",
       "      <td>6123.60</td>\n",
       "      <td>1.0</td>\n",
       "    </tr>\n",
       "    <tr>\n",
       "      <th>...</th>\n",
       "      <td>...</td>\n",
       "      <td>...</td>\n",
       "      <td>...</td>\n",
       "    </tr>\n",
       "    <tr>\n",
       "      <th>7520</th>\n",
       "      <td>708.75</td>\n",
       "      <td>708.75</td>\n",
       "      <td>1.0</td>\n",
       "    </tr>\n",
       "    <tr>\n",
       "      <th>7521</th>\n",
       "      <td>708.75</td>\n",
       "      <td>708.75</td>\n",
       "      <td>1.0</td>\n",
       "    </tr>\n",
       "    <tr>\n",
       "      <th>7522</th>\n",
       "      <td>708.75</td>\n",
       "      <td>708.75</td>\n",
       "      <td>1.0</td>\n",
       "    </tr>\n",
       "    <tr>\n",
       "      <th>7523</th>\n",
       "      <td>708.75</td>\n",
       "      <td>708.75</td>\n",
       "      <td>1.0</td>\n",
       "    </tr>\n",
       "    <tr>\n",
       "      <th>7524</th>\n",
       "      <td>708.75</td>\n",
       "      <td>708.75</td>\n",
       "      <td>1.0</td>\n",
       "    </tr>\n",
       "  </tbody>\n",
       "</table>\n",
       "<p>7525 rows × 3 columns</p>\n",
       "</div>"
      ],
      "text/plain": [
       "      total_pack_size_ml_g  unit_pack_size_ml_g  ratio\n",
       "0                  3175.20              3175.20    1.0\n",
       "1                 10886.40             10886.40    1.0\n",
       "2                  4445.28              4445.28    1.0\n",
       "3                  4898.88              4898.88    1.0\n",
       "4                  6123.60              6123.60    1.0\n",
       "...                    ...                  ...    ...\n",
       "7520                708.75               708.75    1.0\n",
       "7521                708.75               708.75    1.0\n",
       "7522                708.75               708.75    1.0\n",
       "7523                708.75               708.75    1.0\n",
       "7524                708.75               708.75    1.0\n",
       "\n",
       "[7525 rows x 3 columns]"
      ]
     },
     "execution_count": 83,
     "metadata": {},
     "output_type": "execute_result"
    }
   ],
   "source": [
    "# gather all of the pack size columns\n",
    "sizes = data[[\"total_pack_size_ml_g\", \"unit_pack_size_ml_g\", \"ratio\"]]\n",
    "sizes"
   ]
  },
  {
   "cell_type": "code",
   "execution_count": null,
   "metadata": {
    "id": "aZ1PUCTHho1t"
   },
   "outputs": [],
   "source": []
  },
  {
   "cell_type": "code",
   "execution_count": 84,
   "metadata": {
    "id": "kMEY6yCUWycr"
   },
   "outputs": [],
   "source": [
    "# combine the 1hot dataframe with the TFIDF dataframe\n",
    "X = pd.concat([one_hot, sizes, tfidf], axis=1)\n",
    "\n",
    "# create a target variable for the Box-Cox transformed prices\n",
    "y = box_cox[0]"
   ]
  },
  {
   "cell_type": "code",
   "execution_count": 85,
   "metadata": {},
   "outputs": [],
   "source": [
    "# create stratified training and testing sets\n",
    "# box-cox prices\n",
    "X_train, X_test, y_train, y_test = train_test_split(X, y, train_size=0.8, stratify=data.pet_type, random_state=38)\n",
    "\n",
    "# original prices\n",
    "X_train_org, X_test_org, y_train_org, y_test_org = train_test_split(X, data.price_usd, train_size=0.8, stratify=data.pet_type, random_state=38)"
   ]
  },
  {
   "cell_type": "code",
   "execution_count": 86,
   "metadata": {},
   "outputs": [
    {
     "data": {
      "text/plain": [
       "((6020, 399), (1505, 399), (6020,), (1505,))"
      ]
     },
     "execution_count": 86,
     "metadata": {},
     "output_type": "execute_result"
    }
   ],
   "source": [
    "X_train.shape, X_test.shape, y_train.shape, y_test.shape"
   ]
  },
  {
   "cell_type": "code",
   "execution_count": 87,
   "metadata": {},
   "outputs": [
    {
     "data": {
      "text/plain": [
       "((6020, 399), (1505, 399), (6020,), (1505,))"
      ]
     },
     "execution_count": 87,
     "metadata": {},
     "output_type": "execute_result"
    }
   ],
   "source": [
    "X_train_org.shape, X_test_org.shape, y_train_org.shape, y_test_org.shape"
   ]
  },
  {
   "cell_type": "code",
   "execution_count": 88,
   "metadata": {
    "id": "r5suSPhjW9sJ"
   },
   "outputs": [
    {
     "data": {
      "text/plain": [
       "((7525, 399), (7525,))"
      ]
     },
     "execution_count": 88,
     "metadata": {},
     "output_type": "execute_result"
    }
   ],
   "source": [
    "X.shape, y.shape"
   ]
  },
  {
   "cell_type": "markdown",
   "metadata": {},
   "source": [
    "### Modeling"
   ]
  },
  {
   "cell_type": "markdown",
   "metadata": {},
   "source": [
    "Train a Random Forest Regressor using a cross-validated random grid search."
   ]
  },
  {
   "cell_type": "code",
   "execution_count": 89,
   "metadata": {},
   "outputs": [
    {
     "data": {
      "text/plain": [
       "{'max_depth': [10, 20, 30, 40, 50, 60, 70, 80, 90, 100, None],\n",
       " 'max_features': ['auto', 'sqrt'],\n",
       " 'min_samples_leaf': [5, 10, 15, 20, 25, 30, 35, 40, 45, 50],\n",
       " 'n_estimators': [100, 200, 300, 400, 500, 600, 700, 800, 900, 1000]}"
      ]
     },
     "execution_count": 89,
     "metadata": {},
     "output_type": "execute_result"
    }
   ],
   "source": [
    "# set up a parameter grid for random grid search\n",
    "# max number of levels per tree\n",
    "max_depth = [int(x) for x in np.linspace(10, 100, num = 10)]\n",
    "max_depth.append(None)\n",
    "\n",
    "# min number of samples required at each leaf node\n",
    "min_samples_leaf = [int(x) for x in np.linspace(5, 50, num = 10)]\n",
    "\n",
    "# number of trees in the random forest\n",
    "n_estimators = [int(x) for x in np.linspace(100, 1000, num = 10)]\n",
    "\n",
    "random_grid = {\"max_depth\": max_depth,\n",
    "               \"max_features\": [\"auto\", \"sqrt\"],\n",
    "               \"min_samples_leaf\": min_samples_leaf,\n",
    "               \"n_estimators\": n_estimators}\n",
    "random_grid"
   ]
  },
  {
   "cell_type": "code",
   "execution_count": 34,
   "metadata": {},
   "outputs": [
    {
     "data": {
      "text/plain": [
       "{'n_estimators': 400,\n",
       " 'min_samples_leaf': 5,\n",
       " 'max_features': 'auto',\n",
       " 'max_depth': 60}"
      ]
     },
     "execution_count": 34,
     "metadata": {},
     "output_type": "execute_result"
    }
   ],
   "source": [
    "# instantiate a RandomForestRegressor\n",
    "forest_reg = RandomForestRegressor()\n",
    "\n",
    "# instantiate a RandomizedSearchCV\n",
    "random_search = RandomizedSearchCV(forest_reg, random_grid,\n",
    "                                   n_iter=100, cv=5, n_jobs = 50,\n",
    "                                   scoring=\"neg_mean_squared_error\")\n",
    "\n",
    "# conduct a random search\n",
    "random_search.fit(X_train_org, y_train_org)\n",
    "\n",
    "# view the results of our random search\n",
    "random_search.best_params_"
   ]
  },
  {
   "cell_type": "code",
   "execution_count": 35,
   "metadata": {},
   "outputs": [
    {
     "data": {
      "text/plain": [
       "2.9626938007732293"
      ]
     },
     "execution_count": 35,
     "metadata": {},
     "output_type": "execute_result"
    }
   ],
   "source": [
    "# get the predicted y values\n",
    "ypred = random_search.best_estimator_.predict(X_test_org)\n",
    "\n",
    "# calculate the RMSE of the RandomForestRegressor model\n",
    "rmse = mean_squared_error(y_test_org, ypred, squared=False)\n",
    "rmse"
   ]
  },
  {
   "cell_type": "markdown",
   "metadata": {},
   "source": [
    "Train a Random Forest Regressor using a cross-validated grid search."
   ]
  },
  {
   "cell_type": "code",
   "execution_count": 36,
   "metadata": {},
   "outputs": [
    {
     "data": {
      "text/plain": [
       "{'max_depth': [40, 45, 50, 55, 60],\n",
       " 'min_samples_leaf': [3],\n",
       " 'n_estimators': [700, 750, 800, 850, 900]}"
      ]
     },
     "execution_count": 36,
     "metadata": {},
     "output_type": "execute_result"
    }
   ],
   "source": [
    "# set up a parameter grid for grid search\n",
    "search_grid = {\"max_depth\": [40, 45, 50, 55, 60],\n",
    "               \"min_samples_leaf\": [3],\n",
    "               \"n_estimators\": [700, 750, 800, 850, 900]}\n",
    "search_grid"
   ]
  },
  {
   "cell_type": "code",
   "execution_count": 37,
   "metadata": {},
   "outputs": [
    {
     "name": "stderr",
     "output_type": "stream",
     "text": [
      "e:\\Users\\prade\\anaconda3\\lib\\site-packages\\joblib\\externals\\loky\\process_executor.py:688: UserWarning:\n",
      "\n",
      "A worker stopped while some jobs were given to the executor. This can be caused by a too short worker timeout or by a memory leak.\n",
      "\n"
     ]
    },
    {
     "data": {
      "text/plain": [
       "{'max_depth': 40, 'min_samples_leaf': 3, 'n_estimators': 900}"
      ]
     },
     "execution_count": 37,
     "metadata": {},
     "output_type": "execute_result"
    }
   ],
   "source": [
    "# instantiate a RandomForestRegressor\n",
    "forest_reg = RandomForestRegressor()\n",
    "\n",
    "# instantiate a GridSearchCV\n",
    "grid_search = GridSearchCV(forest_reg, search_grid,\n",
    "                             cv=5, n_jobs=50,\n",
    "                             scoring=\"neg_mean_squared_error\")\n",
    "\n",
    "# conduct a grid search\n",
    "grid_search.fit(X_train_org, y_train_org)\n",
    "\n",
    "# view the results of our grid search\n",
    "grid_search.best_params_"
   ]
  },
  {
   "cell_type": "code",
   "execution_count": 38,
   "metadata": {},
   "outputs": [
    {
     "data": {
      "text/plain": [
       "2.9041119842547443"
      ]
     },
     "execution_count": 38,
     "metadata": {},
     "output_type": "execute_result"
    }
   ],
   "source": [
    "# get the predicted y values\n",
    "ypred = grid_search.best_estimator_.predict(X_test_org)\n",
    "\n",
    "# calculate the RMSE of the RandomForestRegressor model\n",
    "rmse = mean_squared_error(y_test_org, ypred, squared=False)\n",
    "rmse"
   ]
  },
  {
   "cell_type": "markdown",
   "metadata": {},
   "source": [
    "Polynomial regression with Box-Cox transformed prices"
   ]
  },
  {
   "cell_type": "code",
   "execution_count": 91,
   "metadata": {},
   "outputs": [],
   "source": [
    "# define a custom polynomial regression function\n",
    "def PolynomialRegression(degree=2, **kwargs):\n",
    "    return make_pipeline(PolynomialFeatures(degree),\n",
    "                         LinearRegression(**kwargs))"
   ]
  },
  {
   "cell_type": "code",
   "execution_count": 92,
   "metadata": {},
   "outputs": [
    {
     "data": {
      "text/plain": [
       "{'polynomialfeatures__degree': array([ 1,  2,  3,  4,  5,  6,  7,  8,  9, 10, 11, 12, 13, 14, 15, 16, 17,\n",
       "        18, 19, 20]),\n",
       " 'linearregression__fit_intercept': [True, False],\n",
       " 'linearregression__normalize': [True, False]}"
      ]
     },
     "execution_count": 92,
     "metadata": {},
     "output_type": "execute_result"
    }
   ],
   "source": [
    "# set up a parameter grid for grid search\n",
    "search_grid = {\"polynomialfeatures__degree\": np.arange(1, 21),\n",
    "               \"linearregression__fit_intercept\": [True, False],\n",
    "               \"linearregression__normalize\": [True, False]}\n",
    "search_grid"
   ]
  },
  {
   "cell_type": "code",
   "execution_count": null,
   "metadata": {},
   "outputs": [],
   "source": [
    "# instantiate a GridSearchCV\n",
    "grid_search = GridSearchCV(PolynomialRegression(), search_grid,\n",
    "                           cv=5, n_jobs=50,\n",
    "                           scoring=\"neg_mean_squared_error\")\n",
    "\n",
    "# conduct a grid search\n",
    "grid_search.fit(X_train, y_train)\n",
    "\n",
    "# view the results of our grid search\n",
    "grid_search.best_params_"
   ]
  },
  {
   "cell_type": "code",
   "execution_count": null,
   "metadata": {},
   "outputs": [],
   "source": [
    "# get the predicted y values\n",
    "ypred = grid_search.best_estimator_.predict(X_test)\n",
    "\n",
    "# calculate the RMSE of the RandomForestRegressor model\n",
    "rmse = mean_squared_error(y_test, ypred, squared=False)\n",
    "\n",
    "# reverse the box-cox transformation to get the rmse in dollars\n",
    "inv_boxcox(rmse, box_cox[1])"
   ]
  },
  {
   "cell_type": "markdown",
   "metadata": {},
   "source": [
    "Standardize the training and testing data"
   ]
  },
  {
   "cell_type": "code",
   "execution_count": null,
   "metadata": {},
   "outputs": [],
   "source": [
    "# standardize the training and testing data\n",
    "scaler = StandardScaler()\n",
    "X_train_std = scaler.fit_transform(X_train)\n",
    "X_test_std = scaler.fit_transform(X_test)"
   ]
  },
  {
   "cell_type": "markdown",
   "metadata": {},
   "source": [
    "Ridge regression with Box-Cox transformed prices"
   ]
  },
  {
   "cell_type": "code",
   "execution_count": null,
   "metadata": {},
   "outputs": [],
   "source": [
    "# set up a parameter grid for grid search\n",
    "search_grid = {\"alpha\": np.logspace(-6, 4, 11),\n",
    "               \"fit_intercept\": [True, False]}\n",
    "\n",
    "# instantiate a Ridge\n",
    "ridge_reg = Ridge()\n",
    "\n",
    "# instantiate a GridSearch\n",
    "grid_search = GridSearchCV(ridge_reg, search_grid,\n",
    "                           cv=5, n_jobs=50,\n",
    "                           scoring=\"neg_mean_squared_error\")\n",
    "\n",
    "# conduct a grid search\n",
    "grid_search.fit(X_train_std, y_train)\n",
    "\n",
    "# view the results of our grid search\n",
    "grid_search.best_params_"
   ]
  },
  {
   "cell_type": "code",
   "execution_count": null,
   "metadata": {},
   "outputs": [],
   "source": [
    "# get the predicted y values\n",
    "ypred = grid_search.best_estimator_.predict(X_test_std)\n",
    "\n",
    "# calculate the RMSE of the RandomForestRegressor model\n",
    "rmse = mean_squared_error(y_test, ypred, squared=False)\n",
    "\n",
    "# reverse the box-cox transformation to get the rmse in dollars\n",
    "inv_boxcox(rmse, box_cox[1])"
   ]
  },
  {
   "cell_type": "markdown",
   "metadata": {},
   "source": [
    "LASSO regression with Box-Cox transformed prices"
   ]
  },
  {
   "cell_type": "code",
   "execution_count": null,
   "metadata": {},
   "outputs": [],
   "source": [
    "# set up a parameter grid for grid search\n",
    "search_grid = {\"alpha\": np.logspace(-3, -1, 100)}\n",
    "               #\"fit_intercept\": [True, False]}\n",
    "\n",
    "# instantiate a Lasso\n",
    "lasso_reg = Lasso()\n",
    "\n",
    "# instantiate a GridSearch\n",
    "grid_search = GridSearchCV(lasso_reg, search_grid,\n",
    "                           cv=5, n_jobs=50,\n",
    "                           scoring=\"neg_mean_squared_error\")\n",
    "\n",
    "# conduct a grid search\n",
    "grid_search.fit(X_train_std, y_train)\n",
    "\n",
    "# view the results of our grid search\n",
    "grid_search.best_params_"
   ]
  },
  {
   "cell_type": "code",
   "execution_count": null,
   "metadata": {},
   "outputs": [],
   "source": [
    "# get the predicted y values\n",
    "ypred = grid_search.best_estimator_.predict(X_test_std)\n",
    "\n",
    "# calculate the RMSE of the RandomForestRegressor model\n",
    "rmse = mean_squared_error(y_test, ypred, squared=False)\n",
    "\n",
    "# reverse the box-cox transformation to get the rmse in dollars\n",
    "inv_boxcox(rmse, box_cox[1])"
   ]
  },
  {
   "cell_type": "markdown",
   "metadata": {},
   "source": [
    "ElasticNet regression with Box-Cox transformed prices"
   ]
  },
  {
   "cell_type": "code",
   "execution_count": null,
   "metadata": {},
   "outputs": [],
   "source": [
    "# set up a parameter grid for grid search\n",
    "search_grid = {\"alpha\": np.logspace(-6, 4, 11),\n",
    "               \"l1_ratio\": np.linspace(0.2, 0.8, 4)}\n",
    "\n",
    "# instantiate a ElasticNet\n",
    "elastic_reg = ElasticNet()\n",
    "\n",
    "# instantiate a GridSearch\n",
    "grid_search = GridSearchCV(elastic_reg, search_grid,\n",
    "                           cv=5, n_jobs=50,\n",
    "                           scoring=\"neg_mean_squared_error\")\n",
    "\n",
    "# conduct a grid search\n",
    "grid_search.fit(X_train_std, y_train)\n",
    "\n",
    "# view the results of our grid search\n",
    "grid_search.best_params_"
   ]
  },
  {
   "cell_type": "code",
   "execution_count": null,
   "metadata": {},
   "outputs": [],
   "source": [
    "# get the predicted y values\n",
    "ypred = grid_search.best_estimator_.predict(X_test_std)\n",
    "\n",
    "# calculate the RMSE of the RandomForestRegressor model\n",
    "rmse = mean_squared_error(y_test, ypred, squared=False)\n",
    "\n",
    "# reverse the box-cox transformation to get the rmse in dollars\n",
    "inv_boxcox(rmse, box_cox[1])"
   ]
  },
  {
   "cell_type": "markdown",
   "metadata": {
    "id": "4LRmdzS0YC51"
   },
   "source": [
    "### Predictive Price Modeling"
   ]
  },
  {
   "cell_type": "markdown",
   "metadata": {
    "id": "6px9i71oucf-"
   },
   "source": [
    "Optimal Model Implementation"
   ]
  },
  {
   "cell_type": "code",
   "execution_count": 33,
   "metadata": {
    "id": "Oct0leMr7jJJ"
   },
   "outputs": [
    {
     "data": {
      "text/plain": [
       "(7525, 399)"
      ]
     },
     "execution_count": 33,
     "metadata": {},
     "output_type": "execute_result"
    }
   ],
   "source": [
    "# standardize the dataset\n",
    "scaler = StandardScaler()\n",
    "X_std = scaler.fit_transform(X)\n",
    "X_std.shape"
   ]
  },
  {
   "cell_type": "code",
   "execution_count": 34,
   "metadata": {
    "id": "khMv1Vwm8CA1"
   },
   "outputs": [
    {
     "data": {
      "text/plain": [
       "Lasso(alpha=0.006428)"
      ]
     },
     "execution_count": 34,
     "metadata": {},
     "output_type": "execute_result"
    }
   ],
   "source": [
    "# instantiate a LASSO regressor with optimal hyperparameters\n",
    "lasso_reg = Lasso(alpha=0.006428)\n",
    "\n",
    "# train the LASSO regressor on the full dataset\n",
    "lasso_reg.fit(X_std, y)"
   ]
  },
  {
   "cell_type": "code",
   "execution_count": 35,
   "metadata": {
    "id": "n5BEdzUB9m2J"
   },
   "outputs": [],
   "source": [
    "# get the predicted prices\n",
    "pred = lasso_reg.predict(X_std)\n",
    "\n",
    "# reverse the box-cox transformation to get the predicted prices in dollars\n",
    "pred_usd = inv_boxcox(pred, box_cox[1])"
   ]
  },
  {
   "cell_type": "markdown",
   "metadata": {
    "id": "WFKTBN7O9GuO"
   },
   "source": [
    "Visualizations"
   ]
  },
  {
   "cell_type": "code",
   "execution_count": 36,
   "metadata": {
    "id": "XvW4WGU59JVt"
   },
   "outputs": [],
   "source": [
    "import matplotlib.pyplot as plt\n",
    "import seaborn as sns\n",
    "sns.set()"
   ]
  },
  {
   "cell_type": "code",
   "execution_count": 37,
   "metadata": {
    "id": "X_murxL_9L6v"
   },
   "outputs": [],
   "source": [
    "# put the coefficients in a Series with their respective names\n",
    "coef = pd.Series(lasso_reg.coef_, index=X.columns.values)\n",
    "\n",
    "# sort the values in place, descending\n",
    "coef.sort_values(ascending=False, inplace=True)\n",
    "\n",
    "# get the top 20 and bottom 20\n",
    "top20_bottom20 = pd.concat([coef[:20], coef[-20:]])"
   ]
  },
  {
   "cell_type": "code",
   "execution_count": 38,
   "metadata": {
    "id": "hq_NXzNn9bCI"
   },
   "outputs": [
    {
     "name": "stderr",
     "output_type": "stream",
     "text": [
      "e:\\Users\\prade\\anaconda3\\lib\\site-packages\\seaborn\\_decorators.py:36: FutureWarning:\n",
      "\n",
      "Pass the following variables as keyword args: x, y. From version 0.12, the only valid positional argument will be `data`, and passing other arguments without an explicit keyword will result in an error or misinterpretation.\n",
      "\n"
     ]
    },
    {
     "data": {
      "image/png": "[encoded data removed]",
      "text/plain": [
       "<Figure size 648x864 with 1 Axes>"
      ]
     },
     "metadata": {},
     "output_type": "display_data"
    }
   ],
   "source": [
    "plt.figure(figsize=(9, 12))\n",
    "sns.barplot(top20_bottom20.values, top20_bottom20.index.values,\n",
    "            orient=\"h\", palette='coolwarm')\n",
    "plt.xlim(-0.5, 0.7)\n",
    "plt.xticks(fontsize=13)\n",
    "plt.yticks(fontsize=13)\n",
    "plt.title(\"Top 20 Largest and Bottom 20 Smallest Coefficients\", fontsize=14);"
   ]
  },
  {
   "cell_type": "code",
   "execution_count": 39,
   "metadata": {
    "id": "LBkCT-IP9c-X"
   },
   "outputs": [
    {
     "data": {
      "image/png": "[encoded data removed]",
      "text/plain": [
       "<Figure size 1152x648 with 1 Axes>"
      ]
     },
     "metadata": {},
     "output_type": "display_data"
    }
   ],
   "source": [
    "plt.figure(figsize=(16, 9))\n",
    "plt.scatter(np.arange(0, 7525), pred_usd, alpha=0.5, label=\"Predicted\")\n",
    "plt.scatter(np.arange(0, 7525), data.price_usd, alpha=0.25, label=\"Actual\")\n",
    "plt.legend();"
   ]
  },
  {
   "cell_type": "code",
   "execution_count": null,
   "metadata": {
    "id": "9yMdc9Bpho1v"
   },
   "outputs": [],
   "source": []
  },
  {
   "cell_type": "markdown",
   "metadata": {
    "id": "BE6lrJwTho1v"
   },
   "source": [
    "## Grouping  Models"
   ]
  },
  {
   "cell_type": "markdown",
   "metadata": {
    "id": "59lJmTonho1v"
   },
   "source": [
    "### PCA Analysis"
   ]
  },
  {
   "cell_type": "code",
   "execution_count": 40,
   "metadata": {
    "id": "7yr7tRfQho1v"
   },
   "outputs": [],
   "source": [
    "from sklearn.decomposition import PCA\n",
    "pca = PCA(n_components=2)\n",
    "pca.fit(X_std)\n",
    "PCA(n_components=2)\n",
    "principalComponents = pca.fit_transform(X_std)"
   ]
  },
  {
   "cell_type": "code",
   "execution_count": 41,
   "metadata": {
    "id": "t5tCC8aIho1v"
   },
   "outputs": [
    {
     "data": {
      "text/html": [
       "<div>\n",
       "<style scoped>\n",
       "    .dataframe tbody tr th:only-of-type {\n",
       "        vertical-align: middle;\n",
       "    }\n",
       "\n",
       "    .dataframe tbody tr th {\n",
       "        vertical-align: top;\n",
       "    }\n",
       "\n",
       "    .dataframe thead th {\n",
       "        text-align: right;\n",
       "    }\n",
       "</style>\n",
       "<table border=\"1\" class=\"dataframe\">\n",
       "  <thead>\n",
       "    <tr style=\"text-align: right;\">\n",
       "      <th></th>\n",
       "      <th>principal component 1</th>\n",
       "      <th>principal component 2</th>\n",
       "    </tr>\n",
       "  </thead>\n",
       "  <tbody>\n",
       "    <tr>\n",
       "      <th>0</th>\n",
       "      <td>9.536710</td>\n",
       "      <td>-2.036607</td>\n",
       "    </tr>\n",
       "    <tr>\n",
       "      <th>1</th>\n",
       "      <td>5.588011</td>\n",
       "      <td>-0.481284</td>\n",
       "    </tr>\n",
       "    <tr>\n",
       "      <th>2</th>\n",
       "      <td>6.753303</td>\n",
       "      <td>-1.275004</td>\n",
       "    </tr>\n",
       "    <tr>\n",
       "      <th>3</th>\n",
       "      <td>8.292336</td>\n",
       "      <td>-1.736302</td>\n",
       "    </tr>\n",
       "    <tr>\n",
       "      <th>4</th>\n",
       "      <td>7.256012</td>\n",
       "      <td>-0.239056</td>\n",
       "    </tr>\n",
       "    <tr>\n",
       "      <th>...</th>\n",
       "      <td>...</td>\n",
       "      <td>...</td>\n",
       "    </tr>\n",
       "    <tr>\n",
       "      <th>7520</th>\n",
       "      <td>-3.876366</td>\n",
       "      <td>-1.126442</td>\n",
       "    </tr>\n",
       "    <tr>\n",
       "      <th>7521</th>\n",
       "      <td>-3.349671</td>\n",
       "      <td>-0.584816</td>\n",
       "    </tr>\n",
       "    <tr>\n",
       "      <th>7522</th>\n",
       "      <td>-3.701532</td>\n",
       "      <td>-0.417609</td>\n",
       "    </tr>\n",
       "    <tr>\n",
       "      <th>7523</th>\n",
       "      <td>-3.714592</td>\n",
       "      <td>-1.497926</td>\n",
       "    </tr>\n",
       "    <tr>\n",
       "      <th>7524</th>\n",
       "      <td>-3.234909</td>\n",
       "      <td>-0.511798</td>\n",
       "    </tr>\n",
       "  </tbody>\n",
       "</table>\n",
       "<p>7525 rows × 2 columns</p>\n",
       "</div>"
      ],
      "text/plain": [
       "      principal component 1  principal component 2\n",
       "0                  9.536710              -2.036607\n",
       "1                  5.588011              -0.481284\n",
       "2                  6.753303              -1.275004\n",
       "3                  8.292336              -1.736302\n",
       "4                  7.256012              -0.239056\n",
       "...                     ...                    ...\n",
       "7520              -3.876366              -1.126442\n",
       "7521              -3.349671              -0.584816\n",
       "7522              -3.701532              -0.417609\n",
       "7523              -3.714592              -1.497926\n",
       "7524              -3.234909              -0.511798\n",
       "\n",
       "[7525 rows x 2 columns]"
      ]
     },
     "execution_count": 41,
     "metadata": {},
     "output_type": "execute_result"
    }
   ],
   "source": [
    "principalDF = pd.DataFrame(data = principalComponents, columns = ['principal component 1', 'principal component 2'] )\n",
    "principalDF"
   ]
  },
  {
   "cell_type": "markdown",
   "metadata": {
    "id": "dPUN0hQLho1w"
   },
   "source": [
    "PCA for meal type"
   ]
  },
  {
   "cell_type": "code",
   "execution_count": 42,
   "metadata": {
    "id": "b-cdfQVNho1w"
   },
   "outputs": [
    {
     "data": {
      "text/html": [
       "<div>\n",
       "<style scoped>\n",
       "    .dataframe tbody tr th:only-of-type {\n",
       "        vertical-align: middle;\n",
       "    }\n",
       "\n",
       "    .dataframe tbody tr th {\n",
       "        vertical-align: top;\n",
       "    }\n",
       "\n",
       "    .dataframe thead th {\n",
       "        text-align: right;\n",
       "    }\n",
       "</style>\n",
       "<table border=\"1\" class=\"dataframe\">\n",
       "  <thead>\n",
       "    <tr style=\"text-align: right;\">\n",
       "      <th></th>\n",
       "      <th>principal component 1</th>\n",
       "      <th>principal component 2</th>\n",
       "      <th>meal_type</th>\n",
       "    </tr>\n",
       "  </thead>\n",
       "  <tbody>\n",
       "    <tr>\n",
       "      <th>0</th>\n",
       "      <td>9.536710</td>\n",
       "      <td>-2.036607</td>\n",
       "      <td>primary</td>\n",
       "    </tr>\n",
       "    <tr>\n",
       "      <th>1</th>\n",
       "      <td>5.588011</td>\n",
       "      <td>-0.481284</td>\n",
       "      <td>primary</td>\n",
       "    </tr>\n",
       "    <tr>\n",
       "      <th>2</th>\n",
       "      <td>6.753303</td>\n",
       "      <td>-1.275004</td>\n",
       "      <td>primary</td>\n",
       "    </tr>\n",
       "    <tr>\n",
       "      <th>3</th>\n",
       "      <td>8.292336</td>\n",
       "      <td>-1.736302</td>\n",
       "      <td>primary</td>\n",
       "    </tr>\n",
       "    <tr>\n",
       "      <th>4</th>\n",
       "      <td>7.256012</td>\n",
       "      <td>-0.239056</td>\n",
       "      <td>primary</td>\n",
       "    </tr>\n",
       "    <tr>\n",
       "      <th>...</th>\n",
       "      <td>...</td>\n",
       "      <td>...</td>\n",
       "      <td>...</td>\n",
       "    </tr>\n",
       "    <tr>\n",
       "      <th>7520</th>\n",
       "      <td>-3.876366</td>\n",
       "      <td>-1.126442</td>\n",
       "      <td>treats</td>\n",
       "    </tr>\n",
       "    <tr>\n",
       "      <th>7521</th>\n",
       "      <td>-3.349671</td>\n",
       "      <td>-0.584816</td>\n",
       "      <td>treats</td>\n",
       "    </tr>\n",
       "    <tr>\n",
       "      <th>7522</th>\n",
       "      <td>-3.701532</td>\n",
       "      <td>-0.417609</td>\n",
       "      <td>treats</td>\n",
       "    </tr>\n",
       "    <tr>\n",
       "      <th>7523</th>\n",
       "      <td>-3.714592</td>\n",
       "      <td>-1.497926</td>\n",
       "      <td>treats</td>\n",
       "    </tr>\n",
       "    <tr>\n",
       "      <th>7524</th>\n",
       "      <td>-3.234909</td>\n",
       "      <td>-0.511798</td>\n",
       "      <td>treats</td>\n",
       "    </tr>\n",
       "  </tbody>\n",
       "</table>\n",
       "<p>7525 rows × 3 columns</p>\n",
       "</div>"
      ],
      "text/plain": [
       "      principal component 1  principal component 2 meal_type\n",
       "0                  9.536710              -2.036607   primary\n",
       "1                  5.588011              -0.481284   primary\n",
       "2                  6.753303              -1.275004   primary\n",
       "3                  8.292336              -1.736302   primary\n",
       "4                  7.256012              -0.239056   primary\n",
       "...                     ...                    ...       ...\n",
       "7520              -3.876366              -1.126442    treats\n",
       "7521              -3.349671              -0.584816    treats\n",
       "7522              -3.701532              -0.417609    treats\n",
       "7523              -3.714592              -1.497926    treats\n",
       "7524              -3.234909              -0.511798    treats\n",
       "\n",
       "[7525 rows x 3 columns]"
      ]
     },
     "execution_count": 42,
     "metadata": {},
     "output_type": "execute_result"
    }
   ],
   "source": [
    "finalDF_mealType = pd.concat([principalDF, data[[\"meal_type\"]]], axis = 1)\n",
    "finalDF_mealType"
   ]
  },
  {
   "cell_type": "code",
   "execution_count": 43,
   "metadata": {
    "id": "9W3nqANJho1w"
   },
   "outputs": [
    {
     "data": {
      "image/png": "[encoded data removed]",
      "text/plain": [
       "<Figure size 576x576 with 1 Axes>"
      ]
     },
     "metadata": {},
     "output_type": "display_data"
    }
   ],
   "source": [
    "# visualizing PCA\n",
    "fig = plt.figure(figsize = (8, 8))\n",
    "ax = fig.add_subplot(1, 1, 1)\n",
    "ax.set_xlabel('Principal Component 1', fontsize = 15)\n",
    "ax.set_ylabel('Principal Component 2', fontsize = 15)\n",
    "ax.set_title('2 component PCA', fontsize = 20)\n",
    "targets = [\"treats\", \"primary\"]\n",
    "colors = ['r', 'g']\n",
    "for target, color in zip(targets, colors):\n",
    "    indx = finalDF_mealType['meal_type'] == target\n",
    "    ax.scatter(finalDF_mealType.loc[indx, 'principal component 1'],\n",
    "              finalDF_mealType.loc[indx, 'principal component 2'],\n",
    "             c = color, s = 50)\n",
    "ax.legend(targets)\n",
    "ax.grid()"
   ]
  },
  {
   "cell_type": "markdown",
   "metadata": {},
   "source": [
    "PCA for foodtype"
   ]
  },
  {
   "cell_type": "code",
   "execution_count": 44,
   "metadata": {
    "id": "3bH6Zvazho1w"
   },
   "outputs": [
    {
     "data": {
      "text/html": [
       "<div>\n",
       "<style scoped>\n",
       "    .dataframe tbody tr th:only-of-type {\n",
       "        vertical-align: middle;\n",
       "    }\n",
       "\n",
       "    .dataframe tbody tr th {\n",
       "        vertical-align: top;\n",
       "    }\n",
       "\n",
       "    .dataframe thead th {\n",
       "        text-align: right;\n",
       "    }\n",
       "</style>\n",
       "<table border=\"1\" class=\"dataframe\">\n",
       "  <thead>\n",
       "    <tr style=\"text-align: right;\">\n",
       "      <th></th>\n",
       "      <th>principal component 1</th>\n",
       "      <th>principal component 2</th>\n",
       "      <th>food_type</th>\n",
       "    </tr>\n",
       "  </thead>\n",
       "  <tbody>\n",
       "    <tr>\n",
       "      <th>0</th>\n",
       "      <td>9.536710</td>\n",
       "      <td>-2.036607</td>\n",
       "      <td>dry</td>\n",
       "    </tr>\n",
       "    <tr>\n",
       "      <th>1</th>\n",
       "      <td>5.588011</td>\n",
       "      <td>-0.481284</td>\n",
       "      <td>dry</td>\n",
       "    </tr>\n",
       "    <tr>\n",
       "      <th>2</th>\n",
       "      <td>6.753303</td>\n",
       "      <td>-1.275004</td>\n",
       "      <td>dry</td>\n",
       "    </tr>\n",
       "    <tr>\n",
       "      <th>3</th>\n",
       "      <td>8.292336</td>\n",
       "      <td>-1.736302</td>\n",
       "      <td>dry</td>\n",
       "    </tr>\n",
       "    <tr>\n",
       "      <th>4</th>\n",
       "      <td>7.256012</td>\n",
       "      <td>-0.239056</td>\n",
       "      <td>dry</td>\n",
       "    </tr>\n",
       "    <tr>\n",
       "      <th>...</th>\n",
       "      <td>...</td>\n",
       "      <td>...</td>\n",
       "      <td>...</td>\n",
       "    </tr>\n",
       "    <tr>\n",
       "      <th>7520</th>\n",
       "      <td>-3.876366</td>\n",
       "      <td>-1.126442</td>\n",
       "      <td>wet</td>\n",
       "    </tr>\n",
       "    <tr>\n",
       "      <th>7521</th>\n",
       "      <td>-3.349671</td>\n",
       "      <td>-0.584816</td>\n",
       "      <td>wet</td>\n",
       "    </tr>\n",
       "    <tr>\n",
       "      <th>7522</th>\n",
       "      <td>-3.701532</td>\n",
       "      <td>-0.417609</td>\n",
       "      <td>wet</td>\n",
       "    </tr>\n",
       "    <tr>\n",
       "      <th>7523</th>\n",
       "      <td>-3.714592</td>\n",
       "      <td>-1.497926</td>\n",
       "      <td>wet</td>\n",
       "    </tr>\n",
       "    <tr>\n",
       "      <th>7524</th>\n",
       "      <td>-3.234909</td>\n",
       "      <td>-0.511798</td>\n",
       "      <td>wet</td>\n",
       "    </tr>\n",
       "  </tbody>\n",
       "</table>\n",
       "<p>7525 rows × 3 columns</p>\n",
       "</div>"
      ],
      "text/plain": [
       "      principal component 1  principal component 2 food_type\n",
       "0                  9.536710              -2.036607       dry\n",
       "1                  5.588011              -0.481284       dry\n",
       "2                  6.753303              -1.275004       dry\n",
       "3                  8.292336              -1.736302       dry\n",
       "4                  7.256012              -0.239056       dry\n",
       "...                     ...                    ...       ...\n",
       "7520              -3.876366              -1.126442       wet\n",
       "7521              -3.349671              -0.584816       wet\n",
       "7522              -3.701532              -0.417609       wet\n",
       "7523              -3.714592              -1.497926       wet\n",
       "7524              -3.234909              -0.511798       wet\n",
       "\n",
       "[7525 rows x 3 columns]"
      ]
     },
     "execution_count": 44,
     "metadata": {},
     "output_type": "execute_result"
    }
   ],
   "source": [
    "finalDF_foodType = pd.concat([principalDF, data[[\"food_type\"]]], axis = 1)\n",
    "finalDF_foodType"
   ]
  },
  {
   "cell_type": "code",
   "execution_count": 45,
   "metadata": {
    "id": "3n8p0o6Nho10"
   },
   "outputs": [
    {
     "data": {
      "image/png": "[encoded data removed]",
      "text/plain": [
       "<Figure size 576x576 with 1 Axes>"
      ]
     },
     "metadata": {},
     "output_type": "display_data"
    }
   ],
   "source": [
    "fig = plt.figure(figsize = (8, 8))\n",
    "ax = fig.add_subplot(1, 1, 1)\n",
    "ax.set_xlabel('Principal Component 1', fontsize = 15)\n",
    "ax.set_ylabel('Principal Component 2', fontsize = 15)\n",
    "ax.set_title('2 component PCA', fontsize = 20)\n",
    "targets = [\"dry\", \"wet\"]\n",
    "colors = ['r', 'g']\n",
    "for target, color in zip(targets, colors):\n",
    "    indx = finalDF_foodType['food_type'] == target\n",
    "    ax.scatter(finalDF_foodType.loc[indx, 'principal component 1'],\n",
    "              finalDF_foodType.loc[indx, 'principal component 2'],\n",
    "             c = color, s = 50)\n",
    "ax.legend(targets)\n",
    "ax.grid()"
   ]
  },
  {
   "cell_type": "markdown",
   "metadata": {},
   "source": [
    "### Doc2Vec Analysis Using Cosine Similarity \n",
    "#### this shows how similar a new description document is to the other existing documents"
   ]
  },
  {
   "cell_type": "code",
   "execution_count": 46,
   "metadata": {},
   "outputs": [
    {
     "data": {
      "text/plain": [
       "16"
      ]
     },
     "execution_count": 46,
     "metadata": {},
     "output_type": "execute_result"
    }
   ],
   "source": [
    "import multiprocessing\n",
    "multiprocessing.cpu_count()"
   ]
  },
  {
   "cell_type": "code",
   "execution_count": 47,
   "metadata": {},
   "outputs": [],
   "source": [
    "import gensim\n",
    "import smart_open\n",
    "## Using Gensim package reading in the corpus\n",
    "def read_corpus(set):       \n",
    "    for i, line in enumerate(set):\n",
    "        tokens = gensim.utils.simple_preprocess(line)\n",
    "        yield gensim.models.doc2vec.TaggedDocument(tokens, [i])\n",
    "corpus = list(read_corpus(data.description))"
   ]
  },
  {
   "cell_type": "code",
   "execution_count": 48,
   "metadata": {},
   "outputs": [],
   "source": [
    "# Building the doc to vec model \n",
    "model = gensim.models.doc2vec.Doc2Vec(vector_size=50, min_count=2, epochs=40)\n",
    "model.build_vocab(corpus)"
   ]
  },
  {
   "cell_type": "code",
   "execution_count": 49,
   "metadata": {},
   "outputs": [],
   "source": [
    "model.train(corpus, total_examples=model.corpus_count, epochs=model.epochs)"
   ]
  },
  {
   "cell_type": "code",
   "execution_count": 50,
   "metadata": {},
   "outputs": [
    {
     "data": {
      "text/plain": [
       "[(3463, 0.5539951324462891),\n",
       " (57, 0.5201994180679321),\n",
       " (6631, 0.49968865513801575),\n",
       " (3551, 0.4995674788951874),\n",
       " (5087, 0.4870215654373169),\n",
       " (4741, 0.4795186519622803),\n",
       " (3065, 0.4770912528038025),\n",
       " (7175, 0.4749254584312439),\n",
       " (3894, 0.4723932147026062),\n",
       " (5841, 0.46966710686683655),\n",
       " (3496, 0.46847429871559143),\n",
       " (264, 0.46824538707733154),\n",
       " (6524, 0.45801663398742676),\n",
       " (2649, 0.4579361081123352),\n",
       " (6528, 0.4577024579048157),\n",
       " (813, 0.45717936754226685),\n",
       " (1836, 0.45604461431503296),\n",
       " (2704, 0.4533000588417053),\n",
       " (6599, 0.4485663175582886),\n",
       " (3688, 0.4415930211544037),\n",
       " (6532, 0.43899938464164734),\n",
       " (1994, 0.43849560618400574),\n",
       " (3754, 0.43808233737945557),\n",
       " (3561, 0.4374725818634033),\n",
       " (4029, 0.435762882232666),\n",
       " (3538, 0.43211033940315247),\n",
       " (4707, 0.4320213794708252),\n",
       " (40, 0.4316774606704712),\n",
       " (397, 0.4316163659095764),\n",
       " (3330, 0.42987748980522156),\n",
       " (6539, 0.4292253255844116),\n",
       " (2660, 0.425568163394928),\n",
       " (5361, 0.4251677393913269),\n",
       " (603, 0.42478033900260925),\n",
       " (3966, 0.42456698417663574),\n",
       " (6608, 0.42426347732543945),\n",
       " (3244, 0.4210151135921478),\n",
       " (659, 0.4204254746437073),\n",
       " (592, 0.41986948251724243),\n",
       " (826, 0.41844069957733154),\n",
       " (134, 0.41668638586997986),\n",
       " (5680, 0.41593605279922485),\n",
       " (6720, 0.4156508445739746),\n",
       " (6148, 0.4148158133029938),\n",
       " (6835, 0.41425734758377075),\n",
       " (827, 0.4128521978855133),\n",
       " (2407, 0.4100506901741028),\n",
       " (7043, 0.4100015163421631),\n",
       " (5627, 0.409690797328949),\n",
       " (3969, 0.40933775901794434),\n",
       " (5608, 0.40734928846359253),\n",
       " (2418, 0.40548157691955566),\n",
       " (3278, 0.40534794330596924),\n",
       " (7174, 0.40420103073120117),\n",
       " (7249, 0.4030909836292267),\n",
       " (3879, 0.39907270669937134),\n",
       " (4061, 0.3984795808792114),\n",
       " (4128, 0.3981930613517761),\n",
       " (6540, 0.39777156710624695),\n",
       " (2579, 0.3976289629936218),\n",
       " (5761, 0.3964574337005615),\n",
       " (3189, 0.3940396010875702),\n",
       " (5626, 0.3932494521141052),\n",
       " (820, 0.3922503888607025),\n",
       " (6207, 0.3916947841644287),\n",
       " (2522, 0.39151355624198914),\n",
       " (3436, 0.39036667346954346),\n",
       " (1741, 0.3890281319618225),\n",
       " (2869, 0.3877444863319397),\n",
       " (3045, 0.38734906911849976),\n",
       " (6600, 0.38683632016181946),\n",
       " (3477, 0.3847312927246094),\n",
       " (5051, 0.3838427662849426),\n",
       " (2066, 0.383695125579834),\n",
       " (7108, 0.38361072540283203),\n",
       " (5833, 0.3830660879611969),\n",
       " (6884, 0.38290542364120483),\n",
       " (472, 0.3823573887348175),\n",
       " (2005, 0.3815736472606659),\n",
       " (2848, 0.3812294602394104),\n",
       " (4054, 0.3807387351989746),\n",
       " (2497, 0.38014140725135803),\n",
       " (6530, 0.3799252510070801),\n",
       " (2457, 0.37926721572875977),\n",
       " (3160, 0.3774256706237793),\n",
       " (4764, 0.37732994556427),\n",
       " (4417, 0.37684696912765503),\n",
       " (832, 0.37616628408432007),\n",
       " (2274, 0.3757184147834778),\n",
       " (1866, 0.3746238648891449),\n",
       " (4639, 0.37413763999938965),\n",
       " (492, 0.372329443693161),\n",
       " (1252, 0.3721003532409668),\n",
       " (4294, 0.37202513217926025),\n",
       " (6534, 0.3716410994529724),\n",
       " (3205, 0.3707141876220703),\n",
       " (2671, 0.3704085052013397),\n",
       " (933, 0.369899183511734),\n",
       " (3304, 0.3698514699935913),\n",
       " (5850, 0.3692832589149475)]"
      ]
     },
     "execution_count": 50,
     "metadata": {},
     "output_type": "execute_result"
    }
   ],
   "source": [
    "# Pick a random document from the corpus and infer a vector from the model\n",
    "String ='Tibbles & Bits brand organic dog food is naturally gluten and grain-free, and provides your pet with the best variety of raw ingredients. Follow us on Facebook to see all of our cookies, chews, and jerky.'\n",
    "tokens = gensim.utils.simple_preprocess(String)\n",
    "inferred_vector = model.infer_vector(tokens)\n",
    "## choose the top 100 most similar documents with biggest to smallest cosine smilarity score\n",
    "sims = model.docvecs.most_similar([inferred_vector], topn=100)\n",
    "sims"
   ]
  },
  {
   "cell_type": "code",
   "execution_count": 51,
   "metadata": {},
   "outputs": [
    {
     "data": {
      "text/html": [
       "<div>\n",
       "<style scoped>\n",
       "    .dataframe tbody tr th:only-of-type {\n",
       "        vertical-align: middle;\n",
       "    }\n",
       "\n",
       "    .dataframe tbody tr th {\n",
       "        vertical-align: top;\n",
       "    }\n",
       "\n",
       "    .dataframe thead th {\n",
       "        text-align: right;\n",
       "    }\n",
       "</style>\n",
       "<table border=\"1\" class=\"dataframe\">\n",
       "  <thead>\n",
       "    <tr style=\"text-align: right;\">\n",
       "      <th></th>\n",
       "      <th>date</th>\n",
       "      <th>variant</th>\n",
       "      <th>description</th>\n",
       "      <th>ingredients_stdlist</th>\n",
       "      <th>price_usd</th>\n",
       "      <th>company_parent</th>\n",
       "      <th>company</th>\n",
       "      <th>brand</th>\n",
       "      <th>total_pack_size_ml_g</th>\n",
       "      <th>unit_pack_size_ml_g</th>\n",
       "      <th>year</th>\n",
       "      <th>ratio</th>\n",
       "      <th>pet_type</th>\n",
       "      <th>meal_type</th>\n",
       "      <th>food_type</th>\n",
       "      <th>first_ingredient</th>\n",
       "    </tr>\n",
       "  </thead>\n",
       "  <tbody>\n",
       "    <tr>\n",
       "      <th>3463</th>\n",
       "      <td>2009-03-20</td>\n",
       "      <td>Organic Dog Biscuits</td>\n",
       "      <td>Robbie Dawg Organic Dog Biscuits are available...</td>\n",
       "      <td>Brown Rice (Organic), Flour, organic baby bars...</td>\n",
       "      <td>9.99</td>\n",
       "      <td>Robbie Dawg</td>\n",
       "      <td>Robbie Dawg</td>\n",
       "      <td>Robbie Dawg</td>\n",
       "      <td>283.50</td>\n",
       "      <td>283.50</td>\n",
       "      <td>2009</td>\n",
       "      <td>1.0</td>\n",
       "      <td>dog</td>\n",
       "      <td>treats</td>\n",
       "      <td>wet</td>\n",
       "      <td>other</td>\n",
       "    </tr>\n",
       "    <tr>\n",
       "      <th>57</th>\n",
       "      <td>2014-05-24</td>\n",
       "      <td>Grain-Free Chicken Wing &amp; Thigh Dinner with Fr...</td>\n",
       "      <td>Castor &amp; Pollux Natural Petworks Organix Butch...</td>\n",
       "      <td>Chicken Meat (Organic), Water for Processing (...</td>\n",
       "      <td>1.88</td>\n",
       "      <td>Castor &amp; Pollux Natural PetWorks</td>\n",
       "      <td>Castor &amp; Pollux Natural PetWorks</td>\n",
       "      <td>Castor &amp; Pollux Natural Petworks Organix Butch...</td>\n",
       "      <td>360.05</td>\n",
       "      <td>360.05</td>\n",
       "      <td>2014</td>\n",
       "      <td>1.0</td>\n",
       "      <td>dog</td>\n",
       "      <td>primary</td>\n",
       "      <td>wet</td>\n",
       "      <td>chicken</td>\n",
       "    </tr>\n",
       "    <tr>\n",
       "      <th>6631</th>\n",
       "      <td>2006-11-09</td>\n",
       "      <td>Beef Flavored Puppy Food</td>\n",
       "      <td>Nature's Best Beef Flavored Puppy Food is said...</td>\n",
       "      <td>Brewers Rice, Chicken Meal (Meal), ground whol...</td>\n",
       "      <td>8.49</td>\n",
       "      <td>Colgate-Palmolive</td>\n",
       "      <td>Hill's Pet Nutrition</td>\n",
       "      <td>Nature's Best</td>\n",
       "      <td>2041.20</td>\n",
       "      <td>2041.20</td>\n",
       "      <td>2006</td>\n",
       "      <td>1.0</td>\n",
       "      <td>dog</td>\n",
       "      <td>primary</td>\n",
       "      <td>dry</td>\n",
       "      <td>other</td>\n",
       "    </tr>\n",
       "    <tr>\n",
       "      <th>3551</th>\n",
       "      <td>2005-03-28</td>\n",
       "      <td>Organic Peanut Butter Dog Treats</td>\n",
       "      <td>Meyer Bellyrubs Organic Dog Treats are now ava...</td>\n",
       "      <td>Brown Rice Flour (Organic), Barley Flour (Orga...</td>\n",
       "      <td>6.99</td>\n",
       "      <td>Meyer Country Farms</td>\n",
       "      <td>Meyer Country Farms</td>\n",
       "      <td>Meyer Bellyrubs</td>\n",
       "      <td>283.50</td>\n",
       "      <td>283.50</td>\n",
       "      <td>2005</td>\n",
       "      <td>1.0</td>\n",
       "      <td>dog</td>\n",
       "      <td>treats</td>\n",
       "      <td>wet</td>\n",
       "      <td>other</td>\n",
       "    </tr>\n",
       "    <tr>\n",
       "      <th>5087</th>\n",
       "      <td>2017-08-31</td>\n",
       "      <td>Assort Mutt Trio Bakery for Dogs</td>\n",
       "      <td>Three Dog Bakery Assort Mutt Trio Bakery for D...</td>\n",
       "      <td>oats and apple:\\nWheat Flour, Glycerol, Low Er...</td>\n",
       "      <td>7.76</td>\n",
       "      <td>Three Dog Bakery</td>\n",
       "      <td>Three Dog Bakery</td>\n",
       "      <td>Three Dog Bakery</td>\n",
       "      <td>907.20</td>\n",
       "      <td>907.20</td>\n",
       "      <td>2017</td>\n",
       "      <td>1.0</td>\n",
       "      <td>dog</td>\n",
       "      <td>treats</td>\n",
       "      <td>wet</td>\n",
       "      <td>other</td>\n",
       "    </tr>\n",
       "  </tbody>\n",
       "</table>\n",
       "</div>"
      ],
      "text/plain": [
       "           date                                            variant  \\\n",
       "3463 2009-03-20                               Organic Dog Biscuits   \n",
       "57   2014-05-24  Grain-Free Chicken Wing & Thigh Dinner with Fr...   \n",
       "6631 2006-11-09                           Beef Flavored Puppy Food   \n",
       "3551 2005-03-28                   Organic Peanut Butter Dog Treats   \n",
       "5087 2017-08-31                   Assort Mutt Trio Bakery for Dogs   \n",
       "\n",
       "                                            description  \\\n",
       "3463  Robbie Dawg Organic Dog Biscuits are available...   \n",
       "57    Castor & Pollux Natural Petworks Organix Butch...   \n",
       "6631  Nature's Best Beef Flavored Puppy Food is said...   \n",
       "3551  Meyer Bellyrubs Organic Dog Treats are now ava...   \n",
       "5087  Three Dog Bakery Assort Mutt Trio Bakery for D...   \n",
       "\n",
       "                                    ingredients_stdlist  price_usd  \\\n",
       "3463  Brown Rice (Organic), Flour, organic baby bars...       9.99   \n",
       "57    Chicken Meat (Organic), Water for Processing (...       1.88   \n",
       "6631  Brewers Rice, Chicken Meal (Meal), ground whol...       8.49   \n",
       "3551  Brown Rice Flour (Organic), Barley Flour (Orga...       6.99   \n",
       "5087  oats and apple:\\nWheat Flour, Glycerol, Low Er...       7.76   \n",
       "\n",
       "                        company_parent                           company  \\\n",
       "3463                       Robbie Dawg                       Robbie Dawg   \n",
       "57    Castor & Pollux Natural PetWorks  Castor & Pollux Natural PetWorks   \n",
       "6631                 Colgate-Palmolive              Hill's Pet Nutrition   \n",
       "3551               Meyer Country Farms               Meyer Country Farms   \n",
       "5087                  Three Dog Bakery                  Three Dog Bakery   \n",
       "\n",
       "                                                  brand  total_pack_size_ml_g  \\\n",
       "3463                                        Robbie Dawg                283.50   \n",
       "57    Castor & Pollux Natural Petworks Organix Butch...                360.05   \n",
       "6631                                      Nature's Best               2041.20   \n",
       "3551                                    Meyer Bellyrubs                283.50   \n",
       "5087                                   Three Dog Bakery                907.20   \n",
       "\n",
       "      unit_pack_size_ml_g  year  ratio pet_type meal_type food_type  \\\n",
       "3463               283.50  2009    1.0      dog    treats       wet   \n",
       "57                 360.05  2014    1.0      dog   primary       wet   \n",
       "6631              2041.20  2006    1.0      dog   primary       dry   \n",
       "3551               283.50  2005    1.0      dog    treats       wet   \n",
       "5087               907.20  2017    1.0      dog    treats       wet   \n",
       "\n",
       "     first_ingredient  \n",
       "3463            other  \n",
       "57            chicken  \n",
       "6631            other  \n",
       "3551            other  \n",
       "5087            other  "
      ]
     },
     "execution_count": 51,
     "metadata": {},
     "output_type": "execute_result"
    }
   ],
   "source": [
    "# get the index of the most similar documents from the tuple sims object\n",
    "# first is index second is cosine similarity score\n",
    "inds=[i[0] for i in sims]\n",
    "# create a new dataframe with these new index of top 100 most similar documents\n",
    "data_new = data.loc[inds]\n",
    "data_new.head()"
   ]
  },
  {
   "cell_type": "code",
   "execution_count": 52,
   "metadata": {},
   "outputs": [
    {
     "name": "stdout",
     "output_type": "stream",
     "text": [
      "3463    Robbie Dawg Organic Dog Biscuits are available...\n",
      "57      Castor & Pollux Natural Petworks Organix Butch...\n",
      "6631    Nature's Best Beef Flavored Puppy Food is said...\n",
      "3551    Meyer Bellyrubs Organic Dog Treats are now ava...\n",
      "5087    Three Dog Bakery Assort Mutt Trio Bakery for D...\n",
      "Name: description, dtype: object\n",
      "3463                         Robbie Dawg\n",
      "57      Castor & Pollux Natural PetWorks\n",
      "6631                Hill's Pet Nutrition\n",
      "3551                 Meyer Country Farms\n",
      "5087                    Three Dog Bakery\n",
      "Name: company, dtype: object\n"
     ]
    }
   ],
   "source": [
    "# get the top 5 most similar documents with the given index \n",
    "top5 = data_new[:5]\n",
    "# get the top 5 most similar pet food descriptions\n",
    "print(top5.description)\n",
    "# get the top 5 most similar pet food company\n",
    "print(top5.company)"
   ]
  },
  {
   "cell_type": "code",
   "execution_count": 53,
   "metadata": {},
   "outputs": [
    {
     "data": {
      "text/plain": [
       "count    10.000000\n",
       "mean      6.856000\n",
       "std       3.046044\n",
       "min       1.880000\n",
       "25%       5.240000\n",
       "50%       7.375000\n",
       "75%       8.365000\n",
       "max      11.690000\n",
       "Name: price_usd, dtype: float64"
      ]
     },
     "execution_count": 53,
     "metadata": {},
     "output_type": "execute_result"
    }
   ],
   "source": [
    "# get the summary statistic of the sales price of top 10 most similar documents\n",
    "data_new[:10].price_usd.describe()"
   ]
  }
 ],
 "metadata": {
  "colab": {
   "collapsed_sections": [],
   "name": "Capstone_Project.ipynb",
   "provenance": [],
   "toc_visible": true
  },
  "kernelspec": {
   "display_name": "Python 3",
   "language": "python",
   "name": "python3"
  },
  "language_info": {
   "codemirror_mode": {
    "name": "ipython",
    "version": 3
   },
   "file_extension": ".py",
   "mimetype": "text/x-python",
   "name": "python",
   "nbconvert_exporter": "python",
   "pygments_lexer": "ipython3",
   "version": "3.8.5"
  }
 },
 "nbformat": 4,
 "nbformat_minor": 1
}
